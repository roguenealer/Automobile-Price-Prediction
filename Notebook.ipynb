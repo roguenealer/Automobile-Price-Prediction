{
 "cells": [
  {
   "cell_type": "code",
   "execution_count": 423,
   "metadata": {},
   "outputs": [],
   "source": [
    "import pandas as pd\n",
    "import numpy as np\n",
    "import matplotlib.pyplot as plt\n",
    "import seaborn as sns"
   ]
  },
  {
   "cell_type": "code",
   "execution_count": 424,
   "metadata": {},
   "outputs": [],
   "source": [
    "info = '''\n",
    "  1. symboling:                -3, -2, -1, 0, 1, 2, 3.\n",
    "  2. normalized-losses:        continuous from 65 to 256.\n",
    "  3. make:                     alfa-romero, audi, bmw, chevrolet, dodge, honda,\n",
    "                               isuzu, jaguar, mazda, mercedes-benz, mercury,\n",
    "                               mitsubishi, nissan, peugot, plymouth, porsche,\n",
    "                               renault, saab, subaru, toyota, volkswagen, volvo\n",
    "  4. fuel-type:                diesel, gas.\n",
    "  5. aspiration:               std, turbo.\n",
    "  6. num-of-doors:             four, two.\n",
    "  7. body-style:               hardtop, wagon, sedan, hatchback, convertible.\n",
    "  8. drive-wheels:             4wd, fwd, rwd.\n",
    "  9. engine-location:          front, rear.\n",
    " 10. wheel-base:               continuous from 86.6 120.9.\n",
    " 11. length:                   continuous from 141.1 to 208.1.\n",
    " 12. width:                    continuous from 60.3 to 72.3.\n",
    " 13. height:                   continuous from 47.8 to 59.8.\n",
    " 14. curb-weight:              continuous from 1488 to 4066.\n",
    " 15. engine-type:              dohc, dohcv, l, ohc, ohcf, ohcv, rotor.\n",
    " 16. num-of-cylinders:         eight, five, four, six, three, twelve, two.\n",
    " 17. engine-size:              continuous from 61 to 326.\n",
    " 18. fuel-system:              1bbl, 2bbl, 4bbl, idi, mfi, mpfi, spdi, spfi.\n",
    " 19. bore:                     continuous from 2.54 to 3.94.\n",
    " 20. stroke:                   continuous from 2.07 to 4.17.\n",
    " 21. compression-ratio:        continuous from 7 to 23.\n",
    " 22. horsepower:               continuous from 48 to 288.\n",
    " 23. peak-rpm:                 continuous from 4150 to 6600.\n",
    " 24. city-mpg:                 continuous from 13 to 49.\n",
    " 25. highway-mpg:              continuous from 16 to 54.\n",
    " 26. price:                    continuous from 5118 to 45400.\n",
    "'''"
   ]
  },
  {
   "cell_type": "code",
   "execution_count": 425,
   "metadata": {},
   "outputs": [],
   "source": [
    "cols =['symboling','normalized-losses','make','fuel-type','aspiration','num-of-doors','body-style','drive-wheels','engine-location','wheel-base','length','width','height','curb-weight','engine-type','num-of-cylinders','engine-size','fuel-system','bore','stroke','compression-ratio','horsepower','peak-rpm','city-mpg','highway-mpg','price']"
   ]
  },
  {
   "cell_type": "code",
   "execution_count": 426,
   "metadata": {},
   "outputs": [],
   "source": [
    "df = pd.read_csv('automobile_data.csv', names = cols)"
   ]
  },
  {
   "cell_type": "code",
   "execution_count": 427,
   "metadata": {},
   "outputs": [
    {
     "data": {
      "text/html": [
       "<div>\n",
       "<style scoped>\n",
       "    .dataframe tbody tr th:only-of-type {\n",
       "        vertical-align: middle;\n",
       "    }\n",
       "\n",
       "    .dataframe tbody tr th {\n",
       "        vertical-align: top;\n",
       "    }\n",
       "\n",
       "    .dataframe thead th {\n",
       "        text-align: right;\n",
       "    }\n",
       "</style>\n",
       "<table border=\"1\" class=\"dataframe\">\n",
       "  <thead>\n",
       "    <tr style=\"text-align: right;\">\n",
       "      <th></th>\n",
       "      <th>symboling</th>\n",
       "      <th>normalized-losses</th>\n",
       "      <th>make</th>\n",
       "      <th>fuel-type</th>\n",
       "      <th>aspiration</th>\n",
       "      <th>num-of-doors</th>\n",
       "      <th>body-style</th>\n",
       "      <th>drive-wheels</th>\n",
       "      <th>engine-location</th>\n",
       "      <th>wheel-base</th>\n",
       "      <th>...</th>\n",
       "      <th>engine-size</th>\n",
       "      <th>fuel-system</th>\n",
       "      <th>bore</th>\n",
       "      <th>stroke</th>\n",
       "      <th>compression-ratio</th>\n",
       "      <th>horsepower</th>\n",
       "      <th>peak-rpm</th>\n",
       "      <th>city-mpg</th>\n",
       "      <th>highway-mpg</th>\n",
       "      <th>price</th>\n",
       "    </tr>\n",
       "  </thead>\n",
       "  <tbody>\n",
       "    <tr>\n",
       "      <th>0</th>\n",
       "      <td>3</td>\n",
       "      <td>?</td>\n",
       "      <td>alfa-romero</td>\n",
       "      <td>gas</td>\n",
       "      <td>std</td>\n",
       "      <td>two</td>\n",
       "      <td>convertible</td>\n",
       "      <td>rwd</td>\n",
       "      <td>front</td>\n",
       "      <td>88.6</td>\n",
       "      <td>...</td>\n",
       "      <td>130</td>\n",
       "      <td>mpfi</td>\n",
       "      <td>3.47</td>\n",
       "      <td>2.68</td>\n",
       "      <td>9.0</td>\n",
       "      <td>111</td>\n",
       "      <td>5000</td>\n",
       "      <td>21</td>\n",
       "      <td>27</td>\n",
       "      <td>13495</td>\n",
       "    </tr>\n",
       "    <tr>\n",
       "      <th>1</th>\n",
       "      <td>3</td>\n",
       "      <td>?</td>\n",
       "      <td>alfa-romero</td>\n",
       "      <td>gas</td>\n",
       "      <td>std</td>\n",
       "      <td>two</td>\n",
       "      <td>convertible</td>\n",
       "      <td>rwd</td>\n",
       "      <td>front</td>\n",
       "      <td>88.6</td>\n",
       "      <td>...</td>\n",
       "      <td>130</td>\n",
       "      <td>mpfi</td>\n",
       "      <td>3.47</td>\n",
       "      <td>2.68</td>\n",
       "      <td>9.0</td>\n",
       "      <td>111</td>\n",
       "      <td>5000</td>\n",
       "      <td>21</td>\n",
       "      <td>27</td>\n",
       "      <td>16500</td>\n",
       "    </tr>\n",
       "    <tr>\n",
       "      <th>2</th>\n",
       "      <td>1</td>\n",
       "      <td>?</td>\n",
       "      <td>alfa-romero</td>\n",
       "      <td>gas</td>\n",
       "      <td>std</td>\n",
       "      <td>two</td>\n",
       "      <td>hatchback</td>\n",
       "      <td>rwd</td>\n",
       "      <td>front</td>\n",
       "      <td>94.5</td>\n",
       "      <td>...</td>\n",
       "      <td>152</td>\n",
       "      <td>mpfi</td>\n",
       "      <td>2.68</td>\n",
       "      <td>3.47</td>\n",
       "      <td>9.0</td>\n",
       "      <td>154</td>\n",
       "      <td>5000</td>\n",
       "      <td>19</td>\n",
       "      <td>26</td>\n",
       "      <td>16500</td>\n",
       "    </tr>\n",
       "    <tr>\n",
       "      <th>3</th>\n",
       "      <td>2</td>\n",
       "      <td>164</td>\n",
       "      <td>audi</td>\n",
       "      <td>gas</td>\n",
       "      <td>std</td>\n",
       "      <td>four</td>\n",
       "      <td>sedan</td>\n",
       "      <td>fwd</td>\n",
       "      <td>front</td>\n",
       "      <td>99.8</td>\n",
       "      <td>...</td>\n",
       "      <td>109</td>\n",
       "      <td>mpfi</td>\n",
       "      <td>3.19</td>\n",
       "      <td>3.40</td>\n",
       "      <td>10.0</td>\n",
       "      <td>102</td>\n",
       "      <td>5500</td>\n",
       "      <td>24</td>\n",
       "      <td>30</td>\n",
       "      <td>13950</td>\n",
       "    </tr>\n",
       "    <tr>\n",
       "      <th>4</th>\n",
       "      <td>2</td>\n",
       "      <td>164</td>\n",
       "      <td>audi</td>\n",
       "      <td>gas</td>\n",
       "      <td>std</td>\n",
       "      <td>four</td>\n",
       "      <td>sedan</td>\n",
       "      <td>4wd</td>\n",
       "      <td>front</td>\n",
       "      <td>99.4</td>\n",
       "      <td>...</td>\n",
       "      <td>136</td>\n",
       "      <td>mpfi</td>\n",
       "      <td>3.19</td>\n",
       "      <td>3.40</td>\n",
       "      <td>8.0</td>\n",
       "      <td>115</td>\n",
       "      <td>5500</td>\n",
       "      <td>18</td>\n",
       "      <td>22</td>\n",
       "      <td>17450</td>\n",
       "    </tr>\n",
       "  </tbody>\n",
       "</table>\n",
       "<p>5 rows × 26 columns</p>\n",
       "</div>"
      ],
      "text/plain": [
       "   symboling normalized-losses         make fuel-type aspiration num-of-doors  \\\n",
       "0  3          ?                 alfa-romero  gas       std        two           \n",
       "1  3          ?                 alfa-romero  gas       std        two           \n",
       "2  1          ?                 alfa-romero  gas       std        two           \n",
       "3  2          164               audi         gas       std        four          \n",
       "4  2          164               audi         gas       std        four          \n",
       "\n",
       "    body-style drive-wheels engine-location  wheel-base  ...  engine-size  \\\n",
       "0  convertible  rwd          front           88.6        ...  130           \n",
       "1  convertible  rwd          front           88.6        ...  130           \n",
       "2  hatchback    rwd          front           94.5        ...  152           \n",
       "3  sedan        fwd          front           99.8        ...  109           \n",
       "4  sedan        4wd          front           99.4        ...  136           \n",
       "\n",
       "   fuel-system  bore  stroke compression-ratio horsepower  peak-rpm city-mpg  \\\n",
       "0  mpfi         3.47  2.68    9.0               111        5000      21        \n",
       "1  mpfi         3.47  2.68    9.0               111        5000      21        \n",
       "2  mpfi         2.68  3.47    9.0               154        5000      19        \n",
       "3  mpfi         3.19  3.40    10.0              102        5500      24        \n",
       "4  mpfi         3.19  3.40    8.0               115        5500      18        \n",
       "\n",
       "  highway-mpg  price  \n",
       "0  27          13495  \n",
       "1  27          16500  \n",
       "2  26          16500  \n",
       "3  30          13950  \n",
       "4  22          17450  \n",
       "\n",
       "[5 rows x 26 columns]"
      ]
     },
     "execution_count": 427,
     "metadata": {},
     "output_type": "execute_result"
    }
   ],
   "source": [
    "df.head()"
   ]
  },
  {
   "cell_type": "code",
   "execution_count": 428,
   "metadata": {},
   "outputs": [],
   "source": [
    "df.drop(['normalized-losses','num-of-doors','width'], axis=1, inplace=True)"
   ]
  },
  {
   "cell_type": "code",
   "execution_count": 429,
   "metadata": {},
   "outputs": [],
   "source": [
    "# Some prices are noted as '?'\n",
    "df = df[df.price != '?']\n",
    "df.price=df.price.astype('float64')"
   ]
  },
  {
   "cell_type": "markdown",
   "metadata": {},
   "source": [
    "Now 201 entries"
   ]
  },
  {
   "cell_type": "code",
   "execution_count": 430,
   "metadata": {},
   "outputs": [
    {
     "name": "stdout",
     "output_type": "stream",
     "text": [
      "<class 'pandas.core.frame.DataFrame'>\n",
      "Int64Index: 201 entries, 0 to 204\n",
      "Data columns (total 23 columns):\n",
      " #   Column             Non-Null Count  Dtype  \n",
      "---  ------             --------------  -----  \n",
      " 0   symboling          201 non-null    int64  \n",
      " 1   make               201 non-null    object \n",
      " 2   fuel-type          201 non-null    object \n",
      " 3   aspiration         201 non-null    object \n",
      " 4   body-style         201 non-null    object \n",
      " 5   drive-wheels       201 non-null    object \n",
      " 6   engine-location    201 non-null    object \n",
      " 7   wheel-base         201 non-null    float64\n",
      " 8   length             201 non-null    float64\n",
      " 9   height             201 non-null    float64\n",
      " 10  curb-weight        201 non-null    int64  \n",
      " 11  engine-type        201 non-null    object \n",
      " 12  num-of-cylinders   201 non-null    object \n",
      " 13  engine-size        201 non-null    int64  \n",
      " 14  fuel-system        201 non-null    object \n",
      " 15  bore               201 non-null    object \n",
      " 16  stroke             201 non-null    object \n",
      " 17  compression-ratio  201 non-null    float64\n",
      " 18  horsepower         201 non-null    object \n",
      " 19  peak-rpm           201 non-null    object \n",
      " 20  city-mpg           201 non-null    int64  \n",
      " 21  highway-mpg        201 non-null    int64  \n",
      " 22  price              201 non-null    float64\n",
      "dtypes: float64(5), int64(5), object(13)\n",
      "memory usage: 37.7+ KB\n"
     ]
    }
   ],
   "source": [
    "df.info()"
   ]
  },
  {
   "cell_type": "markdown",
   "metadata": {},
   "source": [
    "These are in the wrong format: 'bore', 'stroke', 'horsepower', 'peak-rpm'"
   ]
  },
  {
   "cell_type": "markdown",
   "metadata": {},
   "source": [
    "Four cars are missing bore and stroke values."
   ]
  },
  {
   "cell_type": "markdown",
   "metadata": {},
   "source": [
    "Replace with the mean"
   ]
  },
  {
   "cell_type": "code",
   "execution_count": 431,
   "metadata": {},
   "outputs": [],
   "source": [
    "df.stroke=df['stroke'].replace(to_replace='?',\n",
    "                     value=df[df.stroke!='?'].stroke.astype('float64').mean()\n",
    "                    ).astype('float64')"
   ]
  },
  {
   "cell_type": "code",
   "execution_count": 432,
   "metadata": {},
   "outputs": [],
   "source": [
    "df.bore=df['bore'].replace(to_replace='?',\n",
    "                     value=df[df.bore!='?'].bore.astype('float64').mean()\n",
    "                    ).astype('float64')"
   ]
  },
  {
   "cell_type": "markdown",
   "metadata": {},
   "source": [
    "Two other cars are missing horsepower and peak-rpm"
   ]
  },
  {
   "cell_type": "markdown",
   "metadata": {},
   "source": [
    "Replace with the mean"
   ]
  },
  {
   "cell_type": "code",
   "execution_count": 433,
   "metadata": {},
   "outputs": [],
   "source": [
    "df.horsepower=df['horsepower'].replace(to_replace='?',\n",
    "                     value=df[df.horsepower!='?'].horsepower.astype('float64').mean()\n",
    "                    ).astype('float64')"
   ]
  },
  {
   "cell_type": "code",
   "execution_count": 434,
   "metadata": {},
   "outputs": [],
   "source": [
    "df['peak-rpm']=df['peak-rpm'].replace(to_replace='?',\n",
    "                     value=df[df['peak-rpm']!='?']['peak-rpm'].astype('float64').mean()\n",
    "                    ).astype('float64')"
   ]
  },
  {
   "cell_type": "markdown",
   "metadata": {},
   "source": [
    "### Categorize price"
   ]
  },
  {
   "cell_type": "code",
   "execution_count": 435,
   "metadata": {},
   "outputs": [
    {
     "data": {
      "text/plain": [
       "8249.0"
      ]
     },
     "execution_count": 435,
     "metadata": {},
     "output_type": "execute_result"
    }
   ],
   "source": [
    "df['price'].quantile(0.33)"
   ]
  },
  {
   "cell_type": "code",
   "execution_count": 436,
   "metadata": {},
   "outputs": [
    {
     "data": {
      "text/plain": [
       "13645.0"
      ]
     },
     "execution_count": 436,
     "metadata": {},
     "output_type": "execute_result"
    }
   ],
   "source": [
    "df['price'].quantile(0.66)"
   ]
  },
  {
   "cell_type": "code",
   "execution_count": 437,
   "metadata": {},
   "outputs": [],
   "source": [
    "df['price']=pd.qcut(df.price, q=[0, .33, .66, 1], \n",
    "                           labels=[0,1,2])"
   ]
  },
  {
   "cell_type": "code",
   "execution_count": 438,
   "metadata": {},
   "outputs": [],
   "source": [
    "X = df.drop('price',axis=1)"
   ]
  },
  {
   "cell_type": "code",
   "execution_count": 439,
   "metadata": {},
   "outputs": [],
   "source": [
    "y = df.price"
   ]
  },
  {
   "cell_type": "code",
   "execution_count": 440,
   "metadata": {},
   "outputs": [],
   "source": [
    "def transform_types(t):\n",
    "    if t=='object':\n",
    "        return 'Category'\n",
    "    return 'Continous'"
   ]
  },
  {
   "cell_type": "code",
   "execution_count": 441,
   "metadata": {},
   "outputs": [],
   "source": [
    "cols = list(map(lambda a: a.capitalize(),X.columns))\n",
    "types = list(map(transform_types, X.dtypes))"
   ]
  },
  {
   "cell_type": "code",
   "execution_count": 442,
   "metadata": {},
   "outputs": [],
   "source": [
    "explanation = ['Insurance risk', 'Car Manufacturer', 'Type of fuel used by the vehicle',\n",
    "              'Engine aspiration, can be standard or turbo', 'Vehicle body type (i.e. sedan, hatchback, etc.)',\n",
    "              'The wheels which force is transmitted to', 'Whether the engine is located at the front or at the rear',\n",
    "              'The distance between the front and rear wheels', 'Length of the car body',\n",
    "              'Height to the top of the car', \n",
    "               'Total weight of the vehicle, including necessary operating consumables',\n",
    "              'The engine configuration', 'Number of cylinders in the engine',\n",
    "              'The size of the engine', 'The fuel pumping system',\n",
    "              'Inner diameter of the engine cylinders', \n",
    "               'The distance the piston can travel within the cylinder',\n",
    "              'The ratio between the cylinder volume and its head space',\n",
    "              'Rate at which work is done. Equivalent to 746 watts',\n",
    "              'Maximum revolutions per minute. A measure of how many times the crankshaft can spin in a minute',\n",
    "              'Miles per gallon consumed in a city',\n",
    "              'Miles per gallon consumed on the highway']"
   ]
  },
  {
   "cell_type": "code",
   "execution_count": 443,
   "metadata": {},
   "outputs": [],
   "source": [
    "variables = pd.DataFrame([cols, types, explanation], \n",
    "                         index=['Variable','Variable Type','Explanation']).T"
   ]
  },
  {
   "cell_type": "code",
   "execution_count": 444,
   "metadata": {},
   "outputs": [
    {
     "name": "stderr",
     "output_type": "stream",
     "text": [
      "C:\\Users\\TotEu\\anaconda3\\lib\\site-packages\\ipykernel_launcher.py:1: FutureWarning: Passing a negative integer is deprecated in version 1.0 and will not be supported in future version. Instead, use None to not limit the column width.\n",
      "  \"\"\"Entry point for launching an IPython kernel.\n"
     ]
    }
   ],
   "source": [
    "pd.set_option(\"display.max_colwidth\", -1)"
   ]
  },
  {
   "cell_type": "code",
   "execution_count": 445,
   "metadata": {},
   "outputs": [
    {
     "data": {
      "text/html": [
       "<style  type=\"text/css\" >\n",
       "    #T_be86d090_374f_11eb_9e8c_3c9509f49954 th {\n",
       "          background: grey;\n",
       "          color: white;\n",
       "    }    #T_be86d090_374f_11eb_9e8c_3c9509f49954 td {\n",
       "          border: 2px solid black;\n",
       "    }</style><table id=\"T_be86d090_374f_11eb_9e8c_3c9509f49954\" ><thead>    <tr>        <th class=\"blank level0\" ></th>        <th class=\"col_heading level0 col0\" >Variable</th>        <th class=\"col_heading level0 col1\" >Variable Type</th>        <th class=\"col_heading level0 col2\" >Explanation</th>    </tr></thead><tbody>\n",
       "                <tr>\n",
       "                        <th id=\"T_be86d090_374f_11eb_9e8c_3c9509f49954level0_row0\" class=\"row_heading level0 row0\" >0</th>\n",
       "                        <td id=\"T_be86d090_374f_11eb_9e8c_3c9509f49954row0_col0\" class=\"data row0 col0\" >Symboling</td>\n",
       "                        <td id=\"T_be86d090_374f_11eb_9e8c_3c9509f49954row0_col1\" class=\"data row0 col1\" >Continous</td>\n",
       "                        <td id=\"T_be86d090_374f_11eb_9e8c_3c9509f49954row0_col2\" class=\"data row0 col2\" >Insurance risk</td>\n",
       "            </tr>\n",
       "            <tr>\n",
       "                        <th id=\"T_be86d090_374f_11eb_9e8c_3c9509f49954level0_row1\" class=\"row_heading level0 row1\" >1</th>\n",
       "                        <td id=\"T_be86d090_374f_11eb_9e8c_3c9509f49954row1_col0\" class=\"data row1 col0\" >Make</td>\n",
       "                        <td id=\"T_be86d090_374f_11eb_9e8c_3c9509f49954row1_col1\" class=\"data row1 col1\" >Category</td>\n",
       "                        <td id=\"T_be86d090_374f_11eb_9e8c_3c9509f49954row1_col2\" class=\"data row1 col2\" >Car Manufacturer</td>\n",
       "            </tr>\n",
       "            <tr>\n",
       "                        <th id=\"T_be86d090_374f_11eb_9e8c_3c9509f49954level0_row2\" class=\"row_heading level0 row2\" >2</th>\n",
       "                        <td id=\"T_be86d090_374f_11eb_9e8c_3c9509f49954row2_col0\" class=\"data row2 col0\" >Fuel-type</td>\n",
       "                        <td id=\"T_be86d090_374f_11eb_9e8c_3c9509f49954row2_col1\" class=\"data row2 col1\" >Category</td>\n",
       "                        <td id=\"T_be86d090_374f_11eb_9e8c_3c9509f49954row2_col2\" class=\"data row2 col2\" >Type of fuel used by the vehicle</td>\n",
       "            </tr>\n",
       "            <tr>\n",
       "                        <th id=\"T_be86d090_374f_11eb_9e8c_3c9509f49954level0_row3\" class=\"row_heading level0 row3\" >3</th>\n",
       "                        <td id=\"T_be86d090_374f_11eb_9e8c_3c9509f49954row3_col0\" class=\"data row3 col0\" >Aspiration</td>\n",
       "                        <td id=\"T_be86d090_374f_11eb_9e8c_3c9509f49954row3_col1\" class=\"data row3 col1\" >Category</td>\n",
       "                        <td id=\"T_be86d090_374f_11eb_9e8c_3c9509f49954row3_col2\" class=\"data row3 col2\" >Engine aspiration, can be standard or turbo</td>\n",
       "            </tr>\n",
       "            <tr>\n",
       "                        <th id=\"T_be86d090_374f_11eb_9e8c_3c9509f49954level0_row4\" class=\"row_heading level0 row4\" >4</th>\n",
       "                        <td id=\"T_be86d090_374f_11eb_9e8c_3c9509f49954row4_col0\" class=\"data row4 col0\" >Body-style</td>\n",
       "                        <td id=\"T_be86d090_374f_11eb_9e8c_3c9509f49954row4_col1\" class=\"data row4 col1\" >Category</td>\n",
       "                        <td id=\"T_be86d090_374f_11eb_9e8c_3c9509f49954row4_col2\" class=\"data row4 col2\" >Vehicle body type (i.e. sedan, hatchback, etc.)</td>\n",
       "            </tr>\n",
       "            <tr>\n",
       "                        <th id=\"T_be86d090_374f_11eb_9e8c_3c9509f49954level0_row5\" class=\"row_heading level0 row5\" >5</th>\n",
       "                        <td id=\"T_be86d090_374f_11eb_9e8c_3c9509f49954row5_col0\" class=\"data row5 col0\" >Drive-wheels</td>\n",
       "                        <td id=\"T_be86d090_374f_11eb_9e8c_3c9509f49954row5_col1\" class=\"data row5 col1\" >Category</td>\n",
       "                        <td id=\"T_be86d090_374f_11eb_9e8c_3c9509f49954row5_col2\" class=\"data row5 col2\" >The wheels which force is transmitted to</td>\n",
       "            </tr>\n",
       "            <tr>\n",
       "                        <th id=\"T_be86d090_374f_11eb_9e8c_3c9509f49954level0_row6\" class=\"row_heading level0 row6\" >6</th>\n",
       "                        <td id=\"T_be86d090_374f_11eb_9e8c_3c9509f49954row6_col0\" class=\"data row6 col0\" >Engine-location</td>\n",
       "                        <td id=\"T_be86d090_374f_11eb_9e8c_3c9509f49954row6_col1\" class=\"data row6 col1\" >Category</td>\n",
       "                        <td id=\"T_be86d090_374f_11eb_9e8c_3c9509f49954row6_col2\" class=\"data row6 col2\" >Whether the engine is located at the front or at the rear</td>\n",
       "            </tr>\n",
       "            <tr>\n",
       "                        <th id=\"T_be86d090_374f_11eb_9e8c_3c9509f49954level0_row7\" class=\"row_heading level0 row7\" >7</th>\n",
       "                        <td id=\"T_be86d090_374f_11eb_9e8c_3c9509f49954row7_col0\" class=\"data row7 col0\" >Wheel-base</td>\n",
       "                        <td id=\"T_be86d090_374f_11eb_9e8c_3c9509f49954row7_col1\" class=\"data row7 col1\" >Continous</td>\n",
       "                        <td id=\"T_be86d090_374f_11eb_9e8c_3c9509f49954row7_col2\" class=\"data row7 col2\" >The distance between the front and rear wheels</td>\n",
       "            </tr>\n",
       "            <tr>\n",
       "                        <th id=\"T_be86d090_374f_11eb_9e8c_3c9509f49954level0_row8\" class=\"row_heading level0 row8\" >8</th>\n",
       "                        <td id=\"T_be86d090_374f_11eb_9e8c_3c9509f49954row8_col0\" class=\"data row8 col0\" >Length</td>\n",
       "                        <td id=\"T_be86d090_374f_11eb_9e8c_3c9509f49954row8_col1\" class=\"data row8 col1\" >Continous</td>\n",
       "                        <td id=\"T_be86d090_374f_11eb_9e8c_3c9509f49954row8_col2\" class=\"data row8 col2\" >Length of the car body</td>\n",
       "            </tr>\n",
       "            <tr>\n",
       "                        <th id=\"T_be86d090_374f_11eb_9e8c_3c9509f49954level0_row9\" class=\"row_heading level0 row9\" >9</th>\n",
       "                        <td id=\"T_be86d090_374f_11eb_9e8c_3c9509f49954row9_col0\" class=\"data row9 col0\" >Height</td>\n",
       "                        <td id=\"T_be86d090_374f_11eb_9e8c_3c9509f49954row9_col1\" class=\"data row9 col1\" >Continous</td>\n",
       "                        <td id=\"T_be86d090_374f_11eb_9e8c_3c9509f49954row9_col2\" class=\"data row9 col2\" >Height to the top of the car</td>\n",
       "            </tr>\n",
       "            <tr>\n",
       "                        <th id=\"T_be86d090_374f_11eb_9e8c_3c9509f49954level0_row10\" class=\"row_heading level0 row10\" >10</th>\n",
       "                        <td id=\"T_be86d090_374f_11eb_9e8c_3c9509f49954row10_col0\" class=\"data row10 col0\" >Curb-weight</td>\n",
       "                        <td id=\"T_be86d090_374f_11eb_9e8c_3c9509f49954row10_col1\" class=\"data row10 col1\" >Continous</td>\n",
       "                        <td id=\"T_be86d090_374f_11eb_9e8c_3c9509f49954row10_col2\" class=\"data row10 col2\" >Total weight of the vehicle, including necessary operating consumables</td>\n",
       "            </tr>\n",
       "            <tr>\n",
       "                        <th id=\"T_be86d090_374f_11eb_9e8c_3c9509f49954level0_row11\" class=\"row_heading level0 row11\" >11</th>\n",
       "                        <td id=\"T_be86d090_374f_11eb_9e8c_3c9509f49954row11_col0\" class=\"data row11 col0\" >Engine-type</td>\n",
       "                        <td id=\"T_be86d090_374f_11eb_9e8c_3c9509f49954row11_col1\" class=\"data row11 col1\" >Category</td>\n",
       "                        <td id=\"T_be86d090_374f_11eb_9e8c_3c9509f49954row11_col2\" class=\"data row11 col2\" >The engine configuration</td>\n",
       "            </tr>\n",
       "            <tr>\n",
       "                        <th id=\"T_be86d090_374f_11eb_9e8c_3c9509f49954level0_row12\" class=\"row_heading level0 row12\" >12</th>\n",
       "                        <td id=\"T_be86d090_374f_11eb_9e8c_3c9509f49954row12_col0\" class=\"data row12 col0\" >Num-of-cylinders</td>\n",
       "                        <td id=\"T_be86d090_374f_11eb_9e8c_3c9509f49954row12_col1\" class=\"data row12 col1\" >Category</td>\n",
       "                        <td id=\"T_be86d090_374f_11eb_9e8c_3c9509f49954row12_col2\" class=\"data row12 col2\" >Number of cylinders in the engine</td>\n",
       "            </tr>\n",
       "            <tr>\n",
       "                        <th id=\"T_be86d090_374f_11eb_9e8c_3c9509f49954level0_row13\" class=\"row_heading level0 row13\" >13</th>\n",
       "                        <td id=\"T_be86d090_374f_11eb_9e8c_3c9509f49954row13_col0\" class=\"data row13 col0\" >Engine-size</td>\n",
       "                        <td id=\"T_be86d090_374f_11eb_9e8c_3c9509f49954row13_col1\" class=\"data row13 col1\" >Continous</td>\n",
       "                        <td id=\"T_be86d090_374f_11eb_9e8c_3c9509f49954row13_col2\" class=\"data row13 col2\" >The size of the engine</td>\n",
       "            </tr>\n",
       "            <tr>\n",
       "                        <th id=\"T_be86d090_374f_11eb_9e8c_3c9509f49954level0_row14\" class=\"row_heading level0 row14\" >14</th>\n",
       "                        <td id=\"T_be86d090_374f_11eb_9e8c_3c9509f49954row14_col0\" class=\"data row14 col0\" >Fuel-system</td>\n",
       "                        <td id=\"T_be86d090_374f_11eb_9e8c_3c9509f49954row14_col1\" class=\"data row14 col1\" >Category</td>\n",
       "                        <td id=\"T_be86d090_374f_11eb_9e8c_3c9509f49954row14_col2\" class=\"data row14 col2\" >The fuel pumping system</td>\n",
       "            </tr>\n",
       "            <tr>\n",
       "                        <th id=\"T_be86d090_374f_11eb_9e8c_3c9509f49954level0_row15\" class=\"row_heading level0 row15\" >15</th>\n",
       "                        <td id=\"T_be86d090_374f_11eb_9e8c_3c9509f49954row15_col0\" class=\"data row15 col0\" >Bore</td>\n",
       "                        <td id=\"T_be86d090_374f_11eb_9e8c_3c9509f49954row15_col1\" class=\"data row15 col1\" >Continous</td>\n",
       "                        <td id=\"T_be86d090_374f_11eb_9e8c_3c9509f49954row15_col2\" class=\"data row15 col2\" >Inner diameter of the engine cylinders</td>\n",
       "            </tr>\n",
       "            <tr>\n",
       "                        <th id=\"T_be86d090_374f_11eb_9e8c_3c9509f49954level0_row16\" class=\"row_heading level0 row16\" >16</th>\n",
       "                        <td id=\"T_be86d090_374f_11eb_9e8c_3c9509f49954row16_col0\" class=\"data row16 col0\" >Stroke</td>\n",
       "                        <td id=\"T_be86d090_374f_11eb_9e8c_3c9509f49954row16_col1\" class=\"data row16 col1\" >Continous</td>\n",
       "                        <td id=\"T_be86d090_374f_11eb_9e8c_3c9509f49954row16_col2\" class=\"data row16 col2\" >The distance the piston can travel within the cylinder</td>\n",
       "            </tr>\n",
       "            <tr>\n",
       "                        <th id=\"T_be86d090_374f_11eb_9e8c_3c9509f49954level0_row17\" class=\"row_heading level0 row17\" >17</th>\n",
       "                        <td id=\"T_be86d090_374f_11eb_9e8c_3c9509f49954row17_col0\" class=\"data row17 col0\" >Compression-ratio</td>\n",
       "                        <td id=\"T_be86d090_374f_11eb_9e8c_3c9509f49954row17_col1\" class=\"data row17 col1\" >Continous</td>\n",
       "                        <td id=\"T_be86d090_374f_11eb_9e8c_3c9509f49954row17_col2\" class=\"data row17 col2\" >The ratio between the cylinder volume and its head space</td>\n",
       "            </tr>\n",
       "            <tr>\n",
       "                        <th id=\"T_be86d090_374f_11eb_9e8c_3c9509f49954level0_row18\" class=\"row_heading level0 row18\" >18</th>\n",
       "                        <td id=\"T_be86d090_374f_11eb_9e8c_3c9509f49954row18_col0\" class=\"data row18 col0\" >Horsepower</td>\n",
       "                        <td id=\"T_be86d090_374f_11eb_9e8c_3c9509f49954row18_col1\" class=\"data row18 col1\" >Continous</td>\n",
       "                        <td id=\"T_be86d090_374f_11eb_9e8c_3c9509f49954row18_col2\" class=\"data row18 col2\" >Rate at which work is done. Equivalent to 746 watts</td>\n",
       "            </tr>\n",
       "            <tr>\n",
       "                        <th id=\"T_be86d090_374f_11eb_9e8c_3c9509f49954level0_row19\" class=\"row_heading level0 row19\" >19</th>\n",
       "                        <td id=\"T_be86d090_374f_11eb_9e8c_3c9509f49954row19_col0\" class=\"data row19 col0\" >Peak-rpm</td>\n",
       "                        <td id=\"T_be86d090_374f_11eb_9e8c_3c9509f49954row19_col1\" class=\"data row19 col1\" >Continous</td>\n",
       "                        <td id=\"T_be86d090_374f_11eb_9e8c_3c9509f49954row19_col2\" class=\"data row19 col2\" >Maximum revolutions per minute. A measure of how many times the crankshaft can spin in a minute</td>\n",
       "            </tr>\n",
       "            <tr>\n",
       "                        <th id=\"T_be86d090_374f_11eb_9e8c_3c9509f49954level0_row20\" class=\"row_heading level0 row20\" >20</th>\n",
       "                        <td id=\"T_be86d090_374f_11eb_9e8c_3c9509f49954row20_col0\" class=\"data row20 col0\" >City-mpg</td>\n",
       "                        <td id=\"T_be86d090_374f_11eb_9e8c_3c9509f49954row20_col1\" class=\"data row20 col1\" >Continous</td>\n",
       "                        <td id=\"T_be86d090_374f_11eb_9e8c_3c9509f49954row20_col2\" class=\"data row20 col2\" >Miles per gallon consumed in a city</td>\n",
       "            </tr>\n",
       "            <tr>\n",
       "                        <th id=\"T_be86d090_374f_11eb_9e8c_3c9509f49954level0_row21\" class=\"row_heading level0 row21\" >21</th>\n",
       "                        <td id=\"T_be86d090_374f_11eb_9e8c_3c9509f49954row21_col0\" class=\"data row21 col0\" >Highway-mpg</td>\n",
       "                        <td id=\"T_be86d090_374f_11eb_9e8c_3c9509f49954row21_col1\" class=\"data row21 col1\" >Continous</td>\n",
       "                        <td id=\"T_be86d090_374f_11eb_9e8c_3c9509f49954row21_col2\" class=\"data row21 col2\" >Miles per gallon consumed on the highway</td>\n",
       "            </tr>\n",
       "    </tbody></table>"
      ],
      "text/plain": [
       "<pandas.io.formats.style.Styler at 0x1d2fee1b8c8>"
      ]
     },
     "execution_count": 445,
     "metadata": {},
     "output_type": "execute_result"
    }
   ],
   "source": [
    "variables.style.set_table_styles(\n",
    "    [{'selector' : 'th',\n",
    "      'props': [('background','grey'),('color','white')]},\n",
    "\n",
    "    {'selector':'td',\n",
    "    'props':[('border','2px solid black')]}])"
   ]
  },
  {
   "cell_type": "code",
   "execution_count": 446,
   "metadata": {},
   "outputs": [
    {
     "data": {
      "text/plain": [
       "2    68\n",
       "0    67\n",
       "1    66\n",
       "Name: price, dtype: int64"
      ]
     },
     "execution_count": 446,
     "metadata": {},
     "output_type": "execute_result"
    }
   ],
   "source": [
    "y.value_counts()"
   ]
  },
  {
   "cell_type": "code",
   "execution_count": 447,
   "metadata": {},
   "outputs": [
    {
     "data": {
      "text/html": [
       "<div>\n",
       "<style scoped>\n",
       "    .dataframe tbody tr th:only-of-type {\n",
       "        vertical-align: middle;\n",
       "    }\n",
       "\n",
       "    .dataframe tbody tr th {\n",
       "        vertical-align: top;\n",
       "    }\n",
       "\n",
       "    .dataframe thead th {\n",
       "        text-align: right;\n",
       "    }\n",
       "</style>\n",
       "<table border=\"1\" class=\"dataframe\">\n",
       "  <thead>\n",
       "    <tr style=\"text-align: right;\">\n",
       "      <th></th>\n",
       "      <th>symboling</th>\n",
       "      <th>make</th>\n",
       "      <th>fuel-type</th>\n",
       "      <th>aspiration</th>\n",
       "      <th>body-style</th>\n",
       "      <th>drive-wheels</th>\n",
       "      <th>engine-location</th>\n",
       "      <th>wheel-base</th>\n",
       "      <th>length</th>\n",
       "      <th>height</th>\n",
       "      <th>...</th>\n",
       "      <th>num-of-cylinders</th>\n",
       "      <th>engine-size</th>\n",
       "      <th>fuel-system</th>\n",
       "      <th>bore</th>\n",
       "      <th>stroke</th>\n",
       "      <th>compression-ratio</th>\n",
       "      <th>horsepower</th>\n",
       "      <th>peak-rpm</th>\n",
       "      <th>city-mpg</th>\n",
       "      <th>highway-mpg</th>\n",
       "    </tr>\n",
       "  </thead>\n",
       "  <tbody>\n",
       "    <tr>\n",
       "      <th>0</th>\n",
       "      <td>3</td>\n",
       "      <td>alfa-romero</td>\n",
       "      <td>gas</td>\n",
       "      <td>std</td>\n",
       "      <td>convertible</td>\n",
       "      <td>rwd</td>\n",
       "      <td>front</td>\n",
       "      <td>88.6</td>\n",
       "      <td>168.8</td>\n",
       "      <td>48.8</td>\n",
       "      <td>...</td>\n",
       "      <td>four</td>\n",
       "      <td>130</td>\n",
       "      <td>mpfi</td>\n",
       "      <td>3.47</td>\n",
       "      <td>2.68</td>\n",
       "      <td>9.0</td>\n",
       "      <td>111.0</td>\n",
       "      <td>5000.0</td>\n",
       "      <td>21</td>\n",
       "      <td>27</td>\n",
       "    </tr>\n",
       "    <tr>\n",
       "      <th>1</th>\n",
       "      <td>3</td>\n",
       "      <td>alfa-romero</td>\n",
       "      <td>gas</td>\n",
       "      <td>std</td>\n",
       "      <td>convertible</td>\n",
       "      <td>rwd</td>\n",
       "      <td>front</td>\n",
       "      <td>88.6</td>\n",
       "      <td>168.8</td>\n",
       "      <td>48.8</td>\n",
       "      <td>...</td>\n",
       "      <td>four</td>\n",
       "      <td>130</td>\n",
       "      <td>mpfi</td>\n",
       "      <td>3.47</td>\n",
       "      <td>2.68</td>\n",
       "      <td>9.0</td>\n",
       "      <td>111.0</td>\n",
       "      <td>5000.0</td>\n",
       "      <td>21</td>\n",
       "      <td>27</td>\n",
       "    </tr>\n",
       "    <tr>\n",
       "      <th>2</th>\n",
       "      <td>1</td>\n",
       "      <td>alfa-romero</td>\n",
       "      <td>gas</td>\n",
       "      <td>std</td>\n",
       "      <td>hatchback</td>\n",
       "      <td>rwd</td>\n",
       "      <td>front</td>\n",
       "      <td>94.5</td>\n",
       "      <td>171.2</td>\n",
       "      <td>52.4</td>\n",
       "      <td>...</td>\n",
       "      <td>six</td>\n",
       "      <td>152</td>\n",
       "      <td>mpfi</td>\n",
       "      <td>2.68</td>\n",
       "      <td>3.47</td>\n",
       "      <td>9.0</td>\n",
       "      <td>154.0</td>\n",
       "      <td>5000.0</td>\n",
       "      <td>19</td>\n",
       "      <td>26</td>\n",
       "    </tr>\n",
       "    <tr>\n",
       "      <th>3</th>\n",
       "      <td>2</td>\n",
       "      <td>audi</td>\n",
       "      <td>gas</td>\n",
       "      <td>std</td>\n",
       "      <td>sedan</td>\n",
       "      <td>fwd</td>\n",
       "      <td>front</td>\n",
       "      <td>99.8</td>\n",
       "      <td>176.6</td>\n",
       "      <td>54.3</td>\n",
       "      <td>...</td>\n",
       "      <td>four</td>\n",
       "      <td>109</td>\n",
       "      <td>mpfi</td>\n",
       "      <td>3.19</td>\n",
       "      <td>3.40</td>\n",
       "      <td>10.0</td>\n",
       "      <td>102.0</td>\n",
       "      <td>5500.0</td>\n",
       "      <td>24</td>\n",
       "      <td>30</td>\n",
       "    </tr>\n",
       "    <tr>\n",
       "      <th>4</th>\n",
       "      <td>2</td>\n",
       "      <td>audi</td>\n",
       "      <td>gas</td>\n",
       "      <td>std</td>\n",
       "      <td>sedan</td>\n",
       "      <td>4wd</td>\n",
       "      <td>front</td>\n",
       "      <td>99.4</td>\n",
       "      <td>176.6</td>\n",
       "      <td>54.3</td>\n",
       "      <td>...</td>\n",
       "      <td>five</td>\n",
       "      <td>136</td>\n",
       "      <td>mpfi</td>\n",
       "      <td>3.19</td>\n",
       "      <td>3.40</td>\n",
       "      <td>8.0</td>\n",
       "      <td>115.0</td>\n",
       "      <td>5500.0</td>\n",
       "      <td>18</td>\n",
       "      <td>22</td>\n",
       "    </tr>\n",
       "  </tbody>\n",
       "</table>\n",
       "<p>5 rows × 22 columns</p>\n",
       "</div>"
      ],
      "text/plain": [
       "   symboling         make fuel-type aspiration   body-style drive-wheels  \\\n",
       "0  3          alfa-romero  gas       std        convertible  rwd           \n",
       "1  3          alfa-romero  gas       std        convertible  rwd           \n",
       "2  1          alfa-romero  gas       std        hatchback    rwd           \n",
       "3  2          audi         gas       std        sedan        fwd           \n",
       "4  2          audi         gas       std        sedan        4wd           \n",
       "\n",
       "  engine-location  wheel-base  length  height  ...  num-of-cylinders  \\\n",
       "0  front           88.6        168.8   48.8    ...  four               \n",
       "1  front           88.6        168.8   48.8    ...  four               \n",
       "2  front           94.5        171.2   52.4    ...  six                \n",
       "3  front           99.8        176.6   54.3    ...  four               \n",
       "4  front           99.4        176.6   54.3    ...  five               \n",
       "\n",
       "  engine-size fuel-system  bore stroke  compression-ratio  horsepower  \\\n",
       "0  130         mpfi        3.47  2.68   9.0                111.0        \n",
       "1  130         mpfi        3.47  2.68   9.0                111.0        \n",
       "2  152         mpfi        2.68  3.47   9.0                154.0        \n",
       "3  109         mpfi        3.19  3.40   10.0               102.0        \n",
       "4  136         mpfi        3.19  3.40   8.0                115.0        \n",
       "\n",
       "   peak-rpm  city-mpg  highway-mpg  \n",
       "0  5000.0    21        27           \n",
       "1  5000.0    21        27           \n",
       "2  5000.0    19        26           \n",
       "3  5500.0    24        30           \n",
       "4  5500.0    18        22           \n",
       "\n",
       "[5 rows x 22 columns]"
      ]
     },
     "execution_count": 447,
     "metadata": {},
     "output_type": "execute_result"
    }
   ],
   "source": [
    "X.head()"
   ]
  },
  {
   "cell_type": "markdown",
   "metadata": {},
   "source": [
    "### Transform data"
   ]
  },
  {
   "cell_type": "code",
   "execution_count": 448,
   "metadata": {},
   "outputs": [],
   "source": [
    "from sklearn.model_selection import train_test_split\n",
    "\n",
    "X_train, X_test, y_train, y_test = train_test_split(X, y,test_size=0.25,random_state=1)"
   ]
  },
  {
   "cell_type": "code",
   "execution_count": 449,
   "metadata": {},
   "outputs": [
    {
     "data": {
      "text/plain": [
       "(150, 22)"
      ]
     },
     "execution_count": 449,
     "metadata": {},
     "output_type": "execute_result"
    }
   ],
   "source": [
    "X_train.shape"
   ]
  },
  {
   "cell_type": "code",
   "execution_count": 450,
   "metadata": {},
   "outputs": [
    {
     "data": {
      "text/plain": [
       "(51, 22)"
      ]
     },
     "execution_count": 450,
     "metadata": {},
     "output_type": "execute_result"
    }
   ],
   "source": [
    "X_test.shape"
   ]
  },
  {
   "cell_type": "code",
   "execution_count": 451,
   "metadata": {
    "scrolled": true
   },
   "outputs": [
    {
     "data": {
      "text/plain": [
       "1    20\n",
       "0    16\n",
       "2    15\n",
       "Name: price, dtype: int64"
      ]
     },
     "execution_count": 451,
     "metadata": {},
     "output_type": "execute_result"
    }
   ],
   "source": [
    "y_test.value_counts()"
   ]
  },
  {
   "cell_type": "code",
   "execution_count": 452,
   "metadata": {},
   "outputs": [],
   "source": [
    "from sklearn.model_selection import train_test_split\n",
    "\n",
    "X_train, X_test, y_train, y_test = train_test_split(X, y,test_size=0.25,random_state=1)"
   ]
  },
  {
   "cell_type": "code",
   "execution_count": 453,
   "metadata": {},
   "outputs": [],
   "source": [
    "from sklearn.compose import ColumnTransformer\n",
    "from sklearn.preprocessing import MinMaxScaler, OneHotEncoder\n",
    "\n",
    "# Column Transformer to scale numerical data, encode categorical variables\n",
    "#    And ordinal encode Global Sales\n",
    "\n",
    "\n",
    "continous = X.select_dtypes('float64').columns.tolist()+\\\n",
    "            X.select_dtypes('int64').columns.tolist()\n",
    "categorical = X.select_dtypes('object').columns.tolist()\n",
    "\n",
    "ct = ColumnTransformer([\n",
    " (\"continous\", MinMaxScaler(), continous),\n",
    " (\"onehot\", OneHotEncoder(handle_unknown='ignore'), categorical)\n",
    "])"
   ]
  },
  {
   "cell_type": "markdown",
   "metadata": {},
   "source": [
    "### k-Nearest Neighbors (kNN)"
   ]
  },
  {
   "cell_type": "code",
   "execution_count": 454,
   "metadata": {},
   "outputs": [],
   "source": [
    "from sklearn.model_selection import GridSearchCV\n",
    "from sklearn.pipeline import Pipeline\n",
    "from sklearn.neighbors import KNeighborsClassifier\n",
    "\n",
    "\n",
    "pipe = Pipeline([\n",
    " ('preprocess', ct),\n",
    " ('clf',KNeighborsClassifier())\n",
    "])\n",
    "\n",
    "param_grid = {\n",
    "    'clf__n_neighbors':[3,5,10,15],\n",
    "    'clf__leaf_size':[20,30,40],\n",
    "    'clf__p':[1,2,3]\n",
    "}\n",
    "\n",
    "grid=GridSearchCV(estimator=pipe, param_grid=param_grid,cv=3, \n",
    "                  return_train_score=True, verbose=1,)"
   ]
  },
  {
   "cell_type": "code",
   "execution_count": 455,
   "metadata": {},
   "outputs": [
    {
     "name": "stdout",
     "output_type": "stream",
     "text": [
      "Fitting 3 folds for each of 36 candidates, totalling 108 fits\n"
     ]
    },
    {
     "name": "stderr",
     "output_type": "stream",
     "text": [
      "[Parallel(n_jobs=1)]: Using backend SequentialBackend with 1 concurrent workers.\n",
      "[Parallel(n_jobs=1)]: Done 108 out of 108 | elapsed:    2.9s finished\n"
     ]
    },
    {
     "data": {
      "text/plain": [
       "GridSearchCV(cv=3,\n",
       "             estimator=Pipeline(steps=[('preprocess',\n",
       "                                        ColumnTransformer(transformers=[('continous',\n",
       "                                                                         MinMaxScaler(),\n",
       "                                                                         ['wheel-base',\n",
       "                                                                          'length',\n",
       "                                                                          'height',\n",
       "                                                                          'bore',\n",
       "                                                                          'stroke',\n",
       "                                                                          'compression-ratio',\n",
       "                                                                          'horsepower',\n",
       "                                                                          'peak-rpm',\n",
       "                                                                          'symboling',\n",
       "                                                                          'curb-weight',\n",
       "                                                                          'engine-size',\n",
       "                                                                          'city-mpg',\n",
       "                                                                          'highway-mpg']),\n",
       "                                                                        ('onehot',\n",
       "                                                                         OneHotEncoder(handle_unknown='ignore'),\n",
       "                                                                         ['make',\n",
       "                                                                          'fuel-type',\n",
       "                                                                          'aspiration',\n",
       "                                                                          'body-style',\n",
       "                                                                          'drive-wheels',\n",
       "                                                                          'engine-location',\n",
       "                                                                          'engine-type',\n",
       "                                                                          'num-of-cylinders',\n",
       "                                                                          'fuel-system'])])),\n",
       "                                       ('clf', KNeighborsClassifier())]),\n",
       "             param_grid={'clf__leaf_size': [20, 30, 40],\n",
       "                         'clf__n_neighbors': [3, 5, 10, 15],\n",
       "                         'clf__p': [1, 2, 3]},\n",
       "             return_train_score=True, verbose=1)"
      ]
     },
     "execution_count": 455,
     "metadata": {},
     "output_type": "execute_result"
    }
   ],
   "source": [
    "grid.fit(X_train, y_train)"
   ]
  },
  {
   "cell_type": "code",
   "execution_count": 456,
   "metadata": {},
   "outputs": [
    {
     "data": {
      "text/plain": [
       "0.7600000000000001"
      ]
     },
     "execution_count": 456,
     "metadata": {},
     "output_type": "execute_result"
    }
   ],
   "source": [
    "grid.best_score_"
   ]
  },
  {
   "cell_type": "code",
   "execution_count": 457,
   "metadata": {},
   "outputs": [
    {
     "data": {
      "text/plain": [
       "{'clf__leaf_size': 20, 'clf__n_neighbors': 15, 'clf__p': 1}"
      ]
     },
     "execution_count": 457,
     "metadata": {},
     "output_type": "execute_result"
    }
   ],
   "source": [
    "grid.best_params_"
   ]
  },
  {
   "cell_type": "code",
   "execution_count": 458,
   "metadata": {},
   "outputs": [],
   "source": [
    "y_pred = grid.best_estimator_.predict(X_test)"
   ]
  },
  {
   "cell_type": "code",
   "execution_count": 459,
   "metadata": {},
   "outputs": [
    {
     "name": "stdout",
     "output_type": "stream",
     "text": [
      "Accuracy on test data: 72.549%\n"
     ]
    }
   ],
   "source": [
    "from sklearn.metrics import accuracy_score\n",
    "test_accuracy = accuracy_score(y_test, y_pred)\n",
    "\n",
    "print(\"Accuracy on test data: {:.3f}%\".format(test_accuracy*100))"
   ]
  },
  {
   "cell_type": "code",
   "execution_count": 460,
   "metadata": {},
   "outputs": [
    {
     "data": {
      "image/png": "[encoded data removed]",
      "text/plain": [
       "<Figure size 720x504 with 2 Axes>"
      ]
     },
     "metadata": {
      "needs_background": "light"
     },
     "output_type": "display_data"
    }
   ],
   "source": [
    "from sklearn.metrics import confusion_matrix\n",
    "def get_conf_matrix(y_test, y_pred, title):\n",
    "    # Get confusion matrix\n",
    "    data = confusion_matrix(y_test, y_pred)\n",
    "    # Build the confusion matrix as a dataframe table\n",
    "    cm = pd.DataFrame(data, columns=np.unique(y_test), index = np.unique(y_test))\n",
    "    cm.index.name = 'Observed'\n",
    "    cm.columns.name = 'Predicted'\n",
    "    plt.figure(figsize = (10,7))\n",
    "        \n",
    "    group_names = ['True Cheap', 'False Average', 'False Expensive', 'False Cheap',\n",
    "                  'True Average', 'False Expensive', 'False Cheap','False Average','True Expensive']\n",
    "    \n",
    "    percentages = cm/np.sum(cm)\n",
    "    percentages = np.asarray(percentages).flatten()\n",
    "        \n",
    "    labels = [f'{name}\\n{percentage:.2f}' for name, percentage in zip(group_names,percentages)]\n",
    "    labels = np.asarray(labels).reshape(3,3)\n",
    "    \n",
    "    # Plot a heatmap\n",
    "    sns.heatmap(cm/np.sum(cm), annot=labels, fmt='', cmap='Blues',\n",
    "               annot_kws={\"size\": 16})\n",
    "    plt.title(title+\"\\n\",fontsize=22)\n",
    "    plt.show()\n",
    "    \n",
    "import matplotlib    \n",
    "matplotlib.rcParams.update({'font.size': 18})\n",
    "get_conf_matrix(y_test, y_pred, 'k-Nearest Neighbors')\n"
   ]
  },
  {
   "cell_type": "code",
   "execution_count": 461,
   "metadata": {},
   "outputs": [
    {
     "name": "stdout",
     "output_type": "stream",
     "text": [
      "0    25\n",
      "2    15\n",
      "1    11\n",
      "dtype: int64\n"
     ]
    },
    {
     "data": {
      "text/plain": [
       "1    20\n",
       "0    16\n",
       "2    15\n",
       "Name: price, dtype: int64"
      ]
     },
     "execution_count": 461,
     "metadata": {},
     "output_type": "execute_result"
    }
   ],
   "source": [
    "print(pd.Series(y_pred).value_counts())\n",
    "\n",
    "y_test.value_counts()"
   ]
  },
  {
   "cell_type": "code",
   "execution_count": 462,
   "metadata": {},
   "outputs": [
    {
     "name": "stdout",
     "output_type": "stream",
     "text": [
      "Accuracy on test data: 72.549%\n",
      "Precision on test data: 76.162%\n",
      "Recall on test data: 75.139%\n",
      "F1 Score on test data: 72.634%\n"
     ]
    }
   ],
   "source": [
    "from sklearn.metrics import accuracy_score, precision_score, recall_score, f1_score, roc_auc_score\n",
    "test_accuracy = accuracy_score(y_test, y_pred)\n",
    "test_precision = precision_score(y_test, y_pred, average='macro')\n",
    "test_recall = recall_score(y_test, y_pred, average='macro')\n",
    "test_f1_score = f1_score(y_test, y_pred, average='macro')\n",
    "\n",
    "print(\"Accuracy on test data: {:.3f}%\".format(test_accuracy*100))\n",
    "print(\"Precision on test data: {:.3f}%\".format(test_precision*100))\n",
    "print(\"Recall on test data: {:.3f}%\".format(test_recall*100))\n",
    "print(\"F1 Score on test data: {:.3f}%\".format(test_f1_score*100))\n"
   ]
  },
  {
   "cell_type": "code",
   "execution_count": 463,
   "metadata": {},
   "outputs": [
    {
     "data": {
      "text/html": [
       "<style  type=\"text/css\" >\n",
       "    #T_c5f0eb00_374f_11eb_b020_3c9509f49954 th {\n",
       "          background: #3d405b;\n",
       "          color: white;\n",
       "    }    #T_c5f0eb00_374f_11eb_b020_3c9509f49954 td {\n",
       "          border: 2px solid black;\n",
       "    }</style><table id=\"T_c5f0eb00_374f_11eb_b020_3c9509f49954\" ><thead>    <tr>        <th class=\"blank level0\" ></th>        <th class=\"col_heading level0 col0\" >Feature</th>        <th class=\"col_heading level0 col1\" >Importance</th>        <th class=\"col_heading level0 col2\" >Standard Deviation</th>    </tr></thead><tbody>\n",
       "                <tr>\n",
       "                        <th id=\"T_c5f0eb00_374f_11eb_b020_3c9509f49954level0_row0\" class=\"row_heading level0 row0\" >0</th>\n",
       "                        <td id=\"T_c5f0eb00_374f_11eb_b020_3c9509f49954row0_col0\" class=\"data row0 col0\" >curb-weight</td>\n",
       "                        <td id=\"T_c5f0eb00_374f_11eb_b020_3c9509f49954row0_col1\" class=\"data row0 col1\" >0.015</td>\n",
       "                        <td id=\"T_c5f0eb00_374f_11eb_b020_3c9509f49954row0_col2\" class=\"data row0 col2\" >0.004</td>\n",
       "            </tr>\n",
       "    </tbody></table>"
      ],
      "text/plain": [
       "<pandas.io.formats.style.Styler at 0x1d2fa658688>"
      ]
     },
     "execution_count": 463,
     "metadata": {},
     "output_type": "execute_result"
    }
   ],
   "source": [
    "from sklearn.inspection import permutation_importance\n",
    "\n",
    "def get_feature_importance():\n",
    "    r = permutation_importance(grid.best_estimator_, X, y, n_repeats=10, random_state=0)\n",
    "    \n",
    "    col1=[]\n",
    "    col2=[]\n",
    "    col3=[]\n",
    "    for i in r.importances_mean.argsort()[::-1]:\n",
    "        if r.importances_mean[i] - 2 * r.importances_std[i] > 0:\n",
    "            col1.append(X.columns[i])\n",
    "            col2.append(f'{r.importances_mean[i]:.3f}')\n",
    "            col3.append(f'{r.importances_std[i]:.3f}')\n",
    "\n",
    "    return pd.DataFrame([col1,col2,col3], index=['Feature','Importance','Standard Deviation']).T\n",
    "  \n",
    "    \n",
    "importance_df = get_feature_importance()\n",
    "\n",
    "importance_df.style.set_table_styles(\n",
    "        [{'selector' : 'th',\n",
    "          'props': [('background','#3d405b'),('color','white')]},\n",
    "\n",
    "        {'selector':'td',\n",
    "        'props':[('border','2px solid black')]}])"
   ]
  },
  {
   "cell_type": "code",
   "execution_count": 464,
   "metadata": {},
   "outputs": [],
   "source": [
    "y_predicted = grid.best_estimator_.predict(X)"
   ]
  },
  {
   "cell_type": "code",
   "execution_count": 465,
   "metadata": {},
   "outputs": [
    {
     "name": "stderr",
     "output_type": "stream",
     "text": [
      "C:\\Users\\TotEu\\anaconda3\\lib\\site-packages\\seaborn\\_decorators.py:43: FutureWarning: Pass the following variables as keyword args: x, y. From version 0.12, the only valid positional argument will be `data`, and passing other arguments without an explicit keyword will result in an error or misinterpretation.\n",
      "  FutureWarning\n"
     ]
    },
    {
     "data": {
      "image/png": "[encoded data removed]",
      "text/plain": [
       "<Figure size 648x432 with 1 Axes>"
      ]
     },
     "metadata": {
      "needs_background": "light"
     },
     "output_type": "display_data"
    }
   ],
   "source": [
    "plt.figure(figsize=(9,6))\n",
    "sns.scatterplot(X['curb-weight'], y, hue=y_predicted, s=80)\n",
    "plt.ylabel('True price category')\n",
    "plt.legend(['Expensive','Cheap','Average'], fontsize='14', title='Prediction')\n",
    "plt.title('Price vs Curb-weight, predictions by kNN')\n",
    "plt.show()"
   ]
  },
  {
   "cell_type": "markdown",
   "metadata": {},
   "source": [
    "## Dropping curb weight, engine size, and then fuel system."
   ]
  },
  {
   "cell_type": "markdown",
   "metadata": {},
   "source": [
    "### --------------------- 1---------------------------"
   ]
  },
  {
   "cell_type": "code",
   "execution_count": 466,
   "metadata": {},
   "outputs": [],
   "source": [
    "X1 = X.drop('curb-weight',axis=1)"
   ]
  },
  {
   "cell_type": "code",
   "execution_count": 467,
   "metadata": {},
   "outputs": [],
   "source": [
    "from sklearn.model_selection import train_test_split\n",
    "\n",
    "X_train, X_test, y_train, y_test = train_test_split(X1, y,test_size=0.25,random_state=1)"
   ]
  },
  {
   "cell_type": "code",
   "execution_count": 468,
   "metadata": {},
   "outputs": [],
   "source": [
    "from sklearn.compose import ColumnTransformer\n",
    "from sklearn.preprocessing import MinMaxScaler, OneHotEncoder\n",
    "\n",
    "# Column Transformer to scale numerical data, encode categorical variables\n",
    "#    And ordinal encode Global Sales\n",
    "\n",
    "\n",
    "continous = X1.select_dtypes('float64').columns.tolist()+\\\n",
    "            X1.select_dtypes('int64').columns.tolist()\n",
    "categorical = X1.select_dtypes('object').columns.tolist()\n",
    "\n",
    "ct = ColumnTransformer([\n",
    " (\"continous\", MinMaxScaler(), continous),\n",
    " (\"onehot\", OneHotEncoder(handle_unknown='ignore'), categorical)\n",
    "])"
   ]
  },
  {
   "cell_type": "code",
   "execution_count": 469,
   "metadata": {},
   "outputs": [],
   "source": [
    "pipe = Pipeline([\n",
    " ('preprocess', ct),\n",
    " ('clf',KNeighborsClassifier())\n",
    "])\n",
    "\n",
    "param_grid = {\n",
    "    'clf__n_neighbors':[3,5,10,15],\n",
    "    'clf__leaf_size':[20,30,40],\n",
    "    'clf__p':[1,2,3]\n",
    "}\n",
    "\n",
    "grid=GridSearchCV(estimator=pipe, param_grid=param_grid,cv=3, \n",
    "                  return_train_score=True, verbose=1,)"
   ]
  },
  {
   "cell_type": "code",
   "execution_count": 470,
   "metadata": {},
   "outputs": [
    {
     "name": "stdout",
     "output_type": "stream",
     "text": [
      "Fitting 3 folds for each of 36 candidates, totalling 108 fits\n"
     ]
    },
    {
     "name": "stderr",
     "output_type": "stream",
     "text": [
      "[Parallel(n_jobs=1)]: Using backend SequentialBackend with 1 concurrent workers.\n",
      "[Parallel(n_jobs=1)]: Done 108 out of 108 | elapsed:    3.0s finished\n"
     ]
    },
    {
     "data": {
      "text/plain": [
       "GridSearchCV(cv=3,\n",
       "             estimator=Pipeline(steps=[('preprocess',\n",
       "                                        ColumnTransformer(transformers=[('continous',\n",
       "                                                                         MinMaxScaler(),\n",
       "                                                                         ['wheel-base',\n",
       "                                                                          'length',\n",
       "                                                                          'height',\n",
       "                                                                          'bore',\n",
       "                                                                          'stroke',\n",
       "                                                                          'compression-ratio',\n",
       "                                                                          'horsepower',\n",
       "                                                                          'peak-rpm',\n",
       "                                                                          'symboling',\n",
       "                                                                          'engine-size',\n",
       "                                                                          'city-mpg',\n",
       "                                                                          'highway-mpg']),\n",
       "                                                                        ('onehot',\n",
       "                                                                         OneHotEncoder(handle_unknown='ignore'),\n",
       "                                                                         ['make',\n",
       "                                                                          'fuel-type',\n",
       "                                                                          'aspiration',\n",
       "                                                                          'body-style',\n",
       "                                                                          'drive-wheels',\n",
       "                                                                          'engine-location',\n",
       "                                                                          'engine-type',\n",
       "                                                                          'num-of-cylinders',\n",
       "                                                                          'fuel-system'])])),\n",
       "                                       ('clf', KNeighborsClassifier())]),\n",
       "             param_grid={'clf__leaf_size': [20, 30, 40],\n",
       "                         'clf__n_neighbors': [3, 5, 10, 15],\n",
       "                         'clf__p': [1, 2, 3]},\n",
       "             return_train_score=True, verbose=1)"
      ]
     },
     "execution_count": 470,
     "metadata": {},
     "output_type": "execute_result"
    }
   ],
   "source": [
    "grid.fit(X_train, y_train)"
   ]
  },
  {
   "cell_type": "code",
   "execution_count": 121,
   "metadata": {},
   "outputs": [],
   "source": [
    "y_pred = grid.best_estimator_.predict(X_test)"
   ]
  },
  {
   "cell_type": "code",
   "execution_count": 122,
   "metadata": {},
   "outputs": [
    {
     "name": "stdout",
     "output_type": "stream",
     "text": [
      "Accuracy on test data: 66.667%\n"
     ]
    }
   ],
   "source": [
    "from sklearn.metrics import accuracy_score\n",
    "test_accuracy = accuracy_score(y_test, y_pred)\n",
    "\n",
    "print(\"Accuracy on test data: {:.3f}%\".format(test_accuracy*100))"
   ]
  },
  {
   "cell_type": "markdown",
   "metadata": {},
   "source": [
    "## Multi-layer Perceptron classifier"
   ]
  },
  {
   "cell_type": "code",
   "execution_count": null,
   "metadata": {},
   "outputs": [],
   "source": [
    "from sklearn.model_selection import train_test_split\n",
    "\n",
    "X_train, X_test, y_train, y_test = train_test_split(X, y,test_size=0.25,random_state=1)"
   ]
  },
  {
   "cell_type": "code",
   "execution_count": 433,
   "metadata": {},
   "outputs": [],
   "source": [
    "from sklearn.model_selection import GridSearchCV\n",
    "from sklearn.pipeline import Pipeline\n",
    "from sklearn.neural_network import MLPClassifier\n",
    "\n",
    "\n",
    "pipe = Pipeline([\n",
    " ('preprocess', ct),\n",
    " ('clf',MLPClassifier(solver='sgd'))\n",
    "])\n",
    "\n",
    "# The batch size is just = number of samples\n",
    "param_grid = {\n",
    "    'clf__hidden_layer_sizes':[(256,50)],\n",
    "    'clf__alpha':[0.0001,0.001,0.01,0.1], #L2 penalty regulorarization term\n",
    "}\n",
    "\n",
    "grid=GridSearchCV(estimator=pipe, param_grid=param_grid,cv=3,\n",
    " scoring='recall_macro',return_train_score=True,\n",
    " verbose=1,)"
   ]
  },
  {
   "cell_type": "code",
   "execution_count": 434,
   "metadata": {},
   "outputs": [
    {
     "name": "stdout",
     "output_type": "stream",
     "text": [
      "Fitting 3 folds for each of 4 candidates, totalling 12 fits\n"
     ]
    },
    {
     "name": "stderr",
     "output_type": "stream",
     "text": [
      "[Parallel(n_jobs=1)]: Using backend SequentialBackend with 1 concurrent workers.\n",
      "C:\\Users\\TotEu\\anaconda3\\lib\\site-packages\\sklearn\\neural_network\\_multilayer_perceptron.py:585: ConvergenceWarning: Stochastic Optimizer: Maximum iterations (200) reached and the optimization hasn't converged yet.\n",
      "  % self.max_iter, ConvergenceWarning)\n",
      "C:\\Users\\TotEu\\anaconda3\\lib\\site-packages\\sklearn\\neural_network\\_multilayer_perceptron.py:585: ConvergenceWarning: Stochastic Optimizer: Maximum iterations (200) reached and the optimization hasn't converged yet.\n",
      "  % self.max_iter, ConvergenceWarning)\n",
      "C:\\Users\\TotEu\\anaconda3\\lib\\site-packages\\sklearn\\neural_network\\_multilayer_perceptron.py:585: ConvergenceWarning: Stochastic Optimizer: Maximum iterations (200) reached and the optimization hasn't converged yet.\n",
      "  % self.max_iter, ConvergenceWarning)\n",
      "C:\\Users\\TotEu\\anaconda3\\lib\\site-packages\\sklearn\\neural_network\\_multilayer_perceptron.py:585: ConvergenceWarning: Stochastic Optimizer: Maximum iterations (200) reached and the optimization hasn't converged yet.\n",
      "  % self.max_iter, ConvergenceWarning)\n",
      "C:\\Users\\TotEu\\anaconda3\\lib\\site-packages\\sklearn\\neural_network\\_multilayer_perceptron.py:585: ConvergenceWarning: Stochastic Optimizer: Maximum iterations (200) reached and the optimization hasn't converged yet.\n",
      "  % self.max_iter, ConvergenceWarning)\n",
      "C:\\Users\\TotEu\\anaconda3\\lib\\site-packages\\sklearn\\neural_network\\_multilayer_perceptron.py:585: ConvergenceWarning: Stochastic Optimizer: Maximum iterations (200) reached and the optimization hasn't converged yet.\n",
      "  % self.max_iter, ConvergenceWarning)\n",
      "C:\\Users\\TotEu\\anaconda3\\lib\\site-packages\\sklearn\\neural_network\\_multilayer_perceptron.py:585: ConvergenceWarning: Stochastic Optimizer: Maximum iterations (200) reached and the optimization hasn't converged yet.\n",
      "  % self.max_iter, ConvergenceWarning)\n",
      "C:\\Users\\TotEu\\anaconda3\\lib\\site-packages\\sklearn\\neural_network\\_multilayer_perceptron.py:585: ConvergenceWarning: Stochastic Optimizer: Maximum iterations (200) reached and the optimization hasn't converged yet.\n",
      "  % self.max_iter, ConvergenceWarning)\n",
      "C:\\Users\\TotEu\\anaconda3\\lib\\site-packages\\sklearn\\neural_network\\_multilayer_perceptron.py:585: ConvergenceWarning: Stochastic Optimizer: Maximum iterations (200) reached and the optimization hasn't converged yet.\n",
      "  % self.max_iter, ConvergenceWarning)\n",
      "C:\\Users\\TotEu\\anaconda3\\lib\\site-packages\\sklearn\\neural_network\\_multilayer_perceptron.py:585: ConvergenceWarning: Stochastic Optimizer: Maximum iterations (200) reached and the optimization hasn't converged yet.\n",
      "  % self.max_iter, ConvergenceWarning)\n",
      "C:\\Users\\TotEu\\anaconda3\\lib\\site-packages\\sklearn\\neural_network\\_multilayer_perceptron.py:585: ConvergenceWarning: Stochastic Optimizer: Maximum iterations (200) reached and the optimization hasn't converged yet.\n",
      "  % self.max_iter, ConvergenceWarning)\n",
      "C:\\Users\\TotEu\\anaconda3\\lib\\site-packages\\sklearn\\neural_network\\_multilayer_perceptron.py:585: ConvergenceWarning: Stochastic Optimizer: Maximum iterations (200) reached and the optimization hasn't converged yet.\n",
      "  % self.max_iter, ConvergenceWarning)\n",
      "[Parallel(n_jobs=1)]: Done  12 out of  12 | elapsed:    5.3s finished\n",
      "C:\\Users\\TotEu\\anaconda3\\lib\\site-packages\\sklearn\\neural_network\\_multilayer_perceptron.py:585: ConvergenceWarning: Stochastic Optimizer: Maximum iterations (200) reached and the optimization hasn't converged yet.\n",
      "  % self.max_iter, ConvergenceWarning)\n"
     ]
    },
    {
     "data": {
      "text/plain": [
       "GridSearchCV(cv=3,\n",
       "             estimator=Pipeline(steps=[('preprocess',\n",
       "                                        ColumnTransformer(transformers=[('continous',\n",
       "                                                                         MinMaxScaler(),\n",
       "                                                                         ['wheel-base',\n",
       "                                                                          'length',\n",
       "                                                                          'height',\n",
       "                                                                          'bore',\n",
       "                                                                          'stroke',\n",
       "                                                                          'compression-ratio',\n",
       "                                                                          'horsepower',\n",
       "                                                                          'peak-rpm',\n",
       "                                                                          'symboling',\n",
       "                                                                          'curb-weight',\n",
       "                                                                          'engine-size',\n",
       "                                                                          'city-mpg',\n",
       "                                                                          'highway-mpg']),\n",
       "                                                                        ('onehot',\n",
       "                                                                         OneHotEncoder(handle_unknown='ignore'),\n",
       "                                                                         ['make',\n",
       "                                                                          'fuel-type',\n",
       "                                                                          'aspiration',\n",
       "                                                                          'body-style',\n",
       "                                                                          'drive-wheels',\n",
       "                                                                          'engine-location',\n",
       "                                                                          'engine-type',\n",
       "                                                                          'num-of-cylinders',\n",
       "                                                                          'fuel-system'])])),\n",
       "                                       ('clf', MLPClassifier(solver='sgd'))]),\n",
       "             param_grid={'clf__alpha': [0.0001, 0.001, 0.01, 0.1],\n",
       "                         'clf__hidden_layer_sizes': [(256, 50)]},\n",
       "             return_train_score=True, scoring='recall_macro', verbose=1)"
      ]
     },
     "execution_count": 434,
     "metadata": {},
     "output_type": "execute_result"
    }
   ],
   "source": [
    "grid.fit(X_train,y_train)"
   ]
  },
  {
   "cell_type": "code",
   "execution_count": 435,
   "metadata": {},
   "outputs": [
    {
     "data": {
      "text/plain": [
       "{'clf__alpha': 0.001, 'clf__hidden_layer_sizes': (256, 50)}"
      ]
     },
     "execution_count": 435,
     "metadata": {},
     "output_type": "execute_result"
    }
   ],
   "source": [
    "grid.best_params_"
   ]
  },
  {
   "cell_type": "code",
   "execution_count": 436,
   "metadata": {},
   "outputs": [
    {
     "data": {
      "text/plain": [
       "0.7317719680464778"
      ]
     },
     "execution_count": 436,
     "metadata": {},
     "output_type": "execute_result"
    }
   ],
   "source": [
    "grid.best_score_"
   ]
  },
  {
   "cell_type": "markdown",
   "metadata": {},
   "source": [
    "### Test model accuracy"
   ]
  },
  {
   "cell_type": "code",
   "execution_count": 437,
   "metadata": {},
   "outputs": [],
   "source": [
    "y_pred = grid.best_estimator_.predict(X_test)"
   ]
  },
  {
   "cell_type": "code",
   "execution_count": 438,
   "metadata": {},
   "outputs": [
    {
     "name": "stdout",
     "output_type": "stream",
     "text": [
      "Accuracy on test data: 62.745%\n"
     ]
    }
   ],
   "source": [
    "from sklearn.metrics import accuracy_score, precision_score, recall_score, f1_score\n",
    "test_accuracy = accuracy_score(y_test, y_pred)\n",
    "\n",
    "print(\"Accuracy on test data: {:.3f}%\".format(test_accuracy*100))"
   ]
  },
  {
   "cell_type": "code",
   "execution_count": 439,
   "metadata": {},
   "outputs": [
    {
     "data": {
      "image/png": "[encoded data removed]",
      "text/plain": [
       "<Figure size 720x504 with 2 Axes>"
      ]
     },
     "metadata": {
      "needs_background": "light"
     },
     "output_type": "display_data"
    }
   ],
   "source": [
    "get_conf_matrix(y_test, y_pred,\"Multi-layer Perceptron\")"
   ]
  },
  {
   "cell_type": "code",
   "execution_count": 440,
   "metadata": {},
   "outputs": [
    {
     "name": "stdout",
     "output_type": "stream",
     "text": [
      "Accuracy on test data: 62.745%\n",
      "Precision on test data: 64.550%\n",
      "Recall on test data: 67.917%\n",
      "F1 Score on test data: 56.831%\n"
     ]
    }
   ],
   "source": [
    "from sklearn.metrics import accuracy_score, precision_score, recall_score, f1_score, roc_auc_score\n",
    "test_accuracy = accuracy_score(y_test, y_pred)\n",
    "test_precision = precision_score(y_test, y_pred, average='macro')\n",
    "test_recall = recall_score(y_test, y_pred, average='macro')\n",
    "test_f1_score = f1_score(y_test, y_pred, average='macro')\n",
    "\n",
    "print(\"Accuracy on test data: {:.3f}%\".format(test_accuracy*100))\n",
    "print(\"Precision on test data: {:.3f}%\".format(test_precision*100))\n",
    "print(\"Recall on test data: {:.3f}%\".format(test_recall*100))\n",
    "print(\"F1 Score on test data: {:.3f}%\".format(test_f1_score*100))\n"
   ]
  },
  {
   "cell_type": "code",
   "execution_count": 441,
   "metadata": {},
   "outputs": [
    {
     "data": {
      "text/html": [
       "<style  type=\"text/css\" >\n",
       "    #T_9d7383c2_24e5_11eb_804b_3c9509f49954 th {\n",
       "          background: #3d405b;\n",
       "          color: white;\n",
       "    }    #T_9d7383c2_24e5_11eb_804b_3c9509f49954 td {\n",
       "          border: 2px solid black;\n",
       "    }</style><table id=\"T_9d7383c2_24e5_11eb_804b_3c9509f49954\" ><thead>    <tr>        <th class=\"blank level0\" ></th>        <th class=\"col_heading level0 col0\" >Feature</th>        <th class=\"col_heading level0 col1\" >Importance</th>        <th class=\"col_heading level0 col2\" >Standard Deviation</th>    </tr></thead><tbody>\n",
       "                <tr>\n",
       "                        <th id=\"T_9d7383c2_24e5_11eb_804b_3c9509f49954level0_row0\" class=\"row_heading level0 row0\" >0</th>\n",
       "                        <td id=\"T_9d7383c2_24e5_11eb_804b_3c9509f49954row0_col0\" class=\"data row0 col0\" >fuel-system</td>\n",
       "                        <td id=\"T_9d7383c2_24e5_11eb_804b_3c9509f49954row0_col1\" class=\"data row0 col1\" >0.028</td>\n",
       "                        <td id=\"T_9d7383c2_24e5_11eb_804b_3c9509f49954row0_col2\" class=\"data row0 col2\" >0.012</td>\n",
       "            </tr>\n",
       "    </tbody></table>"
      ],
      "text/plain": [
       "<pandas.io.formats.style.Styler at 0x20a22e6a6c8>"
      ]
     },
     "execution_count": 441,
     "metadata": {},
     "output_type": "execute_result"
    }
   ],
   "source": [
    "importance_df = get_feature_importance()\n",
    "\n",
    "importance_df.style.set_table_styles(\n",
    "        [{'selector' : 'th',\n",
    "          'props': [('background','#3d405b'),('color','white')]},\n",
    "\n",
    "        {'selector':'td',\n",
    "        'props':[('border','2px solid black')]}])"
   ]
  },
  {
   "cell_type": "markdown",
   "metadata": {},
   "source": [
    "### --------------------- 1---------------------------"
   ]
  },
  {
   "cell_type": "code",
   "execution_count": 123,
   "metadata": {},
   "outputs": [],
   "source": [
    "X1 = X.drop('fuel-system',axis=1)"
   ]
  },
  {
   "cell_type": "code",
   "execution_count": 124,
   "metadata": {},
   "outputs": [],
   "source": [
    "from sklearn.model_selection import train_test_split\n",
    "\n",
    "X_train, X_test, y_train, y_test = train_test_split(X1, y,test_size=0.25,random_state=1)"
   ]
  },
  {
   "cell_type": "code",
   "execution_count": 125,
   "metadata": {},
   "outputs": [],
   "source": [
    "from sklearn.compose import ColumnTransformer\n",
    "from sklearn.preprocessing import MinMaxScaler, OneHotEncoder\n",
    "\n",
    "# Column Transformer to scale numerical data, encode categorical variables\n",
    "#    And ordinal encode Global Sales\n",
    "\n",
    "\n",
    "continous = X1.select_dtypes('float64').columns.tolist()+\\\n",
    "            X1.select_dtypes('int64').columns.tolist()\n",
    "categorical = X1.select_dtypes('object').columns.tolist()\n",
    "\n",
    "ct = ColumnTransformer([\n",
    " (\"continous\", MinMaxScaler(), continous),\n",
    " (\"onehot\", OneHotEncoder(handle_unknown='ignore'), categorical)\n",
    "])"
   ]
  },
  {
   "cell_type": "code",
   "execution_count": 126,
   "metadata": {},
   "outputs": [],
   "source": [
    "from sklearn.model_selection import GridSearchCV\n",
    "from sklearn.pipeline import Pipeline\n",
    "from sklearn.neural_network import MLPClassifier\n",
    "\n",
    "\n",
    "pipe = Pipeline([\n",
    " ('preprocess', ct),\n",
    " ('clf',MLPClassifier(solver='sgd'))\n",
    "])\n",
    "\n",
    "# The batch size is just = number of samples\n",
    "param_grid = {\n",
    "    'clf__hidden_layer_sizes':[(256,50)],\n",
    "    'clf__alpha':[0.0001,0.001,0.01,0.1], #L2 penalty regulorarization term\n",
    "}\n",
    "\n",
    "grid=GridSearchCV(estimator=pipe, param_grid=param_grid,cv=3,\n",
    " scoring='recall_macro',return_train_score=True,\n",
    " verbose=1,)"
   ]
  },
  {
   "cell_type": "code",
   "execution_count": 127,
   "metadata": {},
   "outputs": [
    {
     "name": "stdout",
     "output_type": "stream",
     "text": [
      "Fitting 3 folds for each of 4 candidates, totalling 12 fits\n"
     ]
    },
    {
     "name": "stderr",
     "output_type": "stream",
     "text": [
      "[Parallel(n_jobs=1)]: Using backend SequentialBackend with 1 concurrent workers.\n",
      "C:\\Users\\TotEu\\anaconda3\\lib\\site-packages\\sklearn\\neural_network\\_multilayer_perceptron.py:585: ConvergenceWarning: Stochastic Optimizer: Maximum iterations (200) reached and the optimization hasn't converged yet.\n",
      "  % self.max_iter, ConvergenceWarning)\n",
      "C:\\Users\\TotEu\\anaconda3\\lib\\site-packages\\sklearn\\neural_network\\_multilayer_perceptron.py:585: ConvergenceWarning: Stochastic Optimizer: Maximum iterations (200) reached and the optimization hasn't converged yet.\n",
      "  % self.max_iter, ConvergenceWarning)\n",
      "C:\\Users\\TotEu\\anaconda3\\lib\\site-packages\\sklearn\\neural_network\\_multilayer_perceptron.py:585: ConvergenceWarning: Stochastic Optimizer: Maximum iterations (200) reached and the optimization hasn't converged yet.\n",
      "  % self.max_iter, ConvergenceWarning)\n",
      "C:\\Users\\TotEu\\anaconda3\\lib\\site-packages\\sklearn\\neural_network\\_multilayer_perceptron.py:585: ConvergenceWarning: Stochastic Optimizer: Maximum iterations (200) reached and the optimization hasn't converged yet.\n",
      "  % self.max_iter, ConvergenceWarning)\n",
      "C:\\Users\\TotEu\\anaconda3\\lib\\site-packages\\sklearn\\neural_network\\_multilayer_perceptron.py:585: ConvergenceWarning: Stochastic Optimizer: Maximum iterations (200) reached and the optimization hasn't converged yet.\n",
      "  % self.max_iter, ConvergenceWarning)\n",
      "C:\\Users\\TotEu\\anaconda3\\lib\\site-packages\\sklearn\\neural_network\\_multilayer_perceptron.py:585: ConvergenceWarning: Stochastic Optimizer: Maximum iterations (200) reached and the optimization hasn't converged yet.\n",
      "  % self.max_iter, ConvergenceWarning)\n",
      "C:\\Users\\TotEu\\anaconda3\\lib\\site-packages\\sklearn\\neural_network\\_multilayer_perceptron.py:585: ConvergenceWarning: Stochastic Optimizer: Maximum iterations (200) reached and the optimization hasn't converged yet.\n",
      "  % self.max_iter, ConvergenceWarning)\n",
      "C:\\Users\\TotEu\\anaconda3\\lib\\site-packages\\sklearn\\neural_network\\_multilayer_perceptron.py:585: ConvergenceWarning: Stochastic Optimizer: Maximum iterations (200) reached and the optimization hasn't converged yet.\n",
      "  % self.max_iter, ConvergenceWarning)\n",
      "C:\\Users\\TotEu\\anaconda3\\lib\\site-packages\\sklearn\\neural_network\\_multilayer_perceptron.py:585: ConvergenceWarning: Stochastic Optimizer: Maximum iterations (200) reached and the optimization hasn't converged yet.\n",
      "  % self.max_iter, ConvergenceWarning)\n",
      "C:\\Users\\TotEu\\anaconda3\\lib\\site-packages\\sklearn\\neural_network\\_multilayer_perceptron.py:585: ConvergenceWarning: Stochastic Optimizer: Maximum iterations (200) reached and the optimization hasn't converged yet.\n",
      "  % self.max_iter, ConvergenceWarning)\n",
      "C:\\Users\\TotEu\\anaconda3\\lib\\site-packages\\sklearn\\neural_network\\_multilayer_perceptron.py:585: ConvergenceWarning: Stochastic Optimizer: Maximum iterations (200) reached and the optimization hasn't converged yet.\n",
      "  % self.max_iter, ConvergenceWarning)\n",
      "C:\\Users\\TotEu\\anaconda3\\lib\\site-packages\\sklearn\\neural_network\\_multilayer_perceptron.py:585: ConvergenceWarning: Stochastic Optimizer: Maximum iterations (200) reached and the optimization hasn't converged yet.\n",
      "  % self.max_iter, ConvergenceWarning)\n",
      "[Parallel(n_jobs=1)]: Done  12 out of  12 | elapsed:    5.1s finished\n",
      "C:\\Users\\TotEu\\anaconda3\\lib\\site-packages\\sklearn\\neural_network\\_multilayer_perceptron.py:585: ConvergenceWarning: Stochastic Optimizer: Maximum iterations (200) reached and the optimization hasn't converged yet.\n",
      "  % self.max_iter, ConvergenceWarning)\n"
     ]
    },
    {
     "data": {
      "text/plain": [
       "GridSearchCV(cv=3,\n",
       "             estimator=Pipeline(steps=[('preprocess',\n",
       "                                        ColumnTransformer(transformers=[('continous',\n",
       "                                                                         MinMaxScaler(),\n",
       "                                                                         ['wheel-base',\n",
       "                                                                          'length',\n",
       "                                                                          'height',\n",
       "                                                                          'bore',\n",
       "                                                                          'stroke',\n",
       "                                                                          'compression-ratio',\n",
       "                                                                          'horsepower',\n",
       "                                                                          'peak-rpm',\n",
       "                                                                          'symboling',\n",
       "                                                                          'curb-weight',\n",
       "                                                                          'engine-size',\n",
       "                                                                          'city-mpg',\n",
       "                                                                          'highway-mpg']),\n",
       "                                                                        ('onehot',\n",
       "                                                                         OneHotEncoder(handle_unknown='ignore'),\n",
       "                                                                         ['make',\n",
       "                                                                          'fuel-type',\n",
       "                                                                          'aspiration',\n",
       "                                                                          'body-style',\n",
       "                                                                          'drive-wheels',\n",
       "                                                                          'engine-location',\n",
       "                                                                          'engine-type',\n",
       "                                                                          'num-of-cylinders'])])),\n",
       "                                       ('clf', MLPClassifier(solver='sgd'))]),\n",
       "             param_grid={'clf__alpha': [0.0001, 0.001, 0.01, 0.1],\n",
       "                         'clf__hidden_layer_sizes': [(256, 50)]},\n",
       "             return_train_score=True, scoring='recall_macro', verbose=1)"
      ]
     },
     "execution_count": 127,
     "metadata": {},
     "output_type": "execute_result"
    }
   ],
   "source": [
    "grid.fit(X_train, y_train)"
   ]
  },
  {
   "cell_type": "code",
   "execution_count": 128,
   "metadata": {},
   "outputs": [],
   "source": [
    "y_pred = grid.best_estimator_.predict(X_test)"
   ]
  },
  {
   "cell_type": "code",
   "execution_count": 129,
   "metadata": {},
   "outputs": [
    {
     "name": "stdout",
     "output_type": "stream",
     "text": [
      "Accuracy on test data: 56.863%\n"
     ]
    }
   ],
   "source": [
    "from sklearn.metrics import accuracy_score\n",
    "test_accuracy = accuracy_score(y_test, y_pred)\n",
    "\n",
    "print(\"Accuracy on test data: {:.3f}%\".format(test_accuracy*100))"
   ]
  },
  {
   "cell_type": "markdown",
   "metadata": {},
   "source": [
    "## ------------------------------------ 2 ------------------------------"
   ]
  },
  {
   "cell_type": "code",
   "execution_count": 132,
   "metadata": {},
   "outputs": [],
   "source": [
    "X1 = X.drop('num-of-cylinders',axis=1)"
   ]
  },
  {
   "cell_type": "code",
   "execution_count": 133,
   "metadata": {},
   "outputs": [],
   "source": [
    "from sklearn.model_selection import train_test_split\n",
    "\n",
    "X_train, X_test, y_train, y_test = train_test_split(X1, y,test_size=0.25,random_state=1)"
   ]
  },
  {
   "cell_type": "code",
   "execution_count": 134,
   "metadata": {},
   "outputs": [],
   "source": [
    "from sklearn.compose import ColumnTransformer\n",
    "from sklearn.preprocessing import MinMaxScaler, OneHotEncoder\n",
    "\n",
    "# Column Transformer to scale numerical data, encode categorical variables\n",
    "#    And ordinal encode Global Sales\n",
    "\n",
    "\n",
    "continous = X1.select_dtypes('float64').columns.tolist()+\\\n",
    "            X1.select_dtypes('int64').columns.tolist()\n",
    "categorical = X1.select_dtypes('object').columns.tolist()\n",
    "\n",
    "ct = ColumnTransformer([\n",
    " (\"continous\", MinMaxScaler(), continous),\n",
    " (\"onehot\", OneHotEncoder(handle_unknown='ignore'), categorical)\n",
    "])"
   ]
  },
  {
   "cell_type": "code",
   "execution_count": 135,
   "metadata": {},
   "outputs": [],
   "source": [
    "from sklearn.model_selection import GridSearchCV\n",
    "from sklearn.pipeline import Pipeline\n",
    "from sklearn.neural_network import MLPClassifier\n",
    "\n",
    "\n",
    "pipe = Pipeline([\n",
    " ('preprocess', ct),\n",
    " ('clf',MLPClassifier(solver='sgd'))\n",
    "])\n",
    "\n",
    "# The batch size is just = number of samples\n",
    "param_grid = {\n",
    "    'clf__hidden_layer_sizes':[(256,50)],\n",
    "    'clf__alpha':[0.0001,0.001,0.01,0.1], #L2 penalty regulorarization term\n",
    "}\n",
    "\n",
    "grid=GridSearchCV(estimator=pipe, param_grid=param_grid,cv=3,\n",
    " scoring='recall_macro',return_train_score=True,\n",
    " verbose=1,)"
   ]
  },
  {
   "cell_type": "code",
   "execution_count": 136,
   "metadata": {},
   "outputs": [
    {
     "name": "stdout",
     "output_type": "stream",
     "text": [
      "Fitting 3 folds for each of 4 candidates, totalling 12 fits\n"
     ]
    },
    {
     "name": "stderr",
     "output_type": "stream",
     "text": [
      "[Parallel(n_jobs=1)]: Using backend SequentialBackend with 1 concurrent workers.\n",
      "C:\\Users\\TotEu\\anaconda3\\lib\\site-packages\\sklearn\\neural_network\\_multilayer_perceptron.py:585: ConvergenceWarning: Stochastic Optimizer: Maximum iterations (200) reached and the optimization hasn't converged yet.\n",
      "  % self.max_iter, ConvergenceWarning)\n",
      "C:\\Users\\TotEu\\anaconda3\\lib\\site-packages\\sklearn\\neural_network\\_multilayer_perceptron.py:585: ConvergenceWarning: Stochastic Optimizer: Maximum iterations (200) reached and the optimization hasn't converged yet.\n",
      "  % self.max_iter, ConvergenceWarning)\n",
      "C:\\Users\\TotEu\\anaconda3\\lib\\site-packages\\sklearn\\neural_network\\_multilayer_perceptron.py:585: ConvergenceWarning: Stochastic Optimizer: Maximum iterations (200) reached and the optimization hasn't converged yet.\n",
      "  % self.max_iter, ConvergenceWarning)\n",
      "C:\\Users\\TotEu\\anaconda3\\lib\\site-packages\\sklearn\\neural_network\\_multilayer_perceptron.py:585: ConvergenceWarning: Stochastic Optimizer: Maximum iterations (200) reached and the optimization hasn't converged yet.\n",
      "  % self.max_iter, ConvergenceWarning)\n",
      "C:\\Users\\TotEu\\anaconda3\\lib\\site-packages\\sklearn\\neural_network\\_multilayer_perceptron.py:585: ConvergenceWarning: Stochastic Optimizer: Maximum iterations (200) reached and the optimization hasn't converged yet.\n",
      "  % self.max_iter, ConvergenceWarning)\n",
      "C:\\Users\\TotEu\\anaconda3\\lib\\site-packages\\sklearn\\neural_network\\_multilayer_perceptron.py:585: ConvergenceWarning: Stochastic Optimizer: Maximum iterations (200) reached and the optimization hasn't converged yet.\n",
      "  % self.max_iter, ConvergenceWarning)\n",
      "C:\\Users\\TotEu\\anaconda3\\lib\\site-packages\\sklearn\\neural_network\\_multilayer_perceptron.py:585: ConvergenceWarning: Stochastic Optimizer: Maximum iterations (200) reached and the optimization hasn't converged yet.\n",
      "  % self.max_iter, ConvergenceWarning)\n",
      "C:\\Users\\TotEu\\anaconda3\\lib\\site-packages\\sklearn\\neural_network\\_multilayer_perceptron.py:585: ConvergenceWarning: Stochastic Optimizer: Maximum iterations (200) reached and the optimization hasn't converged yet.\n",
      "  % self.max_iter, ConvergenceWarning)\n",
      "C:\\Users\\TotEu\\anaconda3\\lib\\site-packages\\sklearn\\neural_network\\_multilayer_perceptron.py:585: ConvergenceWarning: Stochastic Optimizer: Maximum iterations (200) reached and the optimization hasn't converged yet.\n",
      "  % self.max_iter, ConvergenceWarning)\n",
      "C:\\Users\\TotEu\\anaconda3\\lib\\site-packages\\sklearn\\neural_network\\_multilayer_perceptron.py:585: ConvergenceWarning: Stochastic Optimizer: Maximum iterations (200) reached and the optimization hasn't converged yet.\n",
      "  % self.max_iter, ConvergenceWarning)\n",
      "C:\\Users\\TotEu\\anaconda3\\lib\\site-packages\\sklearn\\neural_network\\_multilayer_perceptron.py:585: ConvergenceWarning: Stochastic Optimizer: Maximum iterations (200) reached and the optimization hasn't converged yet.\n",
      "  % self.max_iter, ConvergenceWarning)\n",
      "C:\\Users\\TotEu\\anaconda3\\lib\\site-packages\\sklearn\\neural_network\\_multilayer_perceptron.py:585: ConvergenceWarning: Stochastic Optimizer: Maximum iterations (200) reached and the optimization hasn't converged yet.\n",
      "  % self.max_iter, ConvergenceWarning)\n",
      "[Parallel(n_jobs=1)]: Done  12 out of  12 | elapsed:    4.7s finished\n",
      "C:\\Users\\TotEu\\anaconda3\\lib\\site-packages\\sklearn\\neural_network\\_multilayer_perceptron.py:585: ConvergenceWarning: Stochastic Optimizer: Maximum iterations (200) reached and the optimization hasn't converged yet.\n",
      "  % self.max_iter, ConvergenceWarning)\n"
     ]
    },
    {
     "data": {
      "text/plain": [
       "GridSearchCV(cv=3,\n",
       "             estimator=Pipeline(steps=[('preprocess',\n",
       "                                        ColumnTransformer(transformers=[('continous',\n",
       "                                                                         MinMaxScaler(),\n",
       "                                                                         ['wheel-base',\n",
       "                                                                          'length',\n",
       "                                                                          'height',\n",
       "                                                                          'bore',\n",
       "                                                                          'stroke',\n",
       "                                                                          'compression-ratio',\n",
       "                                                                          'horsepower',\n",
       "                                                                          'peak-rpm',\n",
       "                                                                          'symboling',\n",
       "                                                                          'curb-weight',\n",
       "                                                                          'engine-size',\n",
       "                                                                          'city-mpg',\n",
       "                                                                          'highway-mpg']),\n",
       "                                                                        ('onehot',\n",
       "                                                                         OneHotEncoder(handle_unknown='ignore'),\n",
       "                                                                         ['make',\n",
       "                                                                          'fuel-type',\n",
       "                                                                          'aspiration',\n",
       "                                                                          'body-style',\n",
       "                                                                          'drive-wheels',\n",
       "                                                                          'engine-location',\n",
       "                                                                          'engine-type',\n",
       "                                                                          'fuel-system'])])),\n",
       "                                       ('clf', MLPClassifier(solver='sgd'))]),\n",
       "             param_grid={'clf__alpha': [0.0001, 0.001, 0.01, 0.1],\n",
       "                         'clf__hidden_layer_sizes': [(256, 50)]},\n",
       "             return_train_score=True, scoring='recall_macro', verbose=1)"
      ]
     },
     "execution_count": 136,
     "metadata": {},
     "output_type": "execute_result"
    }
   ],
   "source": [
    "grid.fit(X_train, y_train)"
   ]
  },
  {
   "cell_type": "code",
   "execution_count": 137,
   "metadata": {},
   "outputs": [],
   "source": [
    "y_pred = grid.best_estimator_.predict(X_test)"
   ]
  },
  {
   "cell_type": "code",
   "execution_count": 138,
   "metadata": {},
   "outputs": [
    {
     "name": "stdout",
     "output_type": "stream",
     "text": [
      "Accuracy on test data: 66.667%\n"
     ]
    }
   ],
   "source": [
    "from sklearn.metrics import accuracy_score\n",
    "test_accuracy = accuracy_score(y_test, y_pred)\n",
    "\n",
    "print(\"Accuracy on test data: {:.3f}%\".format(test_accuracy*100))"
   ]
  },
  {
   "cell_type": "markdown",
   "metadata": {},
   "source": [
    "## -------------------------------- 3 -------------------------------------"
   ]
  },
  {
   "cell_type": "code",
   "execution_count": 144,
   "metadata": {},
   "outputs": [],
   "source": [
    "X1 = X.drop('make',axis=1)"
   ]
  },
  {
   "cell_type": "code",
   "execution_count": 145,
   "metadata": {},
   "outputs": [],
   "source": [
    "from sklearn.model_selection import train_test_split\n",
    "\n",
    "X_train, X_test, y_train, y_test = train_test_split(X1, y,test_size=0.25,random_state=1)"
   ]
  },
  {
   "cell_type": "code",
   "execution_count": 146,
   "metadata": {},
   "outputs": [],
   "source": [
    "from sklearn.compose import ColumnTransformer\n",
    "from sklearn.preprocessing import MinMaxScaler, OneHotEncoder\n",
    "\n",
    "# Column Transformer to scale numerical data, encode categorical variables\n",
    "#    And ordinal encode Global Sales\n",
    "\n",
    "\n",
    "continous = X1.select_dtypes('float64').columns.tolist()+\\\n",
    "            X1.select_dtypes('int64').columns.tolist()\n",
    "categorical = X1.select_dtypes('object').columns.tolist()\n",
    "\n",
    "ct = ColumnTransformer([\n",
    " (\"continous\", MinMaxScaler(), continous),\n",
    " (\"onehot\", OneHotEncoder(handle_unknown='ignore'), categorical)\n",
    "])"
   ]
  },
  {
   "cell_type": "code",
   "execution_count": 147,
   "metadata": {},
   "outputs": [],
   "source": [
    "from sklearn.model_selection import GridSearchCV\n",
    "from sklearn.pipeline import Pipeline\n",
    "from sklearn.neural_network import MLPClassifier\n",
    "\n",
    "\n",
    "pipe = Pipeline([\n",
    " ('preprocess', ct),\n",
    " ('clf',MLPClassifier(solver='sgd'))\n",
    "])\n",
    "\n",
    "# The batch size is just = number of samples\n",
    "param_grid = {\n",
    "    'clf__hidden_layer_sizes':[(256,50)],\n",
    "    'clf__alpha':[0.0001,0.001,0.01,0.1], #L2 penalty regulorarization term\n",
    "}\n",
    "\n",
    "grid=GridSearchCV(estimator=pipe, param_grid=param_grid,cv=3,\n",
    " scoring='recall_macro',return_train_score=True,\n",
    " verbose=1,)"
   ]
  },
  {
   "cell_type": "code",
   "execution_count": 148,
   "metadata": {},
   "outputs": [
    {
     "name": "stdout",
     "output_type": "stream",
     "text": [
      "Fitting 3 folds for each of 4 candidates, totalling 12 fits\n"
     ]
    },
    {
     "name": "stderr",
     "output_type": "stream",
     "text": [
      "[Parallel(n_jobs=1)]: Using backend SequentialBackend with 1 concurrent workers.\n",
      "C:\\Users\\TotEu\\anaconda3\\lib\\site-packages\\sklearn\\neural_network\\_multilayer_perceptron.py:585: ConvergenceWarning: Stochastic Optimizer: Maximum iterations (200) reached and the optimization hasn't converged yet.\n",
      "  % self.max_iter, ConvergenceWarning)\n",
      "C:\\Users\\TotEu\\anaconda3\\lib\\site-packages\\sklearn\\neural_network\\_multilayer_perceptron.py:585: ConvergenceWarning: Stochastic Optimizer: Maximum iterations (200) reached and the optimization hasn't converged yet.\n",
      "  % self.max_iter, ConvergenceWarning)\n",
      "C:\\Users\\TotEu\\anaconda3\\lib\\site-packages\\sklearn\\neural_network\\_multilayer_perceptron.py:585: ConvergenceWarning: Stochastic Optimizer: Maximum iterations (200) reached and the optimization hasn't converged yet.\n",
      "  % self.max_iter, ConvergenceWarning)\n",
      "C:\\Users\\TotEu\\anaconda3\\lib\\site-packages\\sklearn\\neural_network\\_multilayer_perceptron.py:585: ConvergenceWarning: Stochastic Optimizer: Maximum iterations (200) reached and the optimization hasn't converged yet.\n",
      "  % self.max_iter, ConvergenceWarning)\n",
      "C:\\Users\\TotEu\\anaconda3\\lib\\site-packages\\sklearn\\neural_network\\_multilayer_perceptron.py:585: ConvergenceWarning: Stochastic Optimizer: Maximum iterations (200) reached and the optimization hasn't converged yet.\n",
      "  % self.max_iter, ConvergenceWarning)\n",
      "C:\\Users\\TotEu\\anaconda3\\lib\\site-packages\\sklearn\\neural_network\\_multilayer_perceptron.py:585: ConvergenceWarning: Stochastic Optimizer: Maximum iterations (200) reached and the optimization hasn't converged yet.\n",
      "  % self.max_iter, ConvergenceWarning)\n",
      "C:\\Users\\TotEu\\anaconda3\\lib\\site-packages\\sklearn\\neural_network\\_multilayer_perceptron.py:585: ConvergenceWarning: Stochastic Optimizer: Maximum iterations (200) reached and the optimization hasn't converged yet.\n",
      "  % self.max_iter, ConvergenceWarning)\n",
      "C:\\Users\\TotEu\\anaconda3\\lib\\site-packages\\sklearn\\neural_network\\_multilayer_perceptron.py:585: ConvergenceWarning: Stochastic Optimizer: Maximum iterations (200) reached and the optimization hasn't converged yet.\n",
      "  % self.max_iter, ConvergenceWarning)\n",
      "C:\\Users\\TotEu\\anaconda3\\lib\\site-packages\\sklearn\\neural_network\\_multilayer_perceptron.py:585: ConvergenceWarning: Stochastic Optimizer: Maximum iterations (200) reached and the optimization hasn't converged yet.\n",
      "  % self.max_iter, ConvergenceWarning)\n",
      "C:\\Users\\TotEu\\anaconda3\\lib\\site-packages\\sklearn\\neural_network\\_multilayer_perceptron.py:585: ConvergenceWarning: Stochastic Optimizer: Maximum iterations (200) reached and the optimization hasn't converged yet.\n",
      "  % self.max_iter, ConvergenceWarning)\n",
      "C:\\Users\\TotEu\\anaconda3\\lib\\site-packages\\sklearn\\neural_network\\_multilayer_perceptron.py:585: ConvergenceWarning: Stochastic Optimizer: Maximum iterations (200) reached and the optimization hasn't converged yet.\n",
      "  % self.max_iter, ConvergenceWarning)\n",
      "C:\\Users\\TotEu\\anaconda3\\lib\\site-packages\\sklearn\\neural_network\\_multilayer_perceptron.py:585: ConvergenceWarning: Stochastic Optimizer: Maximum iterations (200) reached and the optimization hasn't converged yet.\n",
      "  % self.max_iter, ConvergenceWarning)\n",
      "[Parallel(n_jobs=1)]: Done  12 out of  12 | elapsed:    4.5s finished\n",
      "C:\\Users\\TotEu\\anaconda3\\lib\\site-packages\\sklearn\\neural_network\\_multilayer_perceptron.py:585: ConvergenceWarning: Stochastic Optimizer: Maximum iterations (200) reached and the optimization hasn't converged yet.\n",
      "  % self.max_iter, ConvergenceWarning)\n"
     ]
    },
    {
     "data": {
      "text/plain": [
       "GridSearchCV(cv=3,\n",
       "             estimator=Pipeline(steps=[('preprocess',\n",
       "                                        ColumnTransformer(transformers=[('continous',\n",
       "                                                                         MinMaxScaler(),\n",
       "                                                                         ['wheel-base',\n",
       "                                                                          'length',\n",
       "                                                                          'height',\n",
       "                                                                          'bore',\n",
       "                                                                          'stroke',\n",
       "                                                                          'compression-ratio',\n",
       "                                                                          'horsepower',\n",
       "                                                                          'peak-rpm',\n",
       "                                                                          'symboling',\n",
       "                                                                          'curb-weight',\n",
       "                                                                          'engine-size',\n",
       "                                                                          'city-mpg',\n",
       "                                                                          'highway-mpg']),\n",
       "                                                                        ('onehot',\n",
       "                                                                         OneHotEncoder(handle_unknown='ignore'),\n",
       "                                                                         ['fuel-type',\n",
       "                                                                          'aspiration',\n",
       "                                                                          'body-style',\n",
       "                                                                          'drive-wheels',\n",
       "                                                                          'engine-location',\n",
       "                                                                          'engine-type',\n",
       "                                                                          'num-of-cylinders',\n",
       "                                                                          'fuel-system'])])),\n",
       "                                       ('clf', MLPClassifier(solver='sgd'))]),\n",
       "             param_grid={'clf__alpha': [0.0001, 0.001, 0.01, 0.1],\n",
       "                         'clf__hidden_layer_sizes': [(256, 50)]},\n",
       "             return_train_score=True, scoring='recall_macro', verbose=1)"
      ]
     },
     "execution_count": 148,
     "metadata": {},
     "output_type": "execute_result"
    }
   ],
   "source": [
    "grid.fit(X_train, y_train)"
   ]
  },
  {
   "cell_type": "code",
   "execution_count": 149,
   "metadata": {},
   "outputs": [],
   "source": [
    "y_pred = grid.best_estimator_.predict(X_test)"
   ]
  },
  {
   "cell_type": "code",
   "execution_count": 150,
   "metadata": {},
   "outputs": [
    {
     "name": "stdout",
     "output_type": "stream",
     "text": [
      "Accuracy on test data: 68.627%\n"
     ]
    }
   ],
   "source": [
    "from sklearn.metrics import accuracy_score\n",
    "test_accuracy = accuracy_score(y_test, y_pred)\n",
    "\n",
    "print(\"Accuracy on test data: {:.3f}%\".format(test_accuracy*100))"
   ]
  },
  {
   "cell_type": "code",
   "execution_count": 151,
   "metadata": {},
   "outputs": [
    {
     "name": "stdout",
     "output_type": "stream",
     "text": [
      "0    23\n",
      "2    18\n",
      "1    10\n",
      "dtype: int64\n"
     ]
    },
    {
     "data": {
      "text/plain": [
       "1    20\n",
       "0    16\n",
       "2    15\n",
       "Name: price, dtype: int64"
      ]
     },
     "execution_count": 151,
     "metadata": {},
     "output_type": "execute_result"
    }
   ],
   "source": [
    "print(pd.Series(y_pred).value_counts())\n",
    "\n",
    "y_test.value_counts()"
   ]
  },
  {
   "cell_type": "markdown",
   "metadata": {},
   "source": [
    "## Support Vector Machines (SVM)"
   ]
  },
  {
   "cell_type": "code",
   "execution_count": 486,
   "metadata": {},
   "outputs": [],
   "source": [
    "from sklearn.model_selection import train_test_split\n",
    "\n",
    "X_train, X_test, y_train, y_test = train_test_split(X, y,test_size=0.25,random_state=1)"
   ]
  },
  {
   "cell_type": "code",
   "execution_count": 487,
   "metadata": {},
   "outputs": [],
   "source": [
    "from sklearn.svm import SVC\n",
    "\n",
    "pipe = Pipeline([\n",
    " ('preprocess', ct),\n",
    " ('clf',SVC())\n",
    "])\n",
    "\n",
    "# The batch size is just = number of samples\n",
    "param_grid = {\n",
    "    'clf__C':[10e-5,10e-3,10e0,10e1,10e3],\n",
    "    'clf__kernel':['rbf','poly','linear'],\n",
    "    'clf__degree':[2,3,4,5,6]\n",
    "}\n",
    "\n",
    "grid=GridSearchCV(estimator=pipe, param_grid=param_grid,cv=3,\n",
    " scoring='recall_macro',return_train_score=True,\n",
    " verbose=1,)"
   ]
  },
  {
   "cell_type": "code",
   "execution_count": 488,
   "metadata": {},
   "outputs": [
    {
     "name": "stdout",
     "output_type": "stream",
     "text": [
      "Fitting 3 folds for each of 75 candidates, totalling 225 fits\n"
     ]
    },
    {
     "name": "stderr",
     "output_type": "stream",
     "text": [
      "[Parallel(n_jobs=1)]: Using backend SequentialBackend with 1 concurrent workers.\n",
      "[Parallel(n_jobs=1)]: Done 225 out of 225 | elapsed:    4.9s finished\n"
     ]
    },
    {
     "data": {
      "text/plain": [
       "GridSearchCV(cv=3,\n",
       "             estimator=Pipeline(steps=[('preprocess',\n",
       "                                        ColumnTransformer(transformers=[('continous',\n",
       "                                                                         MinMaxScaler(),\n",
       "                                                                         ['wheel-base',\n",
       "                                                                          'length',\n",
       "                                                                          'height',\n",
       "                                                                          'bore',\n",
       "                                                                          'stroke',\n",
       "                                                                          'compression-ratio',\n",
       "                                                                          'horsepower',\n",
       "                                                                          'peak-rpm',\n",
       "                                                                          'symboling',\n",
       "                                                                          'engine-size',\n",
       "                                                                          'city-mpg',\n",
       "                                                                          'highway-mpg']),\n",
       "                                                                        ('onehot',\n",
       "                                                                         OneHotEncoder(handle_unknown='ignore'),\n",
       "                                                                         ['make',\n",
       "                                                                          'fuel-type',\n",
       "                                                                          'aspiration',\n",
       "                                                                          'body-style',\n",
       "                                                                          'drive-wheels',\n",
       "                                                                          'engine-location',\n",
       "                                                                          'engine-type',\n",
       "                                                                          'num-of-cylinders',\n",
       "                                                                          'fuel-system'])])),\n",
       "                                       ('clf', SVC())]),\n",
       "             param_grid={'clf__C': [0.0001, 0.01, 10.0, 100.0, 10000.0],\n",
       "                         'clf__degree': [2, 3, 4, 5, 6],\n",
       "                         'clf__kernel': ['rbf', 'poly', 'linear']},\n",
       "             return_train_score=True, scoring='recall_macro', verbose=1)"
      ]
     },
     "execution_count": 488,
     "metadata": {},
     "output_type": "execute_result"
    }
   ],
   "source": [
    "grid.fit(X_train,y_train)"
   ]
  },
  {
   "cell_type": "code",
   "execution_count": 489,
   "metadata": {},
   "outputs": [
    {
     "data": {
      "text/plain": [
       "{'clf__C': 10.0, 'clf__degree': 2, 'clf__kernel': 'rbf'}"
      ]
     },
     "execution_count": 489,
     "metadata": {},
     "output_type": "execute_result"
    }
   ],
   "source": [
    "grid.best_params_"
   ]
  },
  {
   "cell_type": "code",
   "execution_count": 490,
   "metadata": {},
   "outputs": [
    {
     "data": {
      "text/plain": [
       "0.7253812636165579"
      ]
     },
     "execution_count": 490,
     "metadata": {},
     "output_type": "execute_result"
    }
   ],
   "source": [
    "grid.best_score_"
   ]
  },
  {
   "cell_type": "code",
   "execution_count": 491,
   "metadata": {},
   "outputs": [
    {
     "data": {
      "text/plain": [
       "1    20\n",
       "0    16\n",
       "2    15\n",
       "Name: price, dtype: int64"
      ]
     },
     "execution_count": 491,
     "metadata": {},
     "output_type": "execute_result"
    }
   ],
   "source": [
    "y_test.value_counts()"
   ]
  },
  {
   "cell_type": "markdown",
   "metadata": {},
   "source": [
    "### Test model accuracy"
   ]
  },
  {
   "cell_type": "code",
   "execution_count": 492,
   "metadata": {},
   "outputs": [],
   "source": [
    "y_pred = grid.best_estimator_.predict(X_test)"
   ]
  },
  {
   "cell_type": "code",
   "execution_count": 493,
   "metadata": {},
   "outputs": [
    {
     "name": "stdout",
     "output_type": "stream",
     "text": [
      "Accuracy on test data: 82.353%\n"
     ]
    }
   ],
   "source": [
    "test_accuracy = accuracy_score(y_test, y_pred)\n",
    "\n",
    "print(\"Accuracy on test data: {:.3f}%\".format(test_accuracy*100))"
   ]
  },
  {
   "cell_type": "code",
   "execution_count": 494,
   "metadata": {},
   "outputs": [
    {
     "data": {
      "text/plain": [
       "1    25\n",
       "0    15\n",
       "2    11\n",
       "dtype: int64"
      ]
     },
     "execution_count": 494,
     "metadata": {},
     "output_type": "execute_result"
    }
   ],
   "source": [
    "pd.Series(y_pred).value_counts()"
   ]
  },
  {
   "cell_type": "code",
   "execution_count": 495,
   "metadata": {
    "scrolled": false
   },
   "outputs": [
    {
     "data": {
      "image/png": "[encoded data removed]",
      "text/plain": [
       "<Figure size 720x504 with 2 Axes>"
      ]
     },
     "metadata": {
      "needs_background": "light"
     },
     "output_type": "display_data"
    }
   ],
   "source": [
    "get_conf_matrix(y_test, y_pred, \"SVM\")"
   ]
  },
  {
   "cell_type": "code",
   "execution_count": 496,
   "metadata": {},
   "outputs": [
    {
     "name": "stdout",
     "output_type": "stream",
     "text": [
      "Accuracy on test data: 82.353%\n",
      "Precision on test data: 85.414%\n",
      "Recall on test data: 81.389%\n",
      "F1 Score on test data: 82.415%\n"
     ]
    }
   ],
   "source": [
    "test_accuracy = accuracy_score(y_test, y_pred)\n",
    "test_precision = precision_score(y_test, y_pred, average='macro')\n",
    "test_recall = recall_score(y_test, y_pred, average='macro')\n",
    "test_f1_score = f1_score(y_test, y_pred, average='macro')\n",
    "\n",
    "print(\"Accuracy on test data: {:.3f}%\".format(test_accuracy*100))\n",
    "print(\"Precision on test data: {:.3f}%\".format(test_precision*100))\n",
    "print(\"Recall on test data: {:.3f}%\".format(test_recall*100))\n",
    "print(\"F1 Score on test data: {:.3f}%\".format(test_f1_score*100))\n"
   ]
  },
  {
   "cell_type": "code",
   "execution_count": 497,
   "metadata": {
    "scrolled": true
   },
   "outputs": [
    {
     "data": {
      "text/html": [
       "<style  type=\"text/css\" >\n",
       "    #T_ef1e94c6_374f_11eb_acac_3c9509f49954 th {\n",
       "          background: #3d405b;\n",
       "          color: white;\n",
       "    }    #T_ef1e94c6_374f_11eb_acac_3c9509f49954 td {\n",
       "          border: 2px solid black;\n",
       "    }</style><table id=\"T_ef1e94c6_374f_11eb_acac_3c9509f49954\" ><thead>    <tr>        <th class=\"blank level0\" ></th>        <th class=\"col_heading level0 col0\" >Feature</th>        <th class=\"col_heading level0 col1\" >Importance</th>        <th class=\"col_heading level0 col2\" >Standard Deviation</th>    </tr></thead><tbody>\n",
       "                <tr>\n",
       "                        <th id=\"T_ef1e94c6_374f_11eb_acac_3c9509f49954level0_row0\" class=\"row_heading level0 row0\" >0</th>\n",
       "                        <td id=\"T_ef1e94c6_374f_11eb_acac_3c9509f49954row0_col0\" class=\"data row0 col0\" >fuel-system</td>\n",
       "                        <td id=\"T_ef1e94c6_374f_11eb_acac_3c9509f49954row0_col1\" class=\"data row0 col1\" >0.128</td>\n",
       "                        <td id=\"T_ef1e94c6_374f_11eb_acac_3c9509f49954row0_col2\" class=\"data row0 col2\" >0.018</td>\n",
       "            </tr>\n",
       "            <tr>\n",
       "                        <th id=\"T_ef1e94c6_374f_11eb_acac_3c9509f49954level0_row1\" class=\"row_heading level0 row1\" >1</th>\n",
       "                        <td id=\"T_ef1e94c6_374f_11eb_acac_3c9509f49954row1_col0\" class=\"data row1 col0\" >drive-wheels</td>\n",
       "                        <td id=\"T_ef1e94c6_374f_11eb_acac_3c9509f49954row1_col1\" class=\"data row1 col1\" >0.064</td>\n",
       "                        <td id=\"T_ef1e94c6_374f_11eb_acac_3c9509f49954row1_col2\" class=\"data row1 col2\" >0.012</td>\n",
       "            </tr>\n",
       "            <tr>\n",
       "                        <th id=\"T_ef1e94c6_374f_11eb_acac_3c9509f49954level0_row2\" class=\"row_heading level0 row2\" >2</th>\n",
       "                        <td id=\"T_ef1e94c6_374f_11eb_acac_3c9509f49954row2_col0\" class=\"data row2 col0\" >make</td>\n",
       "                        <td id=\"T_ef1e94c6_374f_11eb_acac_3c9509f49954row2_col1\" class=\"data row2 col1\" >0.055</td>\n",
       "                        <td id=\"T_ef1e94c6_374f_11eb_acac_3c9509f49954row2_col2\" class=\"data row2 col2\" >0.016</td>\n",
       "            </tr>\n",
       "            <tr>\n",
       "                        <th id=\"T_ef1e94c6_374f_11eb_acac_3c9509f49954level0_row3\" class=\"row_heading level0 row3\" >3</th>\n",
       "                        <td id=\"T_ef1e94c6_374f_11eb_acac_3c9509f49954row3_col0\" class=\"data row3 col0\" >aspiration</td>\n",
       "                        <td id=\"T_ef1e94c6_374f_11eb_acac_3c9509f49954row3_col1\" class=\"data row3 col1\" >0.037</td>\n",
       "                        <td id=\"T_ef1e94c6_374f_11eb_acac_3c9509f49954row3_col2\" class=\"data row3 col2\" >0.007</td>\n",
       "            </tr>\n",
       "            <tr>\n",
       "                        <th id=\"T_ef1e94c6_374f_11eb_acac_3c9509f49954level0_row4\" class=\"row_heading level0 row4\" >4</th>\n",
       "                        <td id=\"T_ef1e94c6_374f_11eb_acac_3c9509f49954row4_col0\" class=\"data row4 col0\" >num-of-cylinders</td>\n",
       "                        <td id=\"T_ef1e94c6_374f_11eb_acac_3c9509f49954row4_col1\" class=\"data row4 col1\" >0.023</td>\n",
       "                        <td id=\"T_ef1e94c6_374f_11eb_acac_3c9509f49954row4_col2\" class=\"data row4 col2\" >0.006</td>\n",
       "            </tr>\n",
       "            <tr>\n",
       "                        <th id=\"T_ef1e94c6_374f_11eb_acac_3c9509f49954level0_row5\" class=\"row_heading level0 row5\" >5</th>\n",
       "                        <td id=\"T_ef1e94c6_374f_11eb_acac_3c9509f49954row5_col0\" class=\"data row5 col0\" >bore</td>\n",
       "                        <td id=\"T_ef1e94c6_374f_11eb_acac_3c9509f49954row5_col1\" class=\"data row5 col1\" >0.015</td>\n",
       "                        <td id=\"T_ef1e94c6_374f_11eb_acac_3c9509f49954row5_col2\" class=\"data row5 col2\" >0.005</td>\n",
       "            </tr>\n",
       "    </tbody></table>"
      ],
      "text/plain": [
       "<pandas.io.formats.style.Styler at 0x1d2fec48b08>"
      ]
     },
     "execution_count": 497,
     "metadata": {},
     "output_type": "execute_result"
    }
   ],
   "source": [
    "importance_df = get_feature_importance()\n",
    "\n",
    "importance_df.style.set_table_styles(\n",
    "        [{'selector' : 'th',\n",
    "          'props': [('background','#3d405b'),('color','white')]},\n",
    "\n",
    "        {'selector':'td',\n",
    "        'props':[('border','2px solid black')]}])"
   ]
  },
  {
   "cell_type": "code",
   "execution_count": 498,
   "metadata": {},
   "outputs": [],
   "source": [
    "svm_features = ['highway-mpg','curb-weight','city-mpg','fuel-system',\n",
    "               'make','drive-wheels','body-style','num-of-cylinders','aspiration',\n",
    "               'fuel-type']"
   ]
  },
  {
   "cell_type": "markdown",
   "metadata": {},
   "source": [
    "### --------------------- 1---------------------------"
   ]
  },
  {
   "cell_type": "code",
   "execution_count": 515,
   "metadata": {},
   "outputs": [],
   "source": [
    "X1 = X.drop('highway-mpg',axis=1)"
   ]
  },
  {
   "cell_type": "code",
   "execution_count": 516,
   "metadata": {},
   "outputs": [],
   "source": [
    "from sklearn.model_selection import train_test_split\n",
    "\n",
    "X_train, X_test, y_train, y_test = train_test_split(X1, y,test_size=0.25,random_state=1)"
   ]
  },
  {
   "cell_type": "code",
   "execution_count": 517,
   "metadata": {},
   "outputs": [],
   "source": [
    "from sklearn.compose import ColumnTransformer\n",
    "from sklearn.preprocessing import MinMaxScaler, OneHotEncoder\n",
    "\n",
    "# Column Transformer to scale numerical data, encode categorical variables\n",
    "#    And ordinal encode Global Sales\n",
    "\n",
    "\n",
    "continous = X1.select_dtypes('float64').columns.tolist()+\\\n",
    "            X1.select_dtypes('int64').columns.tolist()\n",
    "categorical = X1.select_dtypes('object').columns.tolist()\n",
    "\n",
    "ct = ColumnTransformer([\n",
    " (\"continous\", MinMaxScaler(), continous),\n",
    " (\"onehot\", OneHotEncoder(handle_unknown='ignore'), categorical)\n",
    "])"
   ]
  },
  {
   "cell_type": "code",
   "execution_count": 518,
   "metadata": {},
   "outputs": [],
   "source": [
    "pipe = Pipeline([\n",
    " ('preprocess', ct),\n",
    " ('clf',SVC())\n",
    "])\n",
    "\n",
    "# The batch size is just = number of samples\n",
    "param_grid = {\n",
    "    'clf__C':[10e-5,10e-3,10e0,10e1,10e3],\n",
    "    'clf__kernel':['rbf','poly','linear'],\n",
    "    'clf__degree':[2,3,4,5,6]\n",
    "}\n",
    "\n",
    "grid=GridSearchCV(estimator=pipe, param_grid=param_grid,cv=3,\n",
    " scoring='recall_macro',return_train_score=True,\n",
    " verbose=1,)"
   ]
  },
  {
   "cell_type": "code",
   "execution_count": 519,
   "metadata": {
    "scrolled": true
   },
   "outputs": [
    {
     "name": "stdout",
     "output_type": "stream",
     "text": [
      "Fitting 3 folds for each of 75 candidates, totalling 225 fits\n"
     ]
    },
    {
     "name": "stderr",
     "output_type": "stream",
     "text": [
      "[Parallel(n_jobs=1)]: Using backend SequentialBackend with 1 concurrent workers.\n",
      "[Parallel(n_jobs=1)]: Done 225 out of 225 | elapsed:    4.6s finished\n"
     ]
    },
    {
     "data": {
      "text/plain": [
       "GridSearchCV(cv=3,\n",
       "             estimator=Pipeline(steps=[('preprocess',\n",
       "                                        ColumnTransformer(transformers=[('continous',\n",
       "                                                                         MinMaxScaler(),\n",
       "                                                                         ['wheel-base',\n",
       "                                                                          'length',\n",
       "                                                                          'height',\n",
       "                                                                          'bore',\n",
       "                                                                          'stroke',\n",
       "                                                                          'compression-ratio',\n",
       "                                                                          'horsepower',\n",
       "                                                                          'peak-rpm',\n",
       "                                                                          'symboling',\n",
       "                                                                          'curb-weight',\n",
       "                                                                          'engine-size',\n",
       "                                                                          'city-mpg']),\n",
       "                                                                        ('onehot',\n",
       "                                                                         OneHotEncoder(handle_unknown='ignore'),\n",
       "                                                                         ['make',\n",
       "                                                                          'fuel-type',\n",
       "                                                                          'aspiration',\n",
       "                                                                          'body-style',\n",
       "                                                                          'drive-wheels',\n",
       "                                                                          'engine-location',\n",
       "                                                                          'engine-type',\n",
       "                                                                          'num-of-cylinders',\n",
       "                                                                          'fuel-system'])])),\n",
       "                                       ('clf', SVC())]),\n",
       "             param_grid={'clf__C': [0.0001, 0.01, 10.0, 100.0, 10000.0],\n",
       "                         'clf__degree': [2, 3, 4, 5, 6],\n",
       "                         'clf__kernel': ['rbf', 'poly', 'linear']},\n",
       "             return_train_score=True, scoring='recall_macro', verbose=1)"
      ]
     },
     "execution_count": 519,
     "metadata": {},
     "output_type": "execute_result"
    }
   ],
   "source": [
    "grid.fit(X_train, y_train)"
   ]
  },
  {
   "cell_type": "code",
   "execution_count": 520,
   "metadata": {},
   "outputs": [],
   "source": [
    "y_pred = grid.best_estimator_.predict(X_test)"
   ]
  },
  {
   "cell_type": "code",
   "execution_count": 521,
   "metadata": {},
   "outputs": [
    {
     "name": "stdout",
     "output_type": "stream",
     "text": [
      "Accuracy on test data: 94.118%\n"
     ]
    }
   ],
   "source": [
    "from sklearn.metrics import accuracy_score\n",
    "test_accuracy = accuracy_score(y_test, y_pred)\n",
    "\n",
    "print(\"Accuracy on test data: {:.3f}%\".format(test_accuracy*100))"
   ]
  },
  {
   "cell_type": "markdown",
   "metadata": {},
   "source": [
    "## ------------------------------------ 2 ------------------------------"
   ]
  },
  {
   "cell_type": "code",
   "execution_count": 522,
   "metadata": {},
   "outputs": [],
   "source": [
    "X1 = X.drop('curb-weight',axis=1)"
   ]
  },
  {
   "cell_type": "code",
   "execution_count": 523,
   "metadata": {},
   "outputs": [],
   "source": [
    "from sklearn.model_selection import train_test_split\n",
    "\n",
    "X_train, X_test, y_train, y_test = train_test_split(X1, y,test_size=0.25,random_state=1)"
   ]
  },
  {
   "cell_type": "code",
   "execution_count": 524,
   "metadata": {},
   "outputs": [],
   "source": [
    "from sklearn.compose import ColumnTransformer\n",
    "from sklearn.preprocessing import MinMaxScaler, OneHotEncoder\n",
    "\n",
    "# Column Transformer to scale numerical data, encode categorical variables\n",
    "#    And ordinal encode Global Sales\n",
    "\n",
    "\n",
    "continous = X1.select_dtypes('float64').columns.tolist()+\\\n",
    "            X1.select_dtypes('int64').columns.tolist()\n",
    "categorical = X1.select_dtypes('object').columns.tolist()\n",
    "\n",
    "ct = ColumnTransformer([\n",
    " (\"continous\", MinMaxScaler(), continous),\n",
    " (\"onehot\", OneHotEncoder(handle_unknown='ignore'), categorical)\n",
    "])"
   ]
  },
  {
   "cell_type": "code",
   "execution_count": 525,
   "metadata": {},
   "outputs": [],
   "source": [
    "pipe = Pipeline([\n",
    " ('preprocess', ct),\n",
    " ('clf',SVC())\n",
    "])\n",
    "\n",
    "# The batch size is just = number of samples\n",
    "param_grid = {\n",
    "    'clf__C':[10e-5,10e-3,10e0,10e1,10e3],\n",
    "    'clf__kernel':['rbf','poly','linear'],\n",
    "    'clf__degree':[2,3,4,5,6]\n",
    "}\n",
    "\n",
    "grid=GridSearchCV(estimator=pipe, param_grid=param_grid,cv=3,\n",
    " scoring='recall_macro',return_train_score=True,\n",
    " verbose=1,)"
   ]
  },
  {
   "cell_type": "code",
   "execution_count": 526,
   "metadata": {},
   "outputs": [
    {
     "name": "stdout",
     "output_type": "stream",
     "text": [
      "Fitting 3 folds for each of 75 candidates, totalling 225 fits\n"
     ]
    },
    {
     "name": "stderr",
     "output_type": "stream",
     "text": [
      "[Parallel(n_jobs=1)]: Using backend SequentialBackend with 1 concurrent workers.\n",
      "[Parallel(n_jobs=1)]: Done 225 out of 225 | elapsed:    4.8s finished\n"
     ]
    },
    {
     "data": {
      "text/plain": [
       "GridSearchCV(cv=3,\n",
       "             estimator=Pipeline(steps=[('preprocess',\n",
       "                                        ColumnTransformer(transformers=[('continous',\n",
       "                                                                         MinMaxScaler(),\n",
       "                                                                         ['wheel-base',\n",
       "                                                                          'length',\n",
       "                                                                          'height',\n",
       "                                                                          'bore',\n",
       "                                                                          'stroke',\n",
       "                                                                          'compression-ratio',\n",
       "                                                                          'horsepower',\n",
       "                                                                          'peak-rpm',\n",
       "                                                                          'symboling',\n",
       "                                                                          'engine-size',\n",
       "                                                                          'city-mpg',\n",
       "                                                                          'highway-mpg']),\n",
       "                                                                        ('onehot',\n",
       "                                                                         OneHotEncoder(handle_unknown='ignore'),\n",
       "                                                                         ['make',\n",
       "                                                                          'fuel-type',\n",
       "                                                                          'aspiration',\n",
       "                                                                          'body-style',\n",
       "                                                                          'drive-wheels',\n",
       "                                                                          'engine-location',\n",
       "                                                                          'engine-type',\n",
       "                                                                          'num-of-cylinders',\n",
       "                                                                          'fuel-system'])])),\n",
       "                                       ('clf', SVC())]),\n",
       "             param_grid={'clf__C': [0.0001, 0.01, 10.0, 100.0, 10000.0],\n",
       "                         'clf__degree': [2, 3, 4, 5, 6],\n",
       "                         'clf__kernel': ['rbf', 'poly', 'linear']},\n",
       "             return_train_score=True, scoring='recall_macro', verbose=1)"
      ]
     },
     "execution_count": 526,
     "metadata": {},
     "output_type": "execute_result"
    }
   ],
   "source": [
    "grid.fit(X_train, y_train)"
   ]
  },
  {
   "cell_type": "code",
   "execution_count": 527,
   "metadata": {},
   "outputs": [],
   "source": [
    "y_pred = grid.best_estimator_.predict(X_test)"
   ]
  },
  {
   "cell_type": "code",
   "execution_count": 528,
   "metadata": {},
   "outputs": [
    {
     "name": "stdout",
     "output_type": "stream",
     "text": [
      "Accuracy on test data: 82.353%\n"
     ]
    }
   ],
   "source": [
    "from sklearn.metrics import accuracy_score\n",
    "test_accuracy = accuracy_score(y_test, y_pred)\n",
    "\n",
    "print(\"Accuracy on test data: {:.3f}%\".format(test_accuracy*100))"
   ]
  },
  {
   "cell_type": "markdown",
   "metadata": {},
   "source": [
    "## -------------------------------- 3 -------------------------------------"
   ]
  },
  {
   "cell_type": "code",
   "execution_count": 529,
   "metadata": {},
   "outputs": [],
   "source": [
    "X1 = X.drop('city-mpg',axis=1)"
   ]
  },
  {
   "cell_type": "code",
   "execution_count": 530,
   "metadata": {},
   "outputs": [],
   "source": [
    "from sklearn.model_selection import train_test_split\n",
    "\n",
    "X_train, X_test, y_train, y_test = train_test_split(X1, y,test_size=0.25,random_state=1)"
   ]
  },
  {
   "cell_type": "code",
   "execution_count": 531,
   "metadata": {},
   "outputs": [],
   "source": [
    "from sklearn.compose import ColumnTransformer\n",
    "from sklearn.preprocessing import MinMaxScaler, OneHotEncoder\n",
    "\n",
    "# Column Transformer to scale numerical data, encode categorical variables\n",
    "#    And ordinal encode Global Sales\n",
    "\n",
    "\n",
    "continous = X1.select_dtypes('float64').columns.tolist()+\\\n",
    "            X1.select_dtypes('int64').columns.tolist()\n",
    "categorical = X1.select_dtypes('object').columns.tolist()\n",
    "\n",
    "ct = ColumnTransformer([\n",
    " (\"continous\", MinMaxScaler(), continous),\n",
    " (\"onehot\", OneHotEncoder(handle_unknown='ignore'), categorical)\n",
    "])"
   ]
  },
  {
   "cell_type": "code",
   "execution_count": 532,
   "metadata": {},
   "outputs": [],
   "source": [
    "from sklearn.linear_model import LogisticRegression\n",
    "\n",
    "pipe = Pipeline([\n",
    " ('preprocess', ct),\n",
    " ('clf',LogisticRegression())\n",
    "])\n",
    "\n",
    "# The batch size is just = number of samples\n",
    "param_grid = {\n",
    "    'clf__solver':['lbfgs','saga'],\n",
    "    'clf__multi_class':['ovr','multinomial'],\n",
    "}\n",
    "\n",
    "grid=GridSearchCV(estimator=pipe, param_grid=param_grid,cv=3,\n",
    " scoring='recall_macro',return_train_score=True,\n",
    " verbose=1,)"
   ]
  },
  {
   "cell_type": "code",
   "execution_count": 533,
   "metadata": {},
   "outputs": [
    {
     "name": "stdout",
     "output_type": "stream",
     "text": [
      "Fitting 3 folds for each of 4 candidates, totalling 12 fits\n"
     ]
    },
    {
     "name": "stderr",
     "output_type": "stream",
     "text": [
      "[Parallel(n_jobs=1)]: Using backend SequentialBackend with 1 concurrent workers.\n",
      "C:\\Users\\TotEu\\anaconda3\\lib\\site-packages\\sklearn\\linear_model\\_sag.py:330: ConvergenceWarning: The max_iter was reached which means the coef_ did not converge\n",
      "  \"the coef_ did not converge\", ConvergenceWarning)\n",
      "C:\\Users\\TotEu\\anaconda3\\lib\\site-packages\\sklearn\\linear_model\\_sag.py:330: ConvergenceWarning: The max_iter was reached which means the coef_ did not converge\n",
      "  \"the coef_ did not converge\", ConvergenceWarning)\n",
      "C:\\Users\\TotEu\\anaconda3\\lib\\site-packages\\sklearn\\linear_model\\_sag.py:330: ConvergenceWarning: The max_iter was reached which means the coef_ did not converge\n",
      "  \"the coef_ did not converge\", ConvergenceWarning)\n",
      "C:\\Users\\TotEu\\anaconda3\\lib\\site-packages\\sklearn\\linear_model\\_sag.py:330: ConvergenceWarning: The max_iter was reached which means the coef_ did not converge\n",
      "  \"the coef_ did not converge\", ConvergenceWarning)\n",
      "C:\\Users\\TotEu\\anaconda3\\lib\\site-packages\\sklearn\\linear_model\\_sag.py:330: ConvergenceWarning: The max_iter was reached which means the coef_ did not converge\n",
      "  \"the coef_ did not converge\", ConvergenceWarning)\n",
      "C:\\Users\\TotEu\\anaconda3\\lib\\site-packages\\sklearn\\linear_model\\_sag.py:330: ConvergenceWarning: The max_iter was reached which means the coef_ did not converge\n",
      "  \"the coef_ did not converge\", ConvergenceWarning)\n",
      "C:\\Users\\TotEu\\anaconda3\\lib\\site-packages\\sklearn\\linear_model\\_sag.py:330: ConvergenceWarning: The max_iter was reached which means the coef_ did not converge\n",
      "  \"the coef_ did not converge\", ConvergenceWarning)\n",
      "C:\\Users\\TotEu\\anaconda3\\lib\\site-packages\\sklearn\\linear_model\\_sag.py:330: ConvergenceWarning: The max_iter was reached which means the coef_ did not converge\n",
      "  \"the coef_ did not converge\", ConvergenceWarning)\n",
      "C:\\Users\\TotEu\\anaconda3\\lib\\site-packages\\sklearn\\linear_model\\_sag.py:330: ConvergenceWarning: The max_iter was reached which means the coef_ did not converge\n",
      "  \"the coef_ did not converge\", ConvergenceWarning)\n",
      "C:\\Users\\TotEu\\anaconda3\\lib\\site-packages\\sklearn\\linear_model\\_sag.py:330: ConvergenceWarning: The max_iter was reached which means the coef_ did not converge\n",
      "  \"the coef_ did not converge\", ConvergenceWarning)\n",
      "C:\\Users\\TotEu\\anaconda3\\lib\\site-packages\\sklearn\\linear_model\\_sag.py:330: ConvergenceWarning: The max_iter was reached which means the coef_ did not converge\n",
      "  \"the coef_ did not converge\", ConvergenceWarning)\n",
      "C:\\Users\\TotEu\\anaconda3\\lib\\site-packages\\sklearn\\linear_model\\_sag.py:330: ConvergenceWarning: The max_iter was reached which means the coef_ did not converge\n",
      "  \"the coef_ did not converge\", ConvergenceWarning)\n",
      "[Parallel(n_jobs=1)]: Done  12 out of  12 | elapsed:    0.4s finished\n"
     ]
    },
    {
     "data": {
      "text/plain": [
       "GridSearchCV(cv=3,\n",
       "             estimator=Pipeline(steps=[('preprocess',\n",
       "                                        ColumnTransformer(transformers=[('continous',\n",
       "                                                                         MinMaxScaler(),\n",
       "                                                                         ['wheel-base',\n",
       "                                                                          'length',\n",
       "                                                                          'height',\n",
       "                                                                          'bore',\n",
       "                                                                          'stroke',\n",
       "                                                                          'compression-ratio',\n",
       "                                                                          'horsepower',\n",
       "                                                                          'peak-rpm',\n",
       "                                                                          'symboling',\n",
       "                                                                          'curb-weight',\n",
       "                                                                          'engine-size',\n",
       "                                                                          'highway-mpg']),\n",
       "                                                                        ('onehot',\n",
       "                                                                         OneHotEncoder(handle_unknown='ignore'),\n",
       "                                                                         ['make',\n",
       "                                                                          'fuel-type',\n",
       "                                                                          'aspiration',\n",
       "                                                                          'body-style',\n",
       "                                                                          'drive-wheels',\n",
       "                                                                          'engine-location',\n",
       "                                                                          'engine-type',\n",
       "                                                                          'num-of-cylinders',\n",
       "                                                                          'fuel-system'])])),\n",
       "                                       ('clf', LogisticRegression())]),\n",
       "             param_grid={'clf__multi_class': ['ovr', 'multinomial'],\n",
       "                         'clf__solver': ['lbfgs', 'saga']},\n",
       "             return_train_score=True, scoring='recall_macro', verbose=1)"
      ]
     },
     "execution_count": 533,
     "metadata": {},
     "output_type": "execute_result"
    }
   ],
   "source": [
    "grid.fit(X_train, y_train)"
   ]
  },
  {
   "cell_type": "code",
   "execution_count": 534,
   "metadata": {},
   "outputs": [],
   "source": [
    "y_pred = grid.best_estimator_.predict(X_test)"
   ]
  },
  {
   "cell_type": "code",
   "execution_count": 535,
   "metadata": {
    "scrolled": true
   },
   "outputs": [
    {
     "name": "stdout",
     "output_type": "stream",
     "text": [
      "Accuracy on test data: 80.392%\n"
     ]
    }
   ],
   "source": [
    "from sklearn.metrics import accuracy_score\n",
    "test_accuracy = accuracy_score(y_test, y_pred)\n",
    "\n",
    "print(\"Accuracy on test data: {:.3f}%\".format(test_accuracy*100))"
   ]
  },
  {
   "cell_type": "code",
   "execution_count": 171,
   "metadata": {
    "scrolled": false
   },
   "outputs": [
    {
     "name": "stdout",
     "output_type": "stream",
     "text": [
      "0    20\n",
      "2    16\n",
      "1    15\n",
      "dtype: int64\n"
     ]
    },
    {
     "data": {
      "text/plain": [
       "1    20\n",
       "0    16\n",
       "2    15\n",
       "Name: price, dtype: int64"
      ]
     },
     "execution_count": 171,
     "metadata": {},
     "output_type": "execute_result"
    }
   ],
   "source": [
    "print(pd.Series(y_pred).value_counts())\n",
    "\n",
    "y_test.value_counts()"
   ]
  },
  {
   "cell_type": "markdown",
   "metadata": {},
   "source": [
    "## Logistic Regression"
   ]
  },
  {
   "cell_type": "code",
   "execution_count": null,
   "metadata": {},
   "outputs": [],
   "source": [
    "from sklearn.model_selection import train_test_split\n",
    "\n",
    "X_train, X_test, y_train, y_test = train_test_split(X, y,test_size=0.25,random_state=1)"
   ]
  },
  {
   "cell_type": "code",
   "execution_count": 443,
   "metadata": {},
   "outputs": [],
   "source": [
    "from sklearn.linear_model import LogisticRegression\n",
    "\n",
    "pipe = Pipeline([\n",
    " ('preprocess', ct),\n",
    " ('clf',LogisticRegression())\n",
    "])\n",
    "\n",
    "# The batch size is just = number of samples\n",
    "param_grid = {\n",
    "    'clf__solver':['lbfgs','saga'],\n",
    "    'clf__multi_class':['ovr','multinomial'],\n",
    "}\n",
    "\n",
    "grid=GridSearchCV(estimator=pipe, param_grid=param_grid,cv=3,\n",
    " scoring='recall_macro',return_train_score=True,\n",
    " verbose=1,)"
   ]
  },
  {
   "cell_type": "code",
   "execution_count": 444,
   "metadata": {},
   "outputs": [
    {
     "name": "stdout",
     "output_type": "stream",
     "text": [
      "Fitting 3 folds for each of 4 candidates, totalling 12 fits\n"
     ]
    },
    {
     "name": "stderr",
     "output_type": "stream",
     "text": [
      "[Parallel(n_jobs=1)]: Using backend SequentialBackend with 1 concurrent workers.\n",
      "C:\\Users\\TotEu\\anaconda3\\lib\\site-packages\\sklearn\\linear_model\\_sag.py:330: ConvergenceWarning: The max_iter was reached which means the coef_ did not converge\n",
      "  \"the coef_ did not converge\", ConvergenceWarning)\n",
      "C:\\Users\\TotEu\\anaconda3\\lib\\site-packages\\sklearn\\linear_model\\_sag.py:330: ConvergenceWarning: The max_iter was reached which means the coef_ did not converge\n",
      "  \"the coef_ did not converge\", ConvergenceWarning)\n",
      "C:\\Users\\TotEu\\anaconda3\\lib\\site-packages\\sklearn\\linear_model\\_sag.py:330: ConvergenceWarning: The max_iter was reached which means the coef_ did not converge\n",
      "  \"the coef_ did not converge\", ConvergenceWarning)\n",
      "C:\\Users\\TotEu\\anaconda3\\lib\\site-packages\\sklearn\\linear_model\\_sag.py:330: ConvergenceWarning: The max_iter was reached which means the coef_ did not converge\n",
      "  \"the coef_ did not converge\", ConvergenceWarning)\n",
      "C:\\Users\\TotEu\\anaconda3\\lib\\site-packages\\sklearn\\linear_model\\_sag.py:330: ConvergenceWarning: The max_iter was reached which means the coef_ did not converge\n",
      "  \"the coef_ did not converge\", ConvergenceWarning)\n",
      "C:\\Users\\TotEu\\anaconda3\\lib\\site-packages\\sklearn\\linear_model\\_sag.py:330: ConvergenceWarning: The max_iter was reached which means the coef_ did not converge\n",
      "  \"the coef_ did not converge\", ConvergenceWarning)\n",
      "C:\\Users\\TotEu\\anaconda3\\lib\\site-packages\\sklearn\\linear_model\\_sag.py:330: ConvergenceWarning: The max_iter was reached which means the coef_ did not converge\n",
      "  \"the coef_ did not converge\", ConvergenceWarning)\n",
      "C:\\Users\\TotEu\\anaconda3\\lib\\site-packages\\sklearn\\linear_model\\_sag.py:330: ConvergenceWarning: The max_iter was reached which means the coef_ did not converge\n",
      "  \"the coef_ did not converge\", ConvergenceWarning)\n",
      "C:\\Users\\TotEu\\anaconda3\\lib\\site-packages\\sklearn\\linear_model\\_sag.py:330: ConvergenceWarning: The max_iter was reached which means the coef_ did not converge\n",
      "  \"the coef_ did not converge\", ConvergenceWarning)\n",
      "C:\\Users\\TotEu\\anaconda3\\lib\\site-packages\\sklearn\\linear_model\\_sag.py:330: ConvergenceWarning: The max_iter was reached which means the coef_ did not converge\n",
      "  \"the coef_ did not converge\", ConvergenceWarning)\n",
      "C:\\Users\\TotEu\\anaconda3\\lib\\site-packages\\sklearn\\linear_model\\_sag.py:330: ConvergenceWarning: The max_iter was reached which means the coef_ did not converge\n",
      "  \"the coef_ did not converge\", ConvergenceWarning)\n",
      "[Parallel(n_jobs=1)]: Done  12 out of  12 | elapsed:    0.4s finished\n"
     ]
    },
    {
     "data": {
      "text/plain": [
       "GridSearchCV(cv=3,\n",
       "             estimator=Pipeline(steps=[('preprocess',\n",
       "                                        ColumnTransformer(transformers=[('continous',\n",
       "                                                                         MinMaxScaler(),\n",
       "                                                                         ['wheel-base',\n",
       "                                                                          'length',\n",
       "                                                                          'height',\n",
       "                                                                          'bore',\n",
       "                                                                          'stroke',\n",
       "                                                                          'compression-ratio',\n",
       "                                                                          'horsepower',\n",
       "                                                                          'peak-rpm',\n",
       "                                                                          'symboling',\n",
       "                                                                          'curb-weight',\n",
       "                                                                          'engine-size',\n",
       "                                                                          'city-mpg',\n",
       "                                                                          'highway-mpg']),\n",
       "                                                                        ('onehot',\n",
       "                                                                         OneHotEncoder(handle_unknown='ignore'),\n",
       "                                                                         ['make',\n",
       "                                                                          'fuel-type',\n",
       "                                                                          'aspiration',\n",
       "                                                                          'body-style',\n",
       "                                                                          'drive-wheels',\n",
       "                                                                          'engine-location',\n",
       "                                                                          'engine-type',\n",
       "                                                                          'num-of-cylinders',\n",
       "                                                                          'fuel-system'])])),\n",
       "                                       ('clf', LogisticRegression())]),\n",
       "             param_grid={'clf__multi_class': ['ovr', 'multinomial'],\n",
       "                         'clf__solver': ['lbfgs', 'saga']},\n",
       "             return_train_score=True, scoring='recall_macro', verbose=1)"
      ]
     },
     "execution_count": 444,
     "metadata": {},
     "output_type": "execute_result"
    }
   ],
   "source": [
    "grid.fit(X_train,y_train)"
   ]
  },
  {
   "cell_type": "code",
   "execution_count": 445,
   "metadata": {},
   "outputs": [
    {
     "data": {
      "text/plain": [
       "{'clf__multi_class': 'multinomial', 'clf__solver': 'lbfgs'}"
      ]
     },
     "execution_count": 445,
     "metadata": {},
     "output_type": "execute_result"
    }
   ],
   "source": [
    "grid.best_params_"
   ]
  },
  {
   "cell_type": "code",
   "execution_count": 446,
   "metadata": {},
   "outputs": [
    {
     "data": {
      "text/plain": [
       "0.7324255628177196"
      ]
     },
     "execution_count": 446,
     "metadata": {},
     "output_type": "execute_result"
    }
   ],
   "source": [
    "grid.best_score_"
   ]
  },
  {
   "cell_type": "markdown",
   "metadata": {},
   "source": [
    "### Test model accuracy"
   ]
  },
  {
   "cell_type": "code",
   "execution_count": 447,
   "metadata": {},
   "outputs": [],
   "source": [
    "y_pred = grid.best_estimator_.predict(X_test)"
   ]
  },
  {
   "cell_type": "code",
   "execution_count": 448,
   "metadata": {},
   "outputs": [
    {
     "name": "stdout",
     "output_type": "stream",
     "text": [
      "Accuracy on test data: 80.392%\n"
     ]
    }
   ],
   "source": [
    "test_accuracy = accuracy_score(y_test, y_pred)\n",
    "\n",
    "print(\"Accuracy on test data: {:.3f}%\".format(test_accuracy*100))"
   ]
  },
  {
   "cell_type": "code",
   "execution_count": 449,
   "metadata": {
    "scrolled": true
   },
   "outputs": [
    {
     "data": {
      "image/png": "[encoded data removed]",
      "text/plain": [
       "<Figure size 720x504 with 2 Axes>"
      ]
     },
     "metadata": {
      "needs_background": "light"
     },
     "output_type": "display_data"
    }
   ],
   "source": [
    "get_conf_matrix(y_test, y_pred, \"Logistic Regression\")"
   ]
  },
  {
   "cell_type": "code",
   "execution_count": 450,
   "metadata": {},
   "outputs": [
    {
     "name": "stdout",
     "output_type": "stream",
     "text": [
      "Accuracy on test data: 80.392%\n",
      "Precision on test data: 80.983%\n",
      "Recall on test data: 80.694%\n",
      "F1 Score on test data: 80.602%\n"
     ]
    }
   ],
   "source": [
    "test_accuracy = accuracy_score(y_test, y_pred)\n",
    "test_precision = precision_score(y_test, y_pred, average='macro')\n",
    "test_recall = recall_score(y_test, y_pred, average='macro')\n",
    "test_f1_score = f1_score(y_test, y_pred, average='macro')\n",
    "\n",
    "print(\"Accuracy on test data: {:.3f}%\".format(test_accuracy*100))\n",
    "print(\"Precision on test data: {:.3f}%\".format(test_precision*100))\n",
    "print(\"Recall on test data: {:.3f}%\".format(test_recall*100))\n",
    "print(\"F1 Score on test data: {:.3f}%\".format(test_f1_score*100))\n"
   ]
  },
  {
   "cell_type": "code",
   "execution_count": 451,
   "metadata": {
    "scrolled": true
   },
   "outputs": [
    {
     "data": {
      "text/html": [
       "<style  type=\"text/css\" >\n",
       "    #T_9f512c74_24e5_11eb_ad09_3c9509f49954 th {\n",
       "          background: #3d405b;\n",
       "          color: white;\n",
       "    }    #T_9f512c74_24e5_11eb_ad09_3c9509f49954 td {\n",
       "          border: 2px solid black;\n",
       "    }</style><table id=\"T_9f512c74_24e5_11eb_ad09_3c9509f49954\" ><thead>    <tr>        <th class=\"blank level0\" ></th>        <th class=\"col_heading level0 col0\" >Feature</th>        <th class=\"col_heading level0 col1\" >Importance</th>        <th class=\"col_heading level0 col2\" >Standard Deviation</th>    </tr></thead><tbody>\n",
       "                <tr>\n",
       "                        <th id=\"T_9f512c74_24e5_11eb_ad09_3c9509f49954level0_row0\" class=\"row_heading level0 row0\" >0</th>\n",
       "                        <td id=\"T_9f512c74_24e5_11eb_ad09_3c9509f49954row0_col0\" class=\"data row0 col0\" >fuel-system</td>\n",
       "                        <td id=\"T_9f512c74_24e5_11eb_ad09_3c9509f49954row0_col1\" class=\"data row0 col1\" >0.148</td>\n",
       "                        <td id=\"T_9f512c74_24e5_11eb_ad09_3c9509f49954row0_col2\" class=\"data row0 col2\" >0.017</td>\n",
       "            </tr>\n",
       "            <tr>\n",
       "                        <th id=\"T_9f512c74_24e5_11eb_ad09_3c9509f49954level0_row1\" class=\"row_heading level0 row1\" >1</th>\n",
       "                        <td id=\"T_9f512c74_24e5_11eb_ad09_3c9509f49954row1_col0\" class=\"data row1 col0\" >make</td>\n",
       "                        <td id=\"T_9f512c74_24e5_11eb_ad09_3c9509f49954row1_col1\" class=\"data row1 col1\" >0.092</td>\n",
       "                        <td id=\"T_9f512c74_24e5_11eb_ad09_3c9509f49954row1_col2\" class=\"data row1 col2\" >0.022</td>\n",
       "            </tr>\n",
       "            <tr>\n",
       "                        <th id=\"T_9f512c74_24e5_11eb_ad09_3c9509f49954level0_row2\" class=\"row_heading level0 row2\" >2</th>\n",
       "                        <td id=\"T_9f512c74_24e5_11eb_ad09_3c9509f49954row2_col0\" class=\"data row2 col0\" >drive-wheels</td>\n",
       "                        <td id=\"T_9f512c74_24e5_11eb_ad09_3c9509f49954row2_col1\" class=\"data row2 col1\" >0.078</td>\n",
       "                        <td id=\"T_9f512c74_24e5_11eb_ad09_3c9509f49954row2_col2\" class=\"data row2 col2\" >0.015</td>\n",
       "            </tr>\n",
       "            <tr>\n",
       "                        <th id=\"T_9f512c74_24e5_11eb_ad09_3c9509f49954level0_row3\" class=\"row_heading level0 row3\" >3</th>\n",
       "                        <td id=\"T_9f512c74_24e5_11eb_ad09_3c9509f49954row3_col0\" class=\"data row3 col0\" >num-of-cylinders</td>\n",
       "                        <td id=\"T_9f512c74_24e5_11eb_ad09_3c9509f49954row3_col1\" class=\"data row3 col1\" >0.046</td>\n",
       "                        <td id=\"T_9f512c74_24e5_11eb_ad09_3c9509f49954row3_col2\" class=\"data row3 col2\" >0.012</td>\n",
       "            </tr>\n",
       "            <tr>\n",
       "                        <th id=\"T_9f512c74_24e5_11eb_ad09_3c9509f49954level0_row4\" class=\"row_heading level0 row4\" >4</th>\n",
       "                        <td id=\"T_9f512c74_24e5_11eb_ad09_3c9509f49954row4_col0\" class=\"data row4 col0\" >bore</td>\n",
       "                        <td id=\"T_9f512c74_24e5_11eb_ad09_3c9509f49954row4_col1\" class=\"data row4 col1\" >0.031</td>\n",
       "                        <td id=\"T_9f512c74_24e5_11eb_ad09_3c9509f49954row4_col2\" class=\"data row4 col2\" >0.009</td>\n",
       "            </tr>\n",
       "            <tr>\n",
       "                        <th id=\"T_9f512c74_24e5_11eb_ad09_3c9509f49954level0_row5\" class=\"row_heading level0 row5\" >5</th>\n",
       "                        <td id=\"T_9f512c74_24e5_11eb_ad09_3c9509f49954row5_col0\" class=\"data row5 col0\" >aspiration</td>\n",
       "                        <td id=\"T_9f512c74_24e5_11eb_ad09_3c9509f49954row5_col1\" class=\"data row5 col1\" >0.030</td>\n",
       "                        <td id=\"T_9f512c74_24e5_11eb_ad09_3c9509f49954row5_col2\" class=\"data row5 col2\" >0.011</td>\n",
       "            </tr>\n",
       "            <tr>\n",
       "                        <th id=\"T_9f512c74_24e5_11eb_ad09_3c9509f49954level0_row6\" class=\"row_heading level0 row6\" >6</th>\n",
       "                        <td id=\"T_9f512c74_24e5_11eb_ad09_3c9509f49954row6_col0\" class=\"data row6 col0\" >curb-weight</td>\n",
       "                        <td id=\"T_9f512c74_24e5_11eb_ad09_3c9509f49954row6_col1\" class=\"data row6 col1\" >0.026</td>\n",
       "                        <td id=\"T_9f512c74_24e5_11eb_ad09_3c9509f49954row6_col2\" class=\"data row6 col2\" >0.012</td>\n",
       "            </tr>\n",
       "            <tr>\n",
       "                        <th id=\"T_9f512c74_24e5_11eb_ad09_3c9509f49954level0_row7\" class=\"row_heading level0 row7\" >7</th>\n",
       "                        <td id=\"T_9f512c74_24e5_11eb_ad09_3c9509f49954row7_col0\" class=\"data row7 col0\" >symboling</td>\n",
       "                        <td id=\"T_9f512c74_24e5_11eb_ad09_3c9509f49954row7_col1\" class=\"data row7 col1\" >0.023</td>\n",
       "                        <td id=\"T_9f512c74_24e5_11eb_ad09_3c9509f49954row7_col2\" class=\"data row7 col2\" >0.009</td>\n",
       "            </tr>\n",
       "            <tr>\n",
       "                        <th id=\"T_9f512c74_24e5_11eb_ad09_3c9509f49954level0_row8\" class=\"row_heading level0 row8\" >8</th>\n",
       "                        <td id=\"T_9f512c74_24e5_11eb_ad09_3c9509f49954row8_col0\" class=\"data row8 col0\" >height</td>\n",
       "                        <td id=\"T_9f512c74_24e5_11eb_ad09_3c9509f49954row8_col1\" class=\"data row8 col1\" >0.019</td>\n",
       "                        <td id=\"T_9f512c74_24e5_11eb_ad09_3c9509f49954row8_col2\" class=\"data row8 col2\" >0.006</td>\n",
       "            </tr>\n",
       "            <tr>\n",
       "                        <th id=\"T_9f512c74_24e5_11eb_ad09_3c9509f49954level0_row9\" class=\"row_heading level0 row9\" >9</th>\n",
       "                        <td id=\"T_9f512c74_24e5_11eb_ad09_3c9509f49954row9_col0\" class=\"data row9 col0\" >stroke</td>\n",
       "                        <td id=\"T_9f512c74_24e5_11eb_ad09_3c9509f49954row9_col1\" class=\"data row9 col1\" >0.014</td>\n",
       "                        <td id=\"T_9f512c74_24e5_11eb_ad09_3c9509f49954row9_col2\" class=\"data row9 col2\" >0.003</td>\n",
       "            </tr>\n",
       "    </tbody></table>"
      ],
      "text/plain": [
       "<pandas.io.formats.style.Styler at 0x20a22dd5ac8>"
      ]
     },
     "execution_count": 451,
     "metadata": {},
     "output_type": "execute_result"
    }
   ],
   "source": [
    "importance_df = get_feature_importance()\n",
    "\n",
    "importance_df.style.set_table_styles(\n",
    "        [{'selector' : 'th',\n",
    "          'props': [('background','#3d405b'),('color','white')]},\n",
    "\n",
    "        {'selector':'td',\n",
    "        'props':[('border','2px solid black')]}])"
   ]
  },
  {
   "cell_type": "code",
   "execution_count": 320,
   "metadata": {},
   "outputs": [],
   "source": [
    "lr_features = ['fuel-system','make','drive-wheels','num-of-cylinders',\n",
    "               'bore','aspiration','curb-weight','symboling','height','stroke']"
   ]
  },
  {
   "cell_type": "markdown",
   "metadata": {},
   "source": [
    "### --------------------- 1---------------------------"
   ]
  },
  {
   "cell_type": "code",
   "execution_count": 152,
   "metadata": {},
   "outputs": [],
   "source": [
    "X1 = X.drop('fuel-system',axis=1)"
   ]
  },
  {
   "cell_type": "code",
   "execution_count": 153,
   "metadata": {},
   "outputs": [],
   "source": [
    "from sklearn.model_selection import train_test_split\n",
    "\n",
    "X_train, X_test, y_train, y_test = train_test_split(X1, y,test_size=0.25,random_state=1)"
   ]
  },
  {
   "cell_type": "code",
   "execution_count": 154,
   "metadata": {},
   "outputs": [],
   "source": [
    "from sklearn.compose import ColumnTransformer\n",
    "from sklearn.preprocessing import MinMaxScaler, OneHotEncoder\n",
    "\n",
    "# Column Transformer to scale numerical data, encode categorical variables\n",
    "#    And ordinal encode Global Sales\n",
    "\n",
    "\n",
    "continous = X1.select_dtypes('float64').columns.tolist()+\\\n",
    "            X1.select_dtypes('int64').columns.tolist()\n",
    "categorical = X1.select_dtypes('object').columns.tolist()\n",
    "\n",
    "ct = ColumnTransformer([\n",
    " (\"continous\", MinMaxScaler(), continous),\n",
    " (\"onehot\", OneHotEncoder(handle_unknown='ignore'), categorical)\n",
    "])"
   ]
  },
  {
   "cell_type": "code",
   "execution_count": 155,
   "metadata": {},
   "outputs": [],
   "source": [
    "from sklearn.linear_model import LogisticRegression\n",
    "\n",
    "pipe = Pipeline([\n",
    " ('preprocess', ct),\n",
    " ('clf',LogisticRegression())\n",
    "])\n",
    "\n",
    "# The batch size is just = number of samples\n",
    "param_grid = {\n",
    "    'clf__solver':['lbfgs','saga'],\n",
    "    'clf__multi_class':['ovr','multinomial'],\n",
    "}\n",
    "\n",
    "grid=GridSearchCV(estimator=pipe, param_grid=param_grid,cv=3,\n",
    " scoring='recall_macro',return_train_score=True,\n",
    " verbose=1,)"
   ]
  },
  {
   "cell_type": "code",
   "execution_count": 156,
   "metadata": {
    "scrolled": true
   },
   "outputs": [
    {
     "name": "stdout",
     "output_type": "stream",
     "text": [
      "Fitting 3 folds for each of 4 candidates, totalling 12 fits\n"
     ]
    },
    {
     "name": "stderr",
     "output_type": "stream",
     "text": [
      "[Parallel(n_jobs=1)]: Using backend SequentialBackend with 1 concurrent workers.\n",
      "C:\\Users\\TotEu\\anaconda3\\lib\\site-packages\\sklearn\\linear_model\\_sag.py:330: ConvergenceWarning: The max_iter was reached which means the coef_ did not converge\n",
      "  \"the coef_ did not converge\", ConvergenceWarning)\n",
      "C:\\Users\\TotEu\\anaconda3\\lib\\site-packages\\sklearn\\linear_model\\_sag.py:330: ConvergenceWarning: The max_iter was reached which means the coef_ did not converge\n",
      "  \"the coef_ did not converge\", ConvergenceWarning)\n",
      "C:\\Users\\TotEu\\anaconda3\\lib\\site-packages\\sklearn\\linear_model\\_sag.py:330: ConvergenceWarning: The max_iter was reached which means the coef_ did not converge\n",
      "  \"the coef_ did not converge\", ConvergenceWarning)\n",
      "C:\\Users\\TotEu\\anaconda3\\lib\\site-packages\\sklearn\\linear_model\\_sag.py:330: ConvergenceWarning: The max_iter was reached which means the coef_ did not converge\n",
      "  \"the coef_ did not converge\", ConvergenceWarning)\n",
      "C:\\Users\\TotEu\\anaconda3\\lib\\site-packages\\sklearn\\linear_model\\_sag.py:330: ConvergenceWarning: The max_iter was reached which means the coef_ did not converge\n",
      "  \"the coef_ did not converge\", ConvergenceWarning)\n",
      "C:\\Users\\TotEu\\anaconda3\\lib\\site-packages\\sklearn\\linear_model\\_sag.py:330: ConvergenceWarning: The max_iter was reached which means the coef_ did not converge\n",
      "  \"the coef_ did not converge\", ConvergenceWarning)\n",
      "C:\\Users\\TotEu\\anaconda3\\lib\\site-packages\\sklearn\\linear_model\\_sag.py:330: ConvergenceWarning: The max_iter was reached which means the coef_ did not converge\n",
      "  \"the coef_ did not converge\", ConvergenceWarning)\n",
      "C:\\Users\\TotEu\\anaconda3\\lib\\site-packages\\sklearn\\linear_model\\_sag.py:330: ConvergenceWarning: The max_iter was reached which means the coef_ did not converge\n",
      "  \"the coef_ did not converge\", ConvergenceWarning)\n",
      "C:\\Users\\TotEu\\anaconda3\\lib\\site-packages\\sklearn\\linear_model\\_sag.py:330: ConvergenceWarning: The max_iter was reached which means the coef_ did not converge\n",
      "  \"the coef_ did not converge\", ConvergenceWarning)\n",
      "C:\\Users\\TotEu\\anaconda3\\lib\\site-packages\\sklearn\\linear_model\\_sag.py:330: ConvergenceWarning: The max_iter was reached which means the coef_ did not converge\n",
      "  \"the coef_ did not converge\", ConvergenceWarning)\n",
      "C:\\Users\\TotEu\\anaconda3\\lib\\site-packages\\sklearn\\linear_model\\_sag.py:330: ConvergenceWarning: The max_iter was reached which means the coef_ did not converge\n",
      "  \"the coef_ did not converge\", ConvergenceWarning)\n",
      "[Parallel(n_jobs=1)]: Done  12 out of  12 | elapsed:    0.8s finished\n"
     ]
    },
    {
     "data": {
      "text/plain": [
       "GridSearchCV(cv=3,\n",
       "             estimator=Pipeline(steps=[('preprocess',\n",
       "                                        ColumnTransformer(transformers=[('continous',\n",
       "                                                                         MinMaxScaler(),\n",
       "                                                                         ['wheel-base',\n",
       "                                                                          'length',\n",
       "                                                                          'height',\n",
       "                                                                          'bore',\n",
       "                                                                          'stroke',\n",
       "                                                                          'compression-ratio',\n",
       "                                                                          'horsepower',\n",
       "                                                                          'peak-rpm',\n",
       "                                                                          'symboling',\n",
       "                                                                          'curb-weight',\n",
       "                                                                          'engine-size',\n",
       "                                                                          'city-mpg',\n",
       "                                                                          'highway-mpg']),\n",
       "                                                                        ('onehot',\n",
       "                                                                         OneHotEncoder(handle_unknown='ignore'),\n",
       "                                                                         ['make',\n",
       "                                                                          'fuel-type',\n",
       "                                                                          'aspiration',\n",
       "                                                                          'body-style',\n",
       "                                                                          'drive-wheels',\n",
       "                                                                          'engine-location',\n",
       "                                                                          'engine-type',\n",
       "                                                                          'num-of-cylinders'])])),\n",
       "                                       ('clf', LogisticRegression())]),\n",
       "             param_grid={'clf__multi_class': ['ovr', 'multinomial'],\n",
       "                         'clf__solver': ['lbfgs', 'saga']},\n",
       "             return_train_score=True, scoring='recall_macro', verbose=1)"
      ]
     },
     "execution_count": 156,
     "metadata": {},
     "output_type": "execute_result"
    }
   ],
   "source": [
    "grid.fit(X_train, y_train)"
   ]
  },
  {
   "cell_type": "code",
   "execution_count": 157,
   "metadata": {},
   "outputs": [],
   "source": [
    "y_pred = grid.best_estimator_.predict(X_test)"
   ]
  },
  {
   "cell_type": "code",
   "execution_count": 158,
   "metadata": {},
   "outputs": [
    {
     "name": "stdout",
     "output_type": "stream",
     "text": [
      "Accuracy on test data: 80.392%\n"
     ]
    }
   ],
   "source": [
    "from sklearn.metrics import accuracy_score\n",
    "test_accuracy = accuracy_score(y_test, y_pred)\n",
    "\n",
    "print(\"Accuracy on test data: {:.3f}%\".format(test_accuracy*100))"
   ]
  },
  {
   "cell_type": "markdown",
   "metadata": {},
   "source": [
    "## ------------------------------------ 2 ------------------------------"
   ]
  },
  {
   "cell_type": "code",
   "execution_count": 160,
   "metadata": {},
   "outputs": [],
   "source": [
    "X1 = X.drop('make',axis=1)"
   ]
  },
  {
   "cell_type": "code",
   "execution_count": 161,
   "metadata": {},
   "outputs": [],
   "source": [
    "from sklearn.model_selection import train_test_split\n",
    "\n",
    "X_train, X_test, y_train, y_test = train_test_split(X1, y,test_size=0.25,random_state=1)"
   ]
  },
  {
   "cell_type": "code",
   "execution_count": 162,
   "metadata": {},
   "outputs": [],
   "source": [
    "from sklearn.compose import ColumnTransformer\n",
    "from sklearn.preprocessing import MinMaxScaler, OneHotEncoder\n",
    "\n",
    "# Column Transformer to scale numerical data, encode categorical variables\n",
    "#    And ordinal encode Global Sales\n",
    "\n",
    "\n",
    "continous = X1.select_dtypes('float64').columns.tolist()+\\\n",
    "            X1.select_dtypes('int64').columns.tolist()\n",
    "categorical = X1.select_dtypes('object').columns.tolist()\n",
    "\n",
    "ct = ColumnTransformer([\n",
    " (\"continous\", MinMaxScaler(), continous),\n",
    " (\"onehot\", OneHotEncoder(handle_unknown='ignore'), categorical)\n",
    "])"
   ]
  },
  {
   "cell_type": "code",
   "execution_count": 172,
   "metadata": {},
   "outputs": [],
   "source": [
    "from sklearn.linear_model import LogisticRegression\n",
    "\n",
    "pipe = Pipeline([\n",
    " ('preprocess', ct),\n",
    " ('clf',LogisticRegression())\n",
    "])\n",
    "\n",
    "# The batch size is just = number of samples\n",
    "param_grid = {\n",
    "    'clf__solver':['lbfgs','saga'],\n",
    "    'clf__multi_class':['ovr','multinomial'],\n",
    "}\n",
    "\n",
    "grid=GridSearchCV(estimator=pipe, param_grid=param_grid,cv=3,\n",
    " scoring='recall_macro',return_train_score=True,\n",
    " verbose=1,)"
   ]
  },
  {
   "cell_type": "code",
   "execution_count": 173,
   "metadata": {},
   "outputs": [
    {
     "name": "stdout",
     "output_type": "stream",
     "text": [
      "Fitting 3 folds for each of 4 candidates, totalling 12 fits\n"
     ]
    },
    {
     "name": "stderr",
     "output_type": "stream",
     "text": [
      "[Parallel(n_jobs=1)]: Using backend SequentialBackend with 1 concurrent workers.\n",
      "C:\\Users\\TotEu\\anaconda3\\lib\\site-packages\\sklearn\\linear_model\\_sag.py:330: ConvergenceWarning: The max_iter was reached which means the coef_ did not converge\n",
      "  \"the coef_ did not converge\", ConvergenceWarning)\n",
      "C:\\Users\\TotEu\\anaconda3\\lib\\site-packages\\sklearn\\linear_model\\_sag.py:330: ConvergenceWarning: The max_iter was reached which means the coef_ did not converge\n",
      "  \"the coef_ did not converge\", ConvergenceWarning)\n",
      "C:\\Users\\TotEu\\anaconda3\\lib\\site-packages\\sklearn\\linear_model\\_sag.py:330: ConvergenceWarning: The max_iter was reached which means the coef_ did not converge\n",
      "  \"the coef_ did not converge\", ConvergenceWarning)\n",
      "C:\\Users\\TotEu\\anaconda3\\lib\\site-packages\\sklearn\\linear_model\\_sag.py:330: ConvergenceWarning: The max_iter was reached which means the coef_ did not converge\n",
      "  \"the coef_ did not converge\", ConvergenceWarning)\n",
      "C:\\Users\\TotEu\\anaconda3\\lib\\site-packages\\sklearn\\linear_model\\_sag.py:330: ConvergenceWarning: The max_iter was reached which means the coef_ did not converge\n",
      "  \"the coef_ did not converge\", ConvergenceWarning)\n",
      "C:\\Users\\TotEu\\anaconda3\\lib\\site-packages\\sklearn\\linear_model\\_sag.py:330: ConvergenceWarning: The max_iter was reached which means the coef_ did not converge\n",
      "  \"the coef_ did not converge\", ConvergenceWarning)\n",
      "C:\\Users\\TotEu\\anaconda3\\lib\\site-packages\\sklearn\\linear_model\\_sag.py:330: ConvergenceWarning: The max_iter was reached which means the coef_ did not converge\n",
      "  \"the coef_ did not converge\", ConvergenceWarning)\n",
      "C:\\Users\\TotEu\\anaconda3\\lib\\site-packages\\sklearn\\linear_model\\_sag.py:330: ConvergenceWarning: The max_iter was reached which means the coef_ did not converge\n",
      "  \"the coef_ did not converge\", ConvergenceWarning)\n",
      "C:\\Users\\TotEu\\anaconda3\\lib\\site-packages\\sklearn\\linear_model\\_sag.py:330: ConvergenceWarning: The max_iter was reached which means the coef_ did not converge\n",
      "  \"the coef_ did not converge\", ConvergenceWarning)\n",
      "C:\\Users\\TotEu\\anaconda3\\lib\\site-packages\\sklearn\\linear_model\\_sag.py:330: ConvergenceWarning: The max_iter was reached which means the coef_ did not converge\n",
      "  \"the coef_ did not converge\", ConvergenceWarning)\n",
      "C:\\Users\\TotEu\\anaconda3\\lib\\site-packages\\sklearn\\linear_model\\_sag.py:330: ConvergenceWarning: The max_iter was reached which means the coef_ did not converge\n",
      "  \"the coef_ did not converge\", ConvergenceWarning)\n",
      "[Parallel(n_jobs=1)]: Done  12 out of  12 | elapsed:    0.4s finished\n"
     ]
    },
    {
     "data": {
      "text/plain": [
       "GridSearchCV(cv=3,\n",
       "             estimator=Pipeline(steps=[('preprocess',\n",
       "                                        ColumnTransformer(transformers=[('continous',\n",
       "                                                                         MinMaxScaler(),\n",
       "                                                                         ['wheel-base',\n",
       "                                                                          'length',\n",
       "                                                                          'height',\n",
       "                                                                          'bore',\n",
       "                                                                          'stroke',\n",
       "                                                                          'compression-ratio',\n",
       "                                                                          'horsepower',\n",
       "                                                                          'peak-rpm',\n",
       "                                                                          'symboling',\n",
       "                                                                          'curb-weight',\n",
       "                                                                          'engine-size',\n",
       "                                                                          'city-mpg',\n",
       "                                                                          'highway-mpg']),\n",
       "                                                                        ('onehot',\n",
       "                                                                         OneHotEncoder(handle_unknown='ignore'),\n",
       "                                                                         ['make',\n",
       "                                                                          'fuel-type',\n",
       "                                                                          'aspiration',\n",
       "                                                                          'body-style',\n",
       "                                                                          'engine-location',\n",
       "                                                                          'engine-type',\n",
       "                                                                          'num-of-cylinders',\n",
       "                                                                          'fuel-system'])])),\n",
       "                                       ('clf', LogisticRegression())]),\n",
       "             param_grid={'clf__multi_class': ['ovr', 'multinomial'],\n",
       "                         'clf__solver': ['lbfgs', 'saga']},\n",
       "             return_train_score=True, scoring='recall_macro', verbose=1)"
      ]
     },
     "execution_count": 173,
     "metadata": {},
     "output_type": "execute_result"
    }
   ],
   "source": [
    "grid.fit(X_train, y_train)"
   ]
  },
  {
   "cell_type": "code",
   "execution_count": 174,
   "metadata": {},
   "outputs": [],
   "source": [
    "y_pred = grid.best_estimator_.predict(X_test)"
   ]
  },
  {
   "cell_type": "code",
   "execution_count": 175,
   "metadata": {},
   "outputs": [
    {
     "name": "stdout",
     "output_type": "stream",
     "text": [
      "Accuracy on test data: 74.510%\n"
     ]
    }
   ],
   "source": [
    "from sklearn.metrics import accuracy_score\n",
    "test_accuracy = accuracy_score(y_test, y_pred)\n",
    "\n",
    "print(\"Accuracy on test data: {:.3f}%\".format(test_accuracy*100))"
   ]
  },
  {
   "cell_type": "markdown",
   "metadata": {},
   "source": [
    "## -------------------------------- 3 -------------------------------------"
   ]
  },
  {
   "cell_type": "code",
   "execution_count": 176,
   "metadata": {},
   "outputs": [],
   "source": [
    "X1 = X.drop('drive-wheels',axis=1)"
   ]
  },
  {
   "cell_type": "code",
   "execution_count": 177,
   "metadata": {},
   "outputs": [],
   "source": [
    "from sklearn.model_selection import train_test_split\n",
    "\n",
    "X_train, X_test, y_train, y_test = train_test_split(X1, y,test_size=0.25,random_state=1)"
   ]
  },
  {
   "cell_type": "code",
   "execution_count": 178,
   "metadata": {},
   "outputs": [],
   "source": [
    "from sklearn.compose import ColumnTransformer\n",
    "from sklearn.preprocessing import MinMaxScaler, OneHotEncoder\n",
    "\n",
    "# Column Transformer to scale numerical data, encode categorical variables\n",
    "#    And ordinal encode Global Sales\n",
    "\n",
    "\n",
    "continous = X1.select_dtypes('float64').columns.tolist()+\\\n",
    "            X1.select_dtypes('int64').columns.tolist()\n",
    "categorical = X1.select_dtypes('object').columns.tolist()\n",
    "\n",
    "ct = ColumnTransformer([\n",
    " (\"continous\", MinMaxScaler(), continous),\n",
    " (\"onehot\", OneHotEncoder(handle_unknown='ignore'), categorical)\n",
    "])"
   ]
  },
  {
   "cell_type": "code",
   "execution_count": 179,
   "metadata": {},
   "outputs": [],
   "source": [
    "from sklearn.linear_model import LogisticRegression\n",
    "\n",
    "pipe = Pipeline([\n",
    " ('preprocess', ct),\n",
    " ('clf',LogisticRegression())\n",
    "])\n",
    "\n",
    "# The batch size is just = number of samples\n",
    "param_grid = {\n",
    "    'clf__solver':['lbfgs','saga'],\n",
    "    'clf__multi_class':['ovr','multinomial'],\n",
    "}\n",
    "\n",
    "grid=GridSearchCV(estimator=pipe, param_grid=param_grid,cv=3,\n",
    " scoring='recall_macro',return_train_score=True,\n",
    " verbose=1,)"
   ]
  },
  {
   "cell_type": "code",
   "execution_count": 180,
   "metadata": {},
   "outputs": [
    {
     "name": "stdout",
     "output_type": "stream",
     "text": [
      "Fitting 3 folds for each of 4 candidates, totalling 12 fits\n"
     ]
    },
    {
     "name": "stderr",
     "output_type": "stream",
     "text": [
      "[Parallel(n_jobs=1)]: Using backend SequentialBackend with 1 concurrent workers.\n",
      "C:\\Users\\TotEu\\anaconda3\\lib\\site-packages\\sklearn\\linear_model\\_sag.py:330: ConvergenceWarning: The max_iter was reached which means the coef_ did not converge\n",
      "  \"the coef_ did not converge\", ConvergenceWarning)\n",
      "C:\\Users\\TotEu\\anaconda3\\lib\\site-packages\\sklearn\\linear_model\\_sag.py:330: ConvergenceWarning: The max_iter was reached which means the coef_ did not converge\n",
      "  \"the coef_ did not converge\", ConvergenceWarning)\n",
      "C:\\Users\\TotEu\\anaconda3\\lib\\site-packages\\sklearn\\linear_model\\_sag.py:330: ConvergenceWarning: The max_iter was reached which means the coef_ did not converge\n",
      "  \"the coef_ did not converge\", ConvergenceWarning)\n",
      "C:\\Users\\TotEu\\anaconda3\\lib\\site-packages\\sklearn\\linear_model\\_sag.py:330: ConvergenceWarning: The max_iter was reached which means the coef_ did not converge\n",
      "  \"the coef_ did not converge\", ConvergenceWarning)\n",
      "C:\\Users\\TotEu\\anaconda3\\lib\\site-packages\\sklearn\\linear_model\\_sag.py:330: ConvergenceWarning: The max_iter was reached which means the coef_ did not converge\n",
      "  \"the coef_ did not converge\", ConvergenceWarning)\n",
      "C:\\Users\\TotEu\\anaconda3\\lib\\site-packages\\sklearn\\linear_model\\_sag.py:330: ConvergenceWarning: The max_iter was reached which means the coef_ did not converge\n",
      "  \"the coef_ did not converge\", ConvergenceWarning)\n",
      "C:\\Users\\TotEu\\anaconda3\\lib\\site-packages\\sklearn\\linear_model\\_sag.py:330: ConvergenceWarning: The max_iter was reached which means the coef_ did not converge\n",
      "  \"the coef_ did not converge\", ConvergenceWarning)\n",
      "C:\\Users\\TotEu\\anaconda3\\lib\\site-packages\\sklearn\\linear_model\\_sag.py:330: ConvergenceWarning: The max_iter was reached which means the coef_ did not converge\n",
      "  \"the coef_ did not converge\", ConvergenceWarning)\n",
      "C:\\Users\\TotEu\\anaconda3\\lib\\site-packages\\sklearn\\linear_model\\_sag.py:330: ConvergenceWarning: The max_iter was reached which means the coef_ did not converge\n",
      "  \"the coef_ did not converge\", ConvergenceWarning)\n",
      "C:\\Users\\TotEu\\anaconda3\\lib\\site-packages\\sklearn\\linear_model\\_sag.py:330: ConvergenceWarning: The max_iter was reached which means the coef_ did not converge\n",
      "  \"the coef_ did not converge\", ConvergenceWarning)\n",
      "C:\\Users\\TotEu\\anaconda3\\lib\\site-packages\\sklearn\\linear_model\\_sag.py:330: ConvergenceWarning: The max_iter was reached which means the coef_ did not converge\n",
      "  \"the coef_ did not converge\", ConvergenceWarning)\n",
      "[Parallel(n_jobs=1)]: Done  12 out of  12 | elapsed:    0.4s finished\n"
     ]
    },
    {
     "data": {
      "text/plain": [
       "GridSearchCV(cv=3,\n",
       "             estimator=Pipeline(steps=[('preprocess',\n",
       "                                        ColumnTransformer(transformers=[('continous',\n",
       "                                                                         MinMaxScaler(),\n",
       "                                                                         ['wheel-base',\n",
       "                                                                          'length',\n",
       "                                                                          'height',\n",
       "                                                                          'bore',\n",
       "                                                                          'stroke',\n",
       "                                                                          'compression-ratio',\n",
       "                                                                          'horsepower',\n",
       "                                                                          'peak-rpm',\n",
       "                                                                          'symboling',\n",
       "                                                                          'curb-weight',\n",
       "                                                                          'engine-size',\n",
       "                                                                          'city-mpg',\n",
       "                                                                          'highway-mpg']),\n",
       "                                                                        ('onehot',\n",
       "                                                                         OneHotEncoder(handle_unknown='ignore'),\n",
       "                                                                         ['make',\n",
       "                                                                          'fuel-type',\n",
       "                                                                          'aspiration',\n",
       "                                                                          'body-style',\n",
       "                                                                          'engine-location',\n",
       "                                                                          'engine-type',\n",
       "                                                                          'num-of-cylinders',\n",
       "                                                                          'fuel-system'])])),\n",
       "                                       ('clf', LogisticRegression())]),\n",
       "             param_grid={'clf__multi_class': ['ovr', 'multinomial'],\n",
       "                         'clf__solver': ['lbfgs', 'saga']},\n",
       "             return_train_score=True, scoring='recall_macro', verbose=1)"
      ]
     },
     "execution_count": 180,
     "metadata": {},
     "output_type": "execute_result"
    }
   ],
   "source": [
    "grid.fit(X_train, y_train)"
   ]
  },
  {
   "cell_type": "code",
   "execution_count": 181,
   "metadata": {},
   "outputs": [],
   "source": [
    "y_pred = grid.best_estimator_.predict(X_test)"
   ]
  },
  {
   "cell_type": "code",
   "execution_count": 182,
   "metadata": {
    "scrolled": true
   },
   "outputs": [
    {
     "name": "stdout",
     "output_type": "stream",
     "text": [
      "Accuracy on test data: 74.510%\n"
     ]
    }
   ],
   "source": [
    "from sklearn.metrics import accuracy_score\n",
    "test_accuracy = accuracy_score(y_test, y_pred)\n",
    "\n",
    "print(\"Accuracy on test data: {:.3f}%\".format(test_accuracy*100))"
   ]
  },
  {
   "cell_type": "code",
   "execution_count": 452,
   "metadata": {
    "scrolled": false
   },
   "outputs": [
    {
     "name": "stdout",
     "output_type": "stream",
     "text": [
      "1    20\n",
      "0    18\n",
      "2    13\n",
      "dtype: int64\n"
     ]
    },
    {
     "data": {
      "text/plain": [
       "1    20\n",
       "0    16\n",
       "2    15\n",
       "Name: price, dtype: int64"
      ]
     },
     "execution_count": 452,
     "metadata": {},
     "output_type": "execute_result"
    }
   ],
   "source": [
    "print(pd.Series(y_pred).value_counts())\n",
    "\n",
    "y_test.value_counts()"
   ]
  },
  {
   "cell_type": "markdown",
   "metadata": {},
   "source": [
    "## Rerun DT and LR using relevant columns"
   ]
  },
  {
   "cell_type": "code",
   "execution_count": 380,
   "metadata": {},
   "outputs": [],
   "source": [
    "relevant_cols = list(set(svm_features+lr_features))"
   ]
  },
  {
   "cell_type": "code",
   "execution_count": 381,
   "metadata": {},
   "outputs": [
    {
     "data": {
      "text/plain": [
       "14"
      ]
     },
     "execution_count": 381,
     "metadata": {},
     "output_type": "execute_result"
    }
   ],
   "source": [
    "len(relevant_cols)"
   ]
  },
  {
   "cell_type": "code",
   "execution_count": 382,
   "metadata": {},
   "outputs": [
    {
     "name": "stdout",
     "output_type": "stream",
     "text": [
      "['height', 'fuel-system', 'highway-mpg', 'city-mpg', 'make', 'stroke', 'drive-wheels', 'curb-weight', 'body-style', 'num-of-cylinders', 'symboling', 'aspiration', 'bore', 'fuel-type']\n"
     ]
    }
   ],
   "source": [
    "print(relevant_cols)"
   ]
  },
  {
   "cell_type": "code",
   "execution_count": 386,
   "metadata": {},
   "outputs": [],
   "source": [
    "X=X[relevant_cols]"
   ]
  },
  {
   "cell_type": "code",
   "execution_count": 387,
   "metadata": {},
   "outputs": [
    {
     "data": {
      "text/html": [
       "<div>\n",
       "<style scoped>\n",
       "    .dataframe tbody tr th:only-of-type {\n",
       "        vertical-align: middle;\n",
       "    }\n",
       "\n",
       "    .dataframe tbody tr th {\n",
       "        vertical-align: top;\n",
       "    }\n",
       "\n",
       "    .dataframe thead th {\n",
       "        text-align: right;\n",
       "    }\n",
       "</style>\n",
       "<table border=\"1\" class=\"dataframe\">\n",
       "  <thead>\n",
       "    <tr style=\"text-align: right;\">\n",
       "      <th></th>\n",
       "      <th>height</th>\n",
       "      <th>fuel-system</th>\n",
       "      <th>highway-mpg</th>\n",
       "      <th>city-mpg</th>\n",
       "      <th>make</th>\n",
       "      <th>stroke</th>\n",
       "      <th>drive-wheels</th>\n",
       "      <th>curb-weight</th>\n",
       "      <th>body-style</th>\n",
       "      <th>num-of-cylinders</th>\n",
       "      <th>symboling</th>\n",
       "      <th>aspiration</th>\n",
       "      <th>bore</th>\n",
       "      <th>fuel-type</th>\n",
       "    </tr>\n",
       "  </thead>\n",
       "  <tbody>\n",
       "    <tr>\n",
       "      <th>0</th>\n",
       "      <td>48.8</td>\n",
       "      <td>mpfi</td>\n",
       "      <td>27</td>\n",
       "      <td>21</td>\n",
       "      <td>alfa-romero</td>\n",
       "      <td>2.68</td>\n",
       "      <td>rwd</td>\n",
       "      <td>2548</td>\n",
       "      <td>convertible</td>\n",
       "      <td>four</td>\n",
       "      <td>3</td>\n",
       "      <td>std</td>\n",
       "      <td>3.47</td>\n",
       "      <td>gas</td>\n",
       "    </tr>\n",
       "    <tr>\n",
       "      <th>1</th>\n",
       "      <td>48.8</td>\n",
       "      <td>mpfi</td>\n",
       "      <td>27</td>\n",
       "      <td>21</td>\n",
       "      <td>alfa-romero</td>\n",
       "      <td>2.68</td>\n",
       "      <td>rwd</td>\n",
       "      <td>2548</td>\n",
       "      <td>convertible</td>\n",
       "      <td>four</td>\n",
       "      <td>3</td>\n",
       "      <td>std</td>\n",
       "      <td>3.47</td>\n",
       "      <td>gas</td>\n",
       "    </tr>\n",
       "    <tr>\n",
       "      <th>2</th>\n",
       "      <td>52.4</td>\n",
       "      <td>mpfi</td>\n",
       "      <td>26</td>\n",
       "      <td>19</td>\n",
       "      <td>alfa-romero</td>\n",
       "      <td>3.47</td>\n",
       "      <td>rwd</td>\n",
       "      <td>2823</td>\n",
       "      <td>hatchback</td>\n",
       "      <td>six</td>\n",
       "      <td>1</td>\n",
       "      <td>std</td>\n",
       "      <td>2.68</td>\n",
       "      <td>gas</td>\n",
       "    </tr>\n",
       "    <tr>\n",
       "      <th>3</th>\n",
       "      <td>54.3</td>\n",
       "      <td>mpfi</td>\n",
       "      <td>30</td>\n",
       "      <td>24</td>\n",
       "      <td>audi</td>\n",
       "      <td>3.40</td>\n",
       "      <td>fwd</td>\n",
       "      <td>2337</td>\n",
       "      <td>sedan</td>\n",
       "      <td>four</td>\n",
       "      <td>2</td>\n",
       "      <td>std</td>\n",
       "      <td>3.19</td>\n",
       "      <td>gas</td>\n",
       "    </tr>\n",
       "    <tr>\n",
       "      <th>4</th>\n",
       "      <td>54.3</td>\n",
       "      <td>mpfi</td>\n",
       "      <td>22</td>\n",
       "      <td>18</td>\n",
       "      <td>audi</td>\n",
       "      <td>3.40</td>\n",
       "      <td>4wd</td>\n",
       "      <td>2824</td>\n",
       "      <td>sedan</td>\n",
       "      <td>five</td>\n",
       "      <td>2</td>\n",
       "      <td>std</td>\n",
       "      <td>3.19</td>\n",
       "      <td>gas</td>\n",
       "    </tr>\n",
       "    <tr>\n",
       "      <th>...</th>\n",
       "      <td>...</td>\n",
       "      <td>...</td>\n",
       "      <td>...</td>\n",
       "      <td>...</td>\n",
       "      <td>...</td>\n",
       "      <td>...</td>\n",
       "      <td>...</td>\n",
       "      <td>...</td>\n",
       "      <td>...</td>\n",
       "      <td>...</td>\n",
       "      <td>...</td>\n",
       "      <td>...</td>\n",
       "      <td>...</td>\n",
       "      <td>...</td>\n",
       "    </tr>\n",
       "    <tr>\n",
       "      <th>200</th>\n",
       "      <td>55.5</td>\n",
       "      <td>mpfi</td>\n",
       "      <td>28</td>\n",
       "      <td>23</td>\n",
       "      <td>volvo</td>\n",
       "      <td>3.15</td>\n",
       "      <td>rwd</td>\n",
       "      <td>2952</td>\n",
       "      <td>sedan</td>\n",
       "      <td>four</td>\n",
       "      <td>-1</td>\n",
       "      <td>std</td>\n",
       "      <td>3.78</td>\n",
       "      <td>gas</td>\n",
       "    </tr>\n",
       "    <tr>\n",
       "      <th>201</th>\n",
       "      <td>55.5</td>\n",
       "      <td>mpfi</td>\n",
       "      <td>25</td>\n",
       "      <td>19</td>\n",
       "      <td>volvo</td>\n",
       "      <td>3.15</td>\n",
       "      <td>rwd</td>\n",
       "      <td>3049</td>\n",
       "      <td>sedan</td>\n",
       "      <td>four</td>\n",
       "      <td>-1</td>\n",
       "      <td>turbo</td>\n",
       "      <td>3.78</td>\n",
       "      <td>gas</td>\n",
       "    </tr>\n",
       "    <tr>\n",
       "      <th>202</th>\n",
       "      <td>55.5</td>\n",
       "      <td>mpfi</td>\n",
       "      <td>23</td>\n",
       "      <td>18</td>\n",
       "      <td>volvo</td>\n",
       "      <td>2.87</td>\n",
       "      <td>rwd</td>\n",
       "      <td>3012</td>\n",
       "      <td>sedan</td>\n",
       "      <td>six</td>\n",
       "      <td>-1</td>\n",
       "      <td>std</td>\n",
       "      <td>3.58</td>\n",
       "      <td>gas</td>\n",
       "    </tr>\n",
       "    <tr>\n",
       "      <th>203</th>\n",
       "      <td>55.5</td>\n",
       "      <td>idi</td>\n",
       "      <td>27</td>\n",
       "      <td>26</td>\n",
       "      <td>volvo</td>\n",
       "      <td>3.40</td>\n",
       "      <td>rwd</td>\n",
       "      <td>3217</td>\n",
       "      <td>sedan</td>\n",
       "      <td>six</td>\n",
       "      <td>-1</td>\n",
       "      <td>turbo</td>\n",
       "      <td>3.01</td>\n",
       "      <td>diesel</td>\n",
       "    </tr>\n",
       "    <tr>\n",
       "      <th>204</th>\n",
       "      <td>55.5</td>\n",
       "      <td>mpfi</td>\n",
       "      <td>25</td>\n",
       "      <td>19</td>\n",
       "      <td>volvo</td>\n",
       "      <td>3.15</td>\n",
       "      <td>rwd</td>\n",
       "      <td>3062</td>\n",
       "      <td>sedan</td>\n",
       "      <td>four</td>\n",
       "      <td>-1</td>\n",
       "      <td>turbo</td>\n",
       "      <td>3.78</td>\n",
       "      <td>gas</td>\n",
       "    </tr>\n",
       "  </tbody>\n",
       "</table>\n",
       "<p>201 rows × 14 columns</p>\n",
       "</div>"
      ],
      "text/plain": [
       "     height fuel-system  highway-mpg  city-mpg         make  stroke  \\\n",
       "0    48.8    mpfi        27           21        alfa-romero  2.68     \n",
       "1    48.8    mpfi        27           21        alfa-romero  2.68     \n",
       "2    52.4    mpfi        26           19        alfa-romero  3.47     \n",
       "3    54.3    mpfi        30           24        audi         3.40     \n",
       "4    54.3    mpfi        22           18        audi         3.40     \n",
       "..    ...     ...        ..           ..         ...          ...     \n",
       "200  55.5    mpfi        28           23        volvo        3.15     \n",
       "201  55.5    mpfi        25           19        volvo        3.15     \n",
       "202  55.5    mpfi        23           18        volvo        2.87     \n",
       "203  55.5    idi         27           26        volvo        3.40     \n",
       "204  55.5    mpfi        25           19        volvo        3.15     \n",
       "\n",
       "    drive-wheels  curb-weight   body-style num-of-cylinders  symboling  \\\n",
       "0    rwd          2548         convertible  four             3           \n",
       "1    rwd          2548         convertible  four             3           \n",
       "2    rwd          2823         hatchback    six              1           \n",
       "3    fwd          2337         sedan        four             2           \n",
       "4    4wd          2824         sedan        five             2           \n",
       "..   ...           ...           ...         ...            ..           \n",
       "200  rwd          2952         sedan        four            -1           \n",
       "201  rwd          3049         sedan        four            -1           \n",
       "202  rwd          3012         sedan        six             -1           \n",
       "203  rwd          3217         sedan        six             -1           \n",
       "204  rwd          3062         sedan        four            -1           \n",
       "\n",
       "    aspiration  bore fuel-type  \n",
       "0    std        3.47  gas       \n",
       "1    std        3.47  gas       \n",
       "2    std        2.68  gas       \n",
       "3    std        3.19  gas       \n",
       "4    std        3.19  gas       \n",
       "..   ...         ...  ...       \n",
       "200  std        3.78  gas       \n",
       "201  turbo      3.78  gas       \n",
       "202  std        3.58  gas       \n",
       "203  turbo      3.01  diesel    \n",
       "204  turbo      3.78  gas       \n",
       "\n",
       "[201 rows x 14 columns]"
      ]
     },
     "execution_count": 387,
     "metadata": {},
     "output_type": "execute_result"
    }
   ],
   "source": [
    "X"
   ]
  },
  {
   "cell_type": "code",
   "execution_count": 388,
   "metadata": {},
   "outputs": [],
   "source": [
    "from sklearn.model_selection import train_test_split\n",
    "\n",
    "X_train, X_test, y_train, y_test = train_test_split(X, y,test_size=0.25,random_state=1)"
   ]
  },
  {
   "cell_type": "code",
   "execution_count": 389,
   "metadata": {},
   "outputs": [],
   "source": [
    "continous = X.select_dtypes('float64').columns.tolist()+\\\n",
    "            X.select_dtypes('int64').columns.tolist()\n",
    "categorical = X.select_dtypes('object').columns.tolist()"
   ]
  },
  {
   "cell_type": "code",
   "execution_count": 390,
   "metadata": {},
   "outputs": [],
   "source": [
    "ct = ColumnTransformer([\n",
    " (\"continous\", MinMaxScaler(), continous),\n",
    " (\"onehot\", OneHotEncoder(handle_unknown='ignore'), categorical)\n",
    "])"
   ]
  },
  {
   "cell_type": "markdown",
   "metadata": {},
   "source": [
    "### SVM"
   ]
  },
  {
   "cell_type": "code",
   "execution_count": 471,
   "metadata": {},
   "outputs": [],
   "source": [
    "pipe = Pipeline([\n",
    " ('preprocess', ct),\n",
    " ('clf',SVC())\n",
    "])\n",
    "\n",
    "param_grid = {\n",
    "    'clf__C':[10e-5,10e-3,10e0,10e1,10e3],\n",
    "    'clf__kernel':['rbf','poly','linear'],\n",
    "    'clf__degree':[2,3,4,5,6]\n",
    "}\n",
    "\n",
    "grid=GridSearchCV(estimator=pipe, param_grid=param_grid,cv=3,\n",
    " scoring='recall_macro',return_train_score=True,\n",
    " verbose=1,)"
   ]
  },
  {
   "cell_type": "code",
   "execution_count": 472,
   "metadata": {},
   "outputs": [
    {
     "name": "stdout",
     "output_type": "stream",
     "text": [
      "Fitting 3 folds for each of 75 candidates, totalling 225 fits\n"
     ]
    },
    {
     "name": "stderr",
     "output_type": "stream",
     "text": [
      "[Parallel(n_jobs=1)]: Using backend SequentialBackend with 1 concurrent workers.\n",
      "[Parallel(n_jobs=1)]: Done 225 out of 225 | elapsed:    4.6s finished\n"
     ]
    },
    {
     "data": {
      "text/plain": [
       "GridSearchCV(cv=3,\n",
       "             estimator=Pipeline(steps=[('preprocess',\n",
       "                                        ColumnTransformer(transformers=[('continous',\n",
       "                                                                         MinMaxScaler(),\n",
       "                                                                         ['wheel-base',\n",
       "                                                                          'length',\n",
       "                                                                          'height',\n",
       "                                                                          'bore',\n",
       "                                                                          'stroke',\n",
       "                                                                          'compression-ratio',\n",
       "                                                                          'horsepower',\n",
       "                                                                          'peak-rpm',\n",
       "                                                                          'symboling',\n",
       "                                                                          'engine-size',\n",
       "                                                                          'city-mpg',\n",
       "                                                                          'highway-mpg']),\n",
       "                                                                        ('onehot',\n",
       "                                                                         OneHotEncoder(handle_unknown='ignore'),\n",
       "                                                                         ['make',\n",
       "                                                                          'fuel-type',\n",
       "                                                                          'aspiration',\n",
       "                                                                          'body-style',\n",
       "                                                                          'drive-wheels',\n",
       "                                                                          'engine-location',\n",
       "                                                                          'engine-type',\n",
       "                                                                          'num-of-cylinders',\n",
       "                                                                          'fuel-system'])])),\n",
       "                                       ('clf', SVC())]),\n",
       "             param_grid={'clf__C': [0.0001, 0.01, 10.0, 100.0, 10000.0],\n",
       "                         'clf__degree': [2, 3, 4, 5, 6],\n",
       "                         'clf__kernel': ['rbf', 'poly', 'linear']},\n",
       "             return_train_score=True, scoring='recall_macro', verbose=1)"
      ]
     },
     "execution_count": 472,
     "metadata": {},
     "output_type": "execute_result"
    }
   ],
   "source": [
    "grid.fit(X_train, y_train)"
   ]
  },
  {
   "cell_type": "code",
   "execution_count": 473,
   "metadata": {},
   "outputs": [
    {
     "data": {
      "text/plain": [
       "0.7253812636165579"
      ]
     },
     "execution_count": 473,
     "metadata": {},
     "output_type": "execute_result"
    }
   ],
   "source": [
    "grid.best_score_"
   ]
  },
  {
   "cell_type": "code",
   "execution_count": 474,
   "metadata": {},
   "outputs": [
    {
     "data": {
      "text/plain": [
       "{'clf__C': 10.0, 'clf__degree': 2, 'clf__kernel': 'rbf'}"
      ]
     },
     "execution_count": 474,
     "metadata": {},
     "output_type": "execute_result"
    }
   ],
   "source": [
    "grid.best_params_"
   ]
  },
  {
   "cell_type": "code",
   "execution_count": 475,
   "metadata": {},
   "outputs": [],
   "source": [
    "y_pred = grid.best_estimator_.predict(X_test)"
   ]
  },
  {
   "cell_type": "code",
   "execution_count": 476,
   "metadata": {},
   "outputs": [
    {
     "name": "stdout",
     "output_type": "stream",
     "text": [
      "Accuracy on test data: 82.353%\n"
     ]
    }
   ],
   "source": [
    "from sklearn.metrics import accuracy_score, precision_score, recall_score, f1_score\n",
    "test_accuracy = accuracy_score(y_test, y_pred)\n",
    "\n",
    "print(\"Accuracy on test data: {:.3f}%\".format(test_accuracy*100))"
   ]
  },
  {
   "cell_type": "code",
   "execution_count": 477,
   "metadata": {},
   "outputs": [
    {
     "data": {
      "image/png": "[encoded data removed]",
      "text/plain": [
       "<Figure size 720x504 with 2 Axes>"
      ]
     },
     "metadata": {
      "needs_background": "light"
     },
     "output_type": "display_data"
    }
   ],
   "source": [
    "from sklearn.metrics import confusion_matrix\n",
    "def get_conf_matrix(y_test, y_pred, title):\n",
    "    # Get confusion matrix\n",
    "    data = confusion_matrix(y_test, y_pred)\n",
    "    # Build the confusion matrix as a dataframe table\n",
    "    cm = pd.DataFrame(data, columns=np.unique(y_test), index = np.unique(y_test))\n",
    "    cm.index.name = 'Observed'\n",
    "    cm.columns.name = 'Predicted'\n",
    "    plt.figure(figsize = (10,7))\n",
    "        \n",
    "    group_names = ['True Cheap', 'False Average', 'False Expensive', 'False Cheap',\n",
    "                  'True Average', 'False Expensive', 'False Cheap','False Average','True Expensive']\n",
    "    \n",
    "    percentages = cm/np.sum(cm)\n",
    "    percentages = np.asarray(percentages).flatten()\n",
    "        \n",
    "    labels = [f'{name}\\n{percentage:.2f}' for name, percentage in zip(group_names,percentages)]\n",
    "    labels = np.asarray(labels).reshape(3,3)\n",
    "    \n",
    "    # Plot a heatmap\n",
    "    sns.heatmap(cm/np.sum(cm), annot=labels, fmt='', cmap='Blues',\n",
    "               annot_kws={\"size\": 16})\n",
    "    plt.title(title+\"\\n\",fontsize=22)\n",
    "    plt.show()\n",
    "    \n",
    "import matplotlib    \n",
    "matplotlib.rcParams.update({'font.size': 18})\n",
    "get_conf_matrix(y_test, y_pred, 'Support Vector Machine')\n"
   ]
  },
  {
   "cell_type": "code",
   "execution_count": 478,
   "metadata": {},
   "outputs": [
    {
     "name": "stdout",
     "output_type": "stream",
     "text": [
      "1    25\n",
      "0    15\n",
      "2    11\n",
      "dtype: int64\n"
     ]
    },
    {
     "data": {
      "text/plain": [
       "1    20\n",
       "0    16\n",
       "2    15\n",
       "Name: price, dtype: int64"
      ]
     },
     "execution_count": 478,
     "metadata": {},
     "output_type": "execute_result"
    }
   ],
   "source": [
    "print(pd.Series(y_pred).value_counts())\n",
    "\n",
    "y_test.value_counts()"
   ]
  },
  {
   "cell_type": "code",
   "execution_count": 479,
   "metadata": {},
   "outputs": [
    {
     "name": "stdout",
     "output_type": "stream",
     "text": [
      "Accuracy on test data: 82.353%\n",
      "Precision on test data: 85.414%\n",
      "Recall on test data: 81.389%\n",
      "F1 Score on test data: 82.415%\n"
     ]
    }
   ],
   "source": [
    "from sklearn.metrics import accuracy_score, precision_score, recall_score, f1_score, roc_auc_score\n",
    "test_accuracy = accuracy_score(y_test, y_pred)\n",
    "test_precision = precision_score(y_test, y_pred, average='macro')\n",
    "test_recall = recall_score(y_test, y_pred, average='macro')\n",
    "test_f1_score = f1_score(y_test, y_pred, average='macro')\n",
    "\n",
    "print(\"Accuracy on test data: {:.3f}%\".format(test_accuracy*100))\n",
    "print(\"Precision on test data: {:.3f}%\".format(test_precision*100))\n",
    "print(\"Recall on test data: {:.3f}%\".format(test_recall*100))\n",
    "print(\"F1 Score on test data: {:.3f}%\".format(test_f1_score*100))\n"
   ]
  },
  {
   "cell_type": "code",
   "execution_count": 480,
   "metadata": {},
   "outputs": [
    {
     "name": "stderr",
     "output_type": "stream",
     "text": [
      "C:\\Users\\TotEu\\anaconda3\\lib\\site-packages\\sklearn\\compose\\_column_transformer.py:440: FutureWarning: Given feature/column names or counts do not match the ones for the data given during fit. This will fail from v0.24.\n",
      "  FutureWarning)\n",
      "C:\\Users\\TotEu\\anaconda3\\lib\\site-packages\\sklearn\\compose\\_column_transformer.py:440: FutureWarning: Given feature/column names or counts do not match the ones for the data given during fit. This will fail from v0.24.\n",
      "  FutureWarning)\n",
      "C:\\Users\\TotEu\\anaconda3\\lib\\site-packages\\sklearn\\compose\\_column_transformer.py:440: FutureWarning: Given feature/column names or counts do not match the ones for the data given during fit. This will fail from v0.24.\n",
      "  FutureWarning)\n",
      "C:\\Users\\TotEu\\anaconda3\\lib\\site-packages\\sklearn\\compose\\_column_transformer.py:440: FutureWarning: Given feature/column names or counts do not match the ones for the data given during fit. This will fail from v0.24.\n",
      "  FutureWarning)\n",
      "C:\\Users\\TotEu\\anaconda3\\lib\\site-packages\\sklearn\\compose\\_column_transformer.py:440: FutureWarning: Given feature/column names or counts do not match the ones for the data given during fit. This will fail from v0.24.\n",
      "  FutureWarning)\n",
      "C:\\Users\\TotEu\\anaconda3\\lib\\site-packages\\sklearn\\compose\\_column_transformer.py:440: FutureWarning: Given feature/column names or counts do not match the ones for the data given during fit. This will fail from v0.24.\n",
      "  FutureWarning)\n",
      "C:\\Users\\TotEu\\anaconda3\\lib\\site-packages\\sklearn\\compose\\_column_transformer.py:440: FutureWarning: Given feature/column names or counts do not match the ones for the data given during fit. This will fail from v0.24.\n",
      "  FutureWarning)\n",
      "C:\\Users\\TotEu\\anaconda3\\lib\\site-packages\\sklearn\\compose\\_column_transformer.py:440: FutureWarning: Given feature/column names or counts do not match the ones for the data given during fit. This will fail from v0.24.\n",
      "  FutureWarning)\n",
      "C:\\Users\\TotEu\\anaconda3\\lib\\site-packages\\sklearn\\compose\\_column_transformer.py:440: FutureWarning: Given feature/column names or counts do not match the ones for the data given during fit. This will fail from v0.24.\n",
      "  FutureWarning)\n",
      "C:\\Users\\TotEu\\anaconda3\\lib\\site-packages\\sklearn\\compose\\_column_transformer.py:440: FutureWarning: Given feature/column names or counts do not match the ones for the data given during fit. This will fail from v0.24.\n",
      "  FutureWarning)\n",
      "C:\\Users\\TotEu\\anaconda3\\lib\\site-packages\\sklearn\\compose\\_column_transformer.py:440: FutureWarning: Given feature/column names or counts do not match the ones for the data given during fit. This will fail from v0.24.\n",
      "  FutureWarning)\n",
      "C:\\Users\\TotEu\\anaconda3\\lib\\site-packages\\sklearn\\compose\\_column_transformer.py:440: FutureWarning: Given feature/column names or counts do not match the ones for the data given during fit. This will fail from v0.24.\n",
      "  FutureWarning)\n",
      "C:\\Users\\TotEu\\anaconda3\\lib\\site-packages\\sklearn\\compose\\_column_transformer.py:440: FutureWarning: Given feature/column names or counts do not match the ones for the data given during fit. This will fail from v0.24.\n",
      "  FutureWarning)\n",
      "C:\\Users\\TotEu\\anaconda3\\lib\\site-packages\\sklearn\\compose\\_column_transformer.py:440: FutureWarning: Given feature/column names or counts do not match the ones for the data given during fit. This will fail from v0.24.\n",
      "  FutureWarning)\n",
      "C:\\Users\\TotEu\\anaconda3\\lib\\site-packages\\sklearn\\compose\\_column_transformer.py:440: FutureWarning: Given feature/column names or counts do not match the ones for the data given during fit. This will fail from v0.24.\n",
      "  FutureWarning)\n",
      "C:\\Users\\TotEu\\anaconda3\\lib\\site-packages\\sklearn\\compose\\_column_transformer.py:440: FutureWarning: Given feature/column names or counts do not match the ones for the data given during fit. This will fail from v0.24.\n",
      "  FutureWarning)\n",
      "C:\\Users\\TotEu\\anaconda3\\lib\\site-packages\\sklearn\\compose\\_column_transformer.py:440: FutureWarning: Given feature/column names or counts do not match the ones for the data given during fit. This will fail from v0.24.\n",
      "  FutureWarning)\n",
      "C:\\Users\\TotEu\\anaconda3\\lib\\site-packages\\sklearn\\compose\\_column_transformer.py:440: FutureWarning: Given feature/column names or counts do not match the ones for the data given during fit. This will fail from v0.24.\n",
      "  FutureWarning)\n",
      "C:\\Users\\TotEu\\anaconda3\\lib\\site-packages\\sklearn\\compose\\_column_transformer.py:440: FutureWarning: Given feature/column names or counts do not match the ones for the data given during fit. This will fail from v0.24.\n",
      "  FutureWarning)\n",
      "C:\\Users\\TotEu\\anaconda3\\lib\\site-packages\\sklearn\\compose\\_column_transformer.py:440: FutureWarning: Given feature/column names or counts do not match the ones for the data given during fit. This will fail from v0.24.\n",
      "  FutureWarning)\n",
      "C:\\Users\\TotEu\\anaconda3\\lib\\site-packages\\sklearn\\compose\\_column_transformer.py:440: FutureWarning: Given feature/column names or counts do not match the ones for the data given during fit. This will fail from v0.24.\n",
      "  FutureWarning)\n",
      "C:\\Users\\TotEu\\anaconda3\\lib\\site-packages\\sklearn\\compose\\_column_transformer.py:440: FutureWarning: Given feature/column names or counts do not match the ones for the data given during fit. This will fail from v0.24.\n",
      "  FutureWarning)\n",
      "C:\\Users\\TotEu\\anaconda3\\lib\\site-packages\\sklearn\\compose\\_column_transformer.py:440: FutureWarning: Given feature/column names or counts do not match the ones for the data given during fit. This will fail from v0.24.\n",
      "  FutureWarning)\n",
      "C:\\Users\\TotEu\\anaconda3\\lib\\site-packages\\sklearn\\compose\\_column_transformer.py:440: FutureWarning: Given feature/column names or counts do not match the ones for the data given during fit. This will fail from v0.24.\n",
      "  FutureWarning)\n",
      "C:\\Users\\TotEu\\anaconda3\\lib\\site-packages\\sklearn\\compose\\_column_transformer.py:440: FutureWarning: Given feature/column names or counts do not match the ones for the data given during fit. This will fail from v0.24.\n",
      "  FutureWarning)\n",
      "C:\\Users\\TotEu\\anaconda3\\lib\\site-packages\\sklearn\\compose\\_column_transformer.py:440: FutureWarning: Given feature/column names or counts do not match the ones for the data given during fit. This will fail from v0.24.\n",
      "  FutureWarning)\n",
      "C:\\Users\\TotEu\\anaconda3\\lib\\site-packages\\sklearn\\compose\\_column_transformer.py:440: FutureWarning: Given feature/column names or counts do not match the ones for the data given during fit. This will fail from v0.24.\n",
      "  FutureWarning)\n",
      "C:\\Users\\TotEu\\anaconda3\\lib\\site-packages\\sklearn\\compose\\_column_transformer.py:440: FutureWarning: Given feature/column names or counts do not match the ones for the data given during fit. This will fail from v0.24.\n",
      "  FutureWarning)\n",
      "C:\\Users\\TotEu\\anaconda3\\lib\\site-packages\\sklearn\\compose\\_column_transformer.py:440: FutureWarning: Given feature/column names or counts do not match the ones for the data given during fit. This will fail from v0.24.\n",
      "  FutureWarning)\n",
      "C:\\Users\\TotEu\\anaconda3\\lib\\site-packages\\sklearn\\compose\\_column_transformer.py:440: FutureWarning: Given feature/column names or counts do not match the ones for the data given during fit. This will fail from v0.24.\n",
      "  FutureWarning)\n",
      "C:\\Users\\TotEu\\anaconda3\\lib\\site-packages\\sklearn\\compose\\_column_transformer.py:440: FutureWarning: Given feature/column names or counts do not match the ones for the data given during fit. This will fail from v0.24.\n",
      "  FutureWarning)\n",
      "C:\\Users\\TotEu\\anaconda3\\lib\\site-packages\\sklearn\\compose\\_column_transformer.py:440: FutureWarning: Given feature/column names or counts do not match the ones for the data given during fit. This will fail from v0.24.\n",
      "  FutureWarning)\n",
      "C:\\Users\\TotEu\\anaconda3\\lib\\site-packages\\sklearn\\compose\\_column_transformer.py:440: FutureWarning: Given feature/column names or counts do not match the ones for the data given during fit. This will fail from v0.24.\n",
      "  FutureWarning)\n",
      "C:\\Users\\TotEu\\anaconda3\\lib\\site-packages\\sklearn\\compose\\_column_transformer.py:440: FutureWarning: Given feature/column names or counts do not match the ones for the data given during fit. This will fail from v0.24.\n",
      "  FutureWarning)\n",
      "C:\\Users\\TotEu\\anaconda3\\lib\\site-packages\\sklearn\\compose\\_column_transformer.py:440: FutureWarning: Given feature/column names or counts do not match the ones for the data given during fit. This will fail from v0.24.\n",
      "  FutureWarning)\n",
      "C:\\Users\\TotEu\\anaconda3\\lib\\site-packages\\sklearn\\compose\\_column_transformer.py:440: FutureWarning: Given feature/column names or counts do not match the ones for the data given during fit. This will fail from v0.24.\n",
      "  FutureWarning)\n",
      "C:\\Users\\TotEu\\anaconda3\\lib\\site-packages\\sklearn\\compose\\_column_transformer.py:440: FutureWarning: Given feature/column names or counts do not match the ones for the data given during fit. This will fail from v0.24.\n",
      "  FutureWarning)\n",
      "C:\\Users\\TotEu\\anaconda3\\lib\\site-packages\\sklearn\\compose\\_column_transformer.py:440: FutureWarning: Given feature/column names or counts do not match the ones for the data given during fit. This will fail from v0.24.\n",
      "  FutureWarning)\n",
      "C:\\Users\\TotEu\\anaconda3\\lib\\site-packages\\sklearn\\compose\\_column_transformer.py:440: FutureWarning: Given feature/column names or counts do not match the ones for the data given during fit. This will fail from v0.24.\n",
      "  FutureWarning)\n",
      "C:\\Users\\TotEu\\anaconda3\\lib\\site-packages\\sklearn\\compose\\_column_transformer.py:440: FutureWarning: Given feature/column names or counts do not match the ones for the data given during fit. This will fail from v0.24.\n",
      "  FutureWarning)\n",
      "C:\\Users\\TotEu\\anaconda3\\lib\\site-packages\\sklearn\\compose\\_column_transformer.py:440: FutureWarning: Given feature/column names or counts do not match the ones for the data given during fit. This will fail from v0.24.\n",
      "  FutureWarning)\n",
      "C:\\Users\\TotEu\\anaconda3\\lib\\site-packages\\sklearn\\compose\\_column_transformer.py:440: FutureWarning: Given feature/column names or counts do not match the ones for the data given during fit. This will fail from v0.24.\n",
      "  FutureWarning)\n",
      "C:\\Users\\TotEu\\anaconda3\\lib\\site-packages\\sklearn\\compose\\_column_transformer.py:440: FutureWarning: Given feature/column names or counts do not match the ones for the data given during fit. This will fail from v0.24.\n",
      "  FutureWarning)\n",
      "C:\\Users\\TotEu\\anaconda3\\lib\\site-packages\\sklearn\\compose\\_column_transformer.py:440: FutureWarning: Given feature/column names or counts do not match the ones for the data given during fit. This will fail from v0.24.\n",
      "  FutureWarning)\n",
      "C:\\Users\\TotEu\\anaconda3\\lib\\site-packages\\sklearn\\compose\\_column_transformer.py:440: FutureWarning: Given feature/column names or counts do not match the ones for the data given during fit. This will fail from v0.24.\n",
      "  FutureWarning)\n",
      "C:\\Users\\TotEu\\anaconda3\\lib\\site-packages\\sklearn\\compose\\_column_transformer.py:440: FutureWarning: Given feature/column names or counts do not match the ones for the data given during fit. This will fail from v0.24.\n",
      "  FutureWarning)\n",
      "C:\\Users\\TotEu\\anaconda3\\lib\\site-packages\\sklearn\\compose\\_column_transformer.py:440: FutureWarning: Given feature/column names or counts do not match the ones for the data given during fit. This will fail from v0.24.\n",
      "  FutureWarning)\n",
      "C:\\Users\\TotEu\\anaconda3\\lib\\site-packages\\sklearn\\compose\\_column_transformer.py:440: FutureWarning: Given feature/column names or counts do not match the ones for the data given during fit. This will fail from v0.24.\n",
      "  FutureWarning)\n"
     ]
    },
    {
     "name": "stderr",
     "output_type": "stream",
     "text": [
      "C:\\Users\\TotEu\\anaconda3\\lib\\site-packages\\sklearn\\compose\\_column_transformer.py:440: FutureWarning: Given feature/column names or counts do not match the ones for the data given during fit. This will fail from v0.24.\n",
      "  FutureWarning)\n",
      "C:\\Users\\TotEu\\anaconda3\\lib\\site-packages\\sklearn\\compose\\_column_transformer.py:440: FutureWarning: Given feature/column names or counts do not match the ones for the data given during fit. This will fail from v0.24.\n",
      "  FutureWarning)\n",
      "C:\\Users\\TotEu\\anaconda3\\lib\\site-packages\\sklearn\\compose\\_column_transformer.py:440: FutureWarning: Given feature/column names or counts do not match the ones for the data given during fit. This will fail from v0.24.\n",
      "  FutureWarning)\n",
      "C:\\Users\\TotEu\\anaconda3\\lib\\site-packages\\sklearn\\compose\\_column_transformer.py:440: FutureWarning: Given feature/column names or counts do not match the ones for the data given during fit. This will fail from v0.24.\n",
      "  FutureWarning)\n",
      "C:\\Users\\TotEu\\anaconda3\\lib\\site-packages\\sklearn\\compose\\_column_transformer.py:440: FutureWarning: Given feature/column names or counts do not match the ones for the data given during fit. This will fail from v0.24.\n",
      "  FutureWarning)\n",
      "C:\\Users\\TotEu\\anaconda3\\lib\\site-packages\\sklearn\\compose\\_column_transformer.py:440: FutureWarning: Given feature/column names or counts do not match the ones for the data given during fit. This will fail from v0.24.\n",
      "  FutureWarning)\n",
      "C:\\Users\\TotEu\\anaconda3\\lib\\site-packages\\sklearn\\compose\\_column_transformer.py:440: FutureWarning: Given feature/column names or counts do not match the ones for the data given during fit. This will fail from v0.24.\n",
      "  FutureWarning)\n",
      "C:\\Users\\TotEu\\anaconda3\\lib\\site-packages\\sklearn\\compose\\_column_transformer.py:440: FutureWarning: Given feature/column names or counts do not match the ones for the data given during fit. This will fail from v0.24.\n",
      "  FutureWarning)\n",
      "C:\\Users\\TotEu\\anaconda3\\lib\\site-packages\\sklearn\\compose\\_column_transformer.py:440: FutureWarning: Given feature/column names or counts do not match the ones for the data given during fit. This will fail from v0.24.\n",
      "  FutureWarning)\n",
      "C:\\Users\\TotEu\\anaconda3\\lib\\site-packages\\sklearn\\compose\\_column_transformer.py:440: FutureWarning: Given feature/column names or counts do not match the ones for the data given during fit. This will fail from v0.24.\n",
      "  FutureWarning)\n",
      "C:\\Users\\TotEu\\anaconda3\\lib\\site-packages\\sklearn\\compose\\_column_transformer.py:440: FutureWarning: Given feature/column names or counts do not match the ones for the data given during fit. This will fail from v0.24.\n",
      "  FutureWarning)\n",
      "C:\\Users\\TotEu\\anaconda3\\lib\\site-packages\\sklearn\\compose\\_column_transformer.py:440: FutureWarning: Given feature/column names or counts do not match the ones for the data given during fit. This will fail from v0.24.\n",
      "  FutureWarning)\n",
      "C:\\Users\\TotEu\\anaconda3\\lib\\site-packages\\sklearn\\compose\\_column_transformer.py:440: FutureWarning: Given feature/column names or counts do not match the ones for the data given during fit. This will fail from v0.24.\n",
      "  FutureWarning)\n",
      "C:\\Users\\TotEu\\anaconda3\\lib\\site-packages\\sklearn\\compose\\_column_transformer.py:440: FutureWarning: Given feature/column names or counts do not match the ones for the data given during fit. This will fail from v0.24.\n",
      "  FutureWarning)\n",
      "C:\\Users\\TotEu\\anaconda3\\lib\\site-packages\\sklearn\\compose\\_column_transformer.py:440: FutureWarning: Given feature/column names or counts do not match the ones for the data given during fit. This will fail from v0.24.\n",
      "  FutureWarning)\n",
      "C:\\Users\\TotEu\\anaconda3\\lib\\site-packages\\sklearn\\compose\\_column_transformer.py:440: FutureWarning: Given feature/column names or counts do not match the ones for the data given during fit. This will fail from v0.24.\n",
      "  FutureWarning)\n",
      "C:\\Users\\TotEu\\anaconda3\\lib\\site-packages\\sklearn\\compose\\_column_transformer.py:440: FutureWarning: Given feature/column names or counts do not match the ones for the data given during fit. This will fail from v0.24.\n",
      "  FutureWarning)\n",
      "C:\\Users\\TotEu\\anaconda3\\lib\\site-packages\\sklearn\\compose\\_column_transformer.py:440: FutureWarning: Given feature/column names or counts do not match the ones for the data given during fit. This will fail from v0.24.\n",
      "  FutureWarning)\n",
      "C:\\Users\\TotEu\\anaconda3\\lib\\site-packages\\sklearn\\compose\\_column_transformer.py:440: FutureWarning: Given feature/column names or counts do not match the ones for the data given during fit. This will fail from v0.24.\n",
      "  FutureWarning)\n",
      "C:\\Users\\TotEu\\anaconda3\\lib\\site-packages\\sklearn\\compose\\_column_transformer.py:440: FutureWarning: Given feature/column names or counts do not match the ones for the data given during fit. This will fail from v0.24.\n",
      "  FutureWarning)\n",
      "C:\\Users\\TotEu\\anaconda3\\lib\\site-packages\\sklearn\\compose\\_column_transformer.py:440: FutureWarning: Given feature/column names or counts do not match the ones for the data given during fit. This will fail from v0.24.\n",
      "  FutureWarning)\n",
      "C:\\Users\\TotEu\\anaconda3\\lib\\site-packages\\sklearn\\compose\\_column_transformer.py:440: FutureWarning: Given feature/column names or counts do not match the ones for the data given during fit. This will fail from v0.24.\n",
      "  FutureWarning)\n",
      "C:\\Users\\TotEu\\anaconda3\\lib\\site-packages\\sklearn\\compose\\_column_transformer.py:440: FutureWarning: Given feature/column names or counts do not match the ones for the data given during fit. This will fail from v0.24.\n",
      "  FutureWarning)\n",
      "C:\\Users\\TotEu\\anaconda3\\lib\\site-packages\\sklearn\\compose\\_column_transformer.py:440: FutureWarning: Given feature/column names or counts do not match the ones for the data given during fit. This will fail from v0.24.\n",
      "  FutureWarning)\n",
      "C:\\Users\\TotEu\\anaconda3\\lib\\site-packages\\sklearn\\compose\\_column_transformer.py:440: FutureWarning: Given feature/column names or counts do not match the ones for the data given during fit. This will fail from v0.24.\n",
      "  FutureWarning)\n",
      "C:\\Users\\TotEu\\anaconda3\\lib\\site-packages\\sklearn\\compose\\_column_transformer.py:440: FutureWarning: Given feature/column names or counts do not match the ones for the data given during fit. This will fail from v0.24.\n",
      "  FutureWarning)\n",
      "C:\\Users\\TotEu\\anaconda3\\lib\\site-packages\\sklearn\\compose\\_column_transformer.py:440: FutureWarning: Given feature/column names or counts do not match the ones for the data given during fit. This will fail from v0.24.\n",
      "  FutureWarning)\n",
      "C:\\Users\\TotEu\\anaconda3\\lib\\site-packages\\sklearn\\compose\\_column_transformer.py:440: FutureWarning: Given feature/column names or counts do not match the ones for the data given during fit. This will fail from v0.24.\n",
      "  FutureWarning)\n",
      "C:\\Users\\TotEu\\anaconda3\\lib\\site-packages\\sklearn\\compose\\_column_transformer.py:440: FutureWarning: Given feature/column names or counts do not match the ones for the data given during fit. This will fail from v0.24.\n",
      "  FutureWarning)\n",
      "C:\\Users\\TotEu\\anaconda3\\lib\\site-packages\\sklearn\\compose\\_column_transformer.py:440: FutureWarning: Given feature/column names or counts do not match the ones for the data given during fit. This will fail from v0.24.\n",
      "  FutureWarning)\n",
      "C:\\Users\\TotEu\\anaconda3\\lib\\site-packages\\sklearn\\compose\\_column_transformer.py:440: FutureWarning: Given feature/column names or counts do not match the ones for the data given during fit. This will fail from v0.24.\n",
      "  FutureWarning)\n",
      "C:\\Users\\TotEu\\anaconda3\\lib\\site-packages\\sklearn\\compose\\_column_transformer.py:440: FutureWarning: Given feature/column names or counts do not match the ones for the data given during fit. This will fail from v0.24.\n",
      "  FutureWarning)\n",
      "C:\\Users\\TotEu\\anaconda3\\lib\\site-packages\\sklearn\\compose\\_column_transformer.py:440: FutureWarning: Given feature/column names or counts do not match the ones for the data given during fit. This will fail from v0.24.\n",
      "  FutureWarning)\n",
      "C:\\Users\\TotEu\\anaconda3\\lib\\site-packages\\sklearn\\compose\\_column_transformer.py:440: FutureWarning: Given feature/column names or counts do not match the ones for the data given during fit. This will fail from v0.24.\n",
      "  FutureWarning)\n",
      "C:\\Users\\TotEu\\anaconda3\\lib\\site-packages\\sklearn\\compose\\_column_transformer.py:440: FutureWarning: Given feature/column names or counts do not match the ones for the data given during fit. This will fail from v0.24.\n",
      "  FutureWarning)\n",
      "C:\\Users\\TotEu\\anaconda3\\lib\\site-packages\\sklearn\\compose\\_column_transformer.py:440: FutureWarning: Given feature/column names or counts do not match the ones for the data given during fit. This will fail from v0.24.\n",
      "  FutureWarning)\n",
      "C:\\Users\\TotEu\\anaconda3\\lib\\site-packages\\sklearn\\compose\\_column_transformer.py:440: FutureWarning: Given feature/column names or counts do not match the ones for the data given during fit. This will fail from v0.24.\n",
      "  FutureWarning)\n",
      "C:\\Users\\TotEu\\anaconda3\\lib\\site-packages\\sklearn\\compose\\_column_transformer.py:440: FutureWarning: Given feature/column names or counts do not match the ones for the data given during fit. This will fail from v0.24.\n",
      "  FutureWarning)\n",
      "C:\\Users\\TotEu\\anaconda3\\lib\\site-packages\\sklearn\\compose\\_column_transformer.py:440: FutureWarning: Given feature/column names or counts do not match the ones for the data given during fit. This will fail from v0.24.\n",
      "  FutureWarning)\n",
      "C:\\Users\\TotEu\\anaconda3\\lib\\site-packages\\sklearn\\compose\\_column_transformer.py:440: FutureWarning: Given feature/column names or counts do not match the ones for the data given during fit. This will fail from v0.24.\n",
      "  FutureWarning)\n",
      "C:\\Users\\TotEu\\anaconda3\\lib\\site-packages\\sklearn\\compose\\_column_transformer.py:440: FutureWarning: Given feature/column names or counts do not match the ones for the data given during fit. This will fail from v0.24.\n",
      "  FutureWarning)\n",
      "C:\\Users\\TotEu\\anaconda3\\lib\\site-packages\\sklearn\\compose\\_column_transformer.py:440: FutureWarning: Given feature/column names or counts do not match the ones for the data given during fit. This will fail from v0.24.\n",
      "  FutureWarning)\n",
      "C:\\Users\\TotEu\\anaconda3\\lib\\site-packages\\sklearn\\compose\\_column_transformer.py:440: FutureWarning: Given feature/column names or counts do not match the ones for the data given during fit. This will fail from v0.24.\n",
      "  FutureWarning)\n",
      "C:\\Users\\TotEu\\anaconda3\\lib\\site-packages\\sklearn\\compose\\_column_transformer.py:440: FutureWarning: Given feature/column names or counts do not match the ones for the data given during fit. This will fail from v0.24.\n",
      "  FutureWarning)\n",
      "C:\\Users\\TotEu\\anaconda3\\lib\\site-packages\\sklearn\\compose\\_column_transformer.py:440: FutureWarning: Given feature/column names or counts do not match the ones for the data given during fit. This will fail from v0.24.\n",
      "  FutureWarning)\n",
      "C:\\Users\\TotEu\\anaconda3\\lib\\site-packages\\sklearn\\compose\\_column_transformer.py:440: FutureWarning: Given feature/column names or counts do not match the ones for the data given during fit. This will fail from v0.24.\n",
      "  FutureWarning)\n",
      "C:\\Users\\TotEu\\anaconda3\\lib\\site-packages\\sklearn\\compose\\_column_transformer.py:440: FutureWarning: Given feature/column names or counts do not match the ones for the data given during fit. This will fail from v0.24.\n",
      "  FutureWarning)\n",
      "C:\\Users\\TotEu\\anaconda3\\lib\\site-packages\\sklearn\\compose\\_column_transformer.py:440: FutureWarning: Given feature/column names or counts do not match the ones for the data given during fit. This will fail from v0.24.\n",
      "  FutureWarning)\n",
      "C:\\Users\\TotEu\\anaconda3\\lib\\site-packages\\sklearn\\compose\\_column_transformer.py:440: FutureWarning: Given feature/column names or counts do not match the ones for the data given during fit. This will fail from v0.24.\n",
      "  FutureWarning)\n"
     ]
    },
    {
     "name": "stderr",
     "output_type": "stream",
     "text": [
      "C:\\Users\\TotEu\\anaconda3\\lib\\site-packages\\sklearn\\compose\\_column_transformer.py:440: FutureWarning: Given feature/column names or counts do not match the ones for the data given during fit. This will fail from v0.24.\n",
      "  FutureWarning)\n",
      "C:\\Users\\TotEu\\anaconda3\\lib\\site-packages\\sklearn\\compose\\_column_transformer.py:440: FutureWarning: Given feature/column names or counts do not match the ones for the data given during fit. This will fail from v0.24.\n",
      "  FutureWarning)\n",
      "C:\\Users\\TotEu\\anaconda3\\lib\\site-packages\\sklearn\\compose\\_column_transformer.py:440: FutureWarning: Given feature/column names or counts do not match the ones for the data given during fit. This will fail from v0.24.\n",
      "  FutureWarning)\n",
      "C:\\Users\\TotEu\\anaconda3\\lib\\site-packages\\sklearn\\compose\\_column_transformer.py:440: FutureWarning: Given feature/column names or counts do not match the ones for the data given during fit. This will fail from v0.24.\n",
      "  FutureWarning)\n",
      "C:\\Users\\TotEu\\anaconda3\\lib\\site-packages\\sklearn\\compose\\_column_transformer.py:440: FutureWarning: Given feature/column names or counts do not match the ones for the data given during fit. This will fail from v0.24.\n",
      "  FutureWarning)\n",
      "C:\\Users\\TotEu\\anaconda3\\lib\\site-packages\\sklearn\\compose\\_column_transformer.py:440: FutureWarning: Given feature/column names or counts do not match the ones for the data given during fit. This will fail from v0.24.\n",
      "  FutureWarning)\n",
      "C:\\Users\\TotEu\\anaconda3\\lib\\site-packages\\sklearn\\compose\\_column_transformer.py:440: FutureWarning: Given feature/column names or counts do not match the ones for the data given during fit. This will fail from v0.24.\n",
      "  FutureWarning)\n",
      "C:\\Users\\TotEu\\anaconda3\\lib\\site-packages\\sklearn\\compose\\_column_transformer.py:440: FutureWarning: Given feature/column names or counts do not match the ones for the data given during fit. This will fail from v0.24.\n",
      "  FutureWarning)\n",
      "C:\\Users\\TotEu\\anaconda3\\lib\\site-packages\\sklearn\\compose\\_column_transformer.py:440: FutureWarning: Given feature/column names or counts do not match the ones for the data given during fit. This will fail from v0.24.\n",
      "  FutureWarning)\n",
      "C:\\Users\\TotEu\\anaconda3\\lib\\site-packages\\sklearn\\compose\\_column_transformer.py:440: FutureWarning: Given feature/column names or counts do not match the ones for the data given during fit. This will fail from v0.24.\n",
      "  FutureWarning)\n",
      "C:\\Users\\TotEu\\anaconda3\\lib\\site-packages\\sklearn\\compose\\_column_transformer.py:440: FutureWarning: Given feature/column names or counts do not match the ones for the data given during fit. This will fail from v0.24.\n",
      "  FutureWarning)\n",
      "C:\\Users\\TotEu\\anaconda3\\lib\\site-packages\\sklearn\\compose\\_column_transformer.py:440: FutureWarning: Given feature/column names or counts do not match the ones for the data given during fit. This will fail from v0.24.\n",
      "  FutureWarning)\n",
      "C:\\Users\\TotEu\\anaconda3\\lib\\site-packages\\sklearn\\compose\\_column_transformer.py:440: FutureWarning: Given feature/column names or counts do not match the ones for the data given during fit. This will fail from v0.24.\n",
      "  FutureWarning)\n",
      "C:\\Users\\TotEu\\anaconda3\\lib\\site-packages\\sklearn\\compose\\_column_transformer.py:440: FutureWarning: Given feature/column names or counts do not match the ones for the data given during fit. This will fail from v0.24.\n",
      "  FutureWarning)\n",
      "C:\\Users\\TotEu\\anaconda3\\lib\\site-packages\\sklearn\\compose\\_column_transformer.py:440: FutureWarning: Given feature/column names or counts do not match the ones for the data given during fit. This will fail from v0.24.\n",
      "  FutureWarning)\n",
      "C:\\Users\\TotEu\\anaconda3\\lib\\site-packages\\sklearn\\compose\\_column_transformer.py:440: FutureWarning: Given feature/column names or counts do not match the ones for the data given during fit. This will fail from v0.24.\n",
      "  FutureWarning)\n",
      "C:\\Users\\TotEu\\anaconda3\\lib\\site-packages\\sklearn\\compose\\_column_transformer.py:440: FutureWarning: Given feature/column names or counts do not match the ones for the data given during fit. This will fail from v0.24.\n",
      "  FutureWarning)\n",
      "C:\\Users\\TotEu\\anaconda3\\lib\\site-packages\\sklearn\\compose\\_column_transformer.py:440: FutureWarning: Given feature/column names or counts do not match the ones for the data given during fit. This will fail from v0.24.\n",
      "  FutureWarning)\n",
      "C:\\Users\\TotEu\\anaconda3\\lib\\site-packages\\sklearn\\compose\\_column_transformer.py:440: FutureWarning: Given feature/column names or counts do not match the ones for the data given during fit. This will fail from v0.24.\n",
      "  FutureWarning)\n",
      "C:\\Users\\TotEu\\anaconda3\\lib\\site-packages\\sklearn\\compose\\_column_transformer.py:440: FutureWarning: Given feature/column names or counts do not match the ones for the data given during fit. This will fail from v0.24.\n",
      "  FutureWarning)\n",
      "C:\\Users\\TotEu\\anaconda3\\lib\\site-packages\\sklearn\\compose\\_column_transformer.py:440: FutureWarning: Given feature/column names or counts do not match the ones for the data given during fit. This will fail from v0.24.\n",
      "  FutureWarning)\n",
      "C:\\Users\\TotEu\\anaconda3\\lib\\site-packages\\sklearn\\compose\\_column_transformer.py:440: FutureWarning: Given feature/column names or counts do not match the ones for the data given during fit. This will fail from v0.24.\n",
      "  FutureWarning)\n",
      "C:\\Users\\TotEu\\anaconda3\\lib\\site-packages\\sklearn\\compose\\_column_transformer.py:440: FutureWarning: Given feature/column names or counts do not match the ones for the data given during fit. This will fail from v0.24.\n",
      "  FutureWarning)\n",
      "C:\\Users\\TotEu\\anaconda3\\lib\\site-packages\\sklearn\\compose\\_column_transformer.py:440: FutureWarning: Given feature/column names or counts do not match the ones for the data given during fit. This will fail from v0.24.\n",
      "  FutureWarning)\n",
      "C:\\Users\\TotEu\\anaconda3\\lib\\site-packages\\sklearn\\compose\\_column_transformer.py:440: FutureWarning: Given feature/column names or counts do not match the ones for the data given during fit. This will fail from v0.24.\n",
      "  FutureWarning)\n",
      "C:\\Users\\TotEu\\anaconda3\\lib\\site-packages\\sklearn\\compose\\_column_transformer.py:440: FutureWarning: Given feature/column names or counts do not match the ones for the data given during fit. This will fail from v0.24.\n",
      "  FutureWarning)\n",
      "C:\\Users\\TotEu\\anaconda3\\lib\\site-packages\\sklearn\\compose\\_column_transformer.py:440: FutureWarning: Given feature/column names or counts do not match the ones for the data given during fit. This will fail from v0.24.\n",
      "  FutureWarning)\n",
      "C:\\Users\\TotEu\\anaconda3\\lib\\site-packages\\sklearn\\compose\\_column_transformer.py:440: FutureWarning: Given feature/column names or counts do not match the ones for the data given during fit. This will fail from v0.24.\n",
      "  FutureWarning)\n",
      "C:\\Users\\TotEu\\anaconda3\\lib\\site-packages\\sklearn\\compose\\_column_transformer.py:440: FutureWarning: Given feature/column names or counts do not match the ones for the data given during fit. This will fail from v0.24.\n",
      "  FutureWarning)\n",
      "C:\\Users\\TotEu\\anaconda3\\lib\\site-packages\\sklearn\\compose\\_column_transformer.py:440: FutureWarning: Given feature/column names or counts do not match the ones for the data given during fit. This will fail from v0.24.\n",
      "  FutureWarning)\n",
      "C:\\Users\\TotEu\\anaconda3\\lib\\site-packages\\sklearn\\compose\\_column_transformer.py:440: FutureWarning: Given feature/column names or counts do not match the ones for the data given during fit. This will fail from v0.24.\n",
      "  FutureWarning)\n",
      "C:\\Users\\TotEu\\anaconda3\\lib\\site-packages\\sklearn\\compose\\_column_transformer.py:440: FutureWarning: Given feature/column names or counts do not match the ones for the data given during fit. This will fail from v0.24.\n",
      "  FutureWarning)\n",
      "C:\\Users\\TotEu\\anaconda3\\lib\\site-packages\\sklearn\\compose\\_column_transformer.py:440: FutureWarning: Given feature/column names or counts do not match the ones for the data given during fit. This will fail from v0.24.\n",
      "  FutureWarning)\n",
      "C:\\Users\\TotEu\\anaconda3\\lib\\site-packages\\sklearn\\compose\\_column_transformer.py:440: FutureWarning: Given feature/column names or counts do not match the ones for the data given during fit. This will fail from v0.24.\n",
      "  FutureWarning)\n",
      "C:\\Users\\TotEu\\anaconda3\\lib\\site-packages\\sklearn\\compose\\_column_transformer.py:440: FutureWarning: Given feature/column names or counts do not match the ones for the data given during fit. This will fail from v0.24.\n",
      "  FutureWarning)\n",
      "C:\\Users\\TotEu\\anaconda3\\lib\\site-packages\\sklearn\\compose\\_column_transformer.py:440: FutureWarning: Given feature/column names or counts do not match the ones for the data given during fit. This will fail from v0.24.\n",
      "  FutureWarning)\n",
      "C:\\Users\\TotEu\\anaconda3\\lib\\site-packages\\sklearn\\compose\\_column_transformer.py:440: FutureWarning: Given feature/column names or counts do not match the ones for the data given during fit. This will fail from v0.24.\n",
      "  FutureWarning)\n",
      "C:\\Users\\TotEu\\anaconda3\\lib\\site-packages\\sklearn\\compose\\_column_transformer.py:440: FutureWarning: Given feature/column names or counts do not match the ones for the data given during fit. This will fail from v0.24.\n",
      "  FutureWarning)\n",
      "C:\\Users\\TotEu\\anaconda3\\lib\\site-packages\\sklearn\\compose\\_column_transformer.py:440: FutureWarning: Given feature/column names or counts do not match the ones for the data given during fit. This will fail from v0.24.\n",
      "  FutureWarning)\n",
      "C:\\Users\\TotEu\\anaconda3\\lib\\site-packages\\sklearn\\compose\\_column_transformer.py:440: FutureWarning: Given feature/column names or counts do not match the ones for the data given during fit. This will fail from v0.24.\n",
      "  FutureWarning)\n",
      "C:\\Users\\TotEu\\anaconda3\\lib\\site-packages\\sklearn\\compose\\_column_transformer.py:440: FutureWarning: Given feature/column names or counts do not match the ones for the data given during fit. This will fail from v0.24.\n",
      "  FutureWarning)\n",
      "C:\\Users\\TotEu\\anaconda3\\lib\\site-packages\\sklearn\\compose\\_column_transformer.py:440: FutureWarning: Given feature/column names or counts do not match the ones for the data given during fit. This will fail from v0.24.\n",
      "  FutureWarning)\n",
      "C:\\Users\\TotEu\\anaconda3\\lib\\site-packages\\sklearn\\compose\\_column_transformer.py:440: FutureWarning: Given feature/column names or counts do not match the ones for the data given during fit. This will fail from v0.24.\n",
      "  FutureWarning)\n",
      "C:\\Users\\TotEu\\anaconda3\\lib\\site-packages\\sklearn\\compose\\_column_transformer.py:440: FutureWarning: Given feature/column names or counts do not match the ones for the data given during fit. This will fail from v0.24.\n",
      "  FutureWarning)\n",
      "C:\\Users\\TotEu\\anaconda3\\lib\\site-packages\\sklearn\\compose\\_column_transformer.py:440: FutureWarning: Given feature/column names or counts do not match the ones for the data given during fit. This will fail from v0.24.\n",
      "  FutureWarning)\n",
      "C:\\Users\\TotEu\\anaconda3\\lib\\site-packages\\sklearn\\compose\\_column_transformer.py:440: FutureWarning: Given feature/column names or counts do not match the ones for the data given during fit. This will fail from v0.24.\n",
      "  FutureWarning)\n",
      "C:\\Users\\TotEu\\anaconda3\\lib\\site-packages\\sklearn\\compose\\_column_transformer.py:440: FutureWarning: Given feature/column names or counts do not match the ones for the data given during fit. This will fail from v0.24.\n",
      "  FutureWarning)\n",
      "C:\\Users\\TotEu\\anaconda3\\lib\\site-packages\\sklearn\\compose\\_column_transformer.py:440: FutureWarning: Given feature/column names or counts do not match the ones for the data given during fit. This will fail from v0.24.\n",
      "  FutureWarning)\n",
      "C:\\Users\\TotEu\\anaconda3\\lib\\site-packages\\sklearn\\compose\\_column_transformer.py:440: FutureWarning: Given feature/column names or counts do not match the ones for the data given during fit. This will fail from v0.24.\n",
      "  FutureWarning)\n",
      "C:\\Users\\TotEu\\anaconda3\\lib\\site-packages\\sklearn\\compose\\_column_transformer.py:440: FutureWarning: Given feature/column names or counts do not match the ones for the data given during fit. This will fail from v0.24.\n",
      "  FutureWarning)\n"
     ]
    },
    {
     "name": "stderr",
     "output_type": "stream",
     "text": [
      "C:\\Users\\TotEu\\anaconda3\\lib\\site-packages\\sklearn\\compose\\_column_transformer.py:440: FutureWarning: Given feature/column names or counts do not match the ones for the data given during fit. This will fail from v0.24.\n",
      "  FutureWarning)\n",
      "C:\\Users\\TotEu\\anaconda3\\lib\\site-packages\\sklearn\\compose\\_column_transformer.py:440: FutureWarning: Given feature/column names or counts do not match the ones for the data given during fit. This will fail from v0.24.\n",
      "  FutureWarning)\n",
      "C:\\Users\\TotEu\\anaconda3\\lib\\site-packages\\sklearn\\compose\\_column_transformer.py:440: FutureWarning: Given feature/column names or counts do not match the ones for the data given during fit. This will fail from v0.24.\n",
      "  FutureWarning)\n",
      "C:\\Users\\TotEu\\anaconda3\\lib\\site-packages\\sklearn\\compose\\_column_transformer.py:440: FutureWarning: Given feature/column names or counts do not match the ones for the data given during fit. This will fail from v0.24.\n",
      "  FutureWarning)\n",
      "C:\\Users\\TotEu\\anaconda3\\lib\\site-packages\\sklearn\\compose\\_column_transformer.py:440: FutureWarning: Given feature/column names or counts do not match the ones for the data given during fit. This will fail from v0.24.\n",
      "  FutureWarning)\n",
      "C:\\Users\\TotEu\\anaconda3\\lib\\site-packages\\sklearn\\compose\\_column_transformer.py:440: FutureWarning: Given feature/column names or counts do not match the ones for the data given during fit. This will fail from v0.24.\n",
      "  FutureWarning)\n",
      "C:\\Users\\TotEu\\anaconda3\\lib\\site-packages\\sklearn\\compose\\_column_transformer.py:440: FutureWarning: Given feature/column names or counts do not match the ones for the data given during fit. This will fail from v0.24.\n",
      "  FutureWarning)\n",
      "C:\\Users\\TotEu\\anaconda3\\lib\\site-packages\\sklearn\\compose\\_column_transformer.py:440: FutureWarning: Given feature/column names or counts do not match the ones for the data given during fit. This will fail from v0.24.\n",
      "  FutureWarning)\n",
      "C:\\Users\\TotEu\\anaconda3\\lib\\site-packages\\sklearn\\compose\\_column_transformer.py:440: FutureWarning: Given feature/column names or counts do not match the ones for the data given during fit. This will fail from v0.24.\n",
      "  FutureWarning)\n",
      "C:\\Users\\TotEu\\anaconda3\\lib\\site-packages\\sklearn\\compose\\_column_transformer.py:440: FutureWarning: Given feature/column names or counts do not match the ones for the data given during fit. This will fail from v0.24.\n",
      "  FutureWarning)\n",
      "C:\\Users\\TotEu\\anaconda3\\lib\\site-packages\\sklearn\\compose\\_column_transformer.py:440: FutureWarning: Given feature/column names or counts do not match the ones for the data given during fit. This will fail from v0.24.\n",
      "  FutureWarning)\n",
      "C:\\Users\\TotEu\\anaconda3\\lib\\site-packages\\sklearn\\compose\\_column_transformer.py:440: FutureWarning: Given feature/column names or counts do not match the ones for the data given during fit. This will fail from v0.24.\n",
      "  FutureWarning)\n",
      "C:\\Users\\TotEu\\anaconda3\\lib\\site-packages\\sklearn\\compose\\_column_transformer.py:440: FutureWarning: Given feature/column names or counts do not match the ones for the data given during fit. This will fail from v0.24.\n",
      "  FutureWarning)\n",
      "C:\\Users\\TotEu\\anaconda3\\lib\\site-packages\\sklearn\\compose\\_column_transformer.py:440: FutureWarning: Given feature/column names or counts do not match the ones for the data given during fit. This will fail from v0.24.\n",
      "  FutureWarning)\n",
      "C:\\Users\\TotEu\\anaconda3\\lib\\site-packages\\sklearn\\compose\\_column_transformer.py:440: FutureWarning: Given feature/column names or counts do not match the ones for the data given during fit. This will fail from v0.24.\n",
      "  FutureWarning)\n",
      "C:\\Users\\TotEu\\anaconda3\\lib\\site-packages\\sklearn\\compose\\_column_transformer.py:440: FutureWarning: Given feature/column names or counts do not match the ones for the data given during fit. This will fail from v0.24.\n",
      "  FutureWarning)\n",
      "C:\\Users\\TotEu\\anaconda3\\lib\\site-packages\\sklearn\\compose\\_column_transformer.py:440: FutureWarning: Given feature/column names or counts do not match the ones for the data given during fit. This will fail from v0.24.\n",
      "  FutureWarning)\n",
      "C:\\Users\\TotEu\\anaconda3\\lib\\site-packages\\sklearn\\compose\\_column_transformer.py:440: FutureWarning: Given feature/column names or counts do not match the ones for the data given during fit. This will fail from v0.24.\n",
      "  FutureWarning)\n",
      "C:\\Users\\TotEu\\anaconda3\\lib\\site-packages\\sklearn\\compose\\_column_transformer.py:440: FutureWarning: Given feature/column names or counts do not match the ones for the data given during fit. This will fail from v0.24.\n",
      "  FutureWarning)\n",
      "C:\\Users\\TotEu\\anaconda3\\lib\\site-packages\\sklearn\\compose\\_column_transformer.py:440: FutureWarning: Given feature/column names or counts do not match the ones for the data given during fit. This will fail from v0.24.\n",
      "  FutureWarning)\n",
      "C:\\Users\\TotEu\\anaconda3\\lib\\site-packages\\sklearn\\compose\\_column_transformer.py:440: FutureWarning: Given feature/column names or counts do not match the ones for the data given during fit. This will fail from v0.24.\n",
      "  FutureWarning)\n",
      "C:\\Users\\TotEu\\anaconda3\\lib\\site-packages\\sklearn\\compose\\_column_transformer.py:440: FutureWarning: Given feature/column names or counts do not match the ones for the data given during fit. This will fail from v0.24.\n",
      "  FutureWarning)\n",
      "C:\\Users\\TotEu\\anaconda3\\lib\\site-packages\\sklearn\\compose\\_column_transformer.py:440: FutureWarning: Given feature/column names or counts do not match the ones for the data given during fit. This will fail from v0.24.\n",
      "  FutureWarning)\n",
      "C:\\Users\\TotEu\\anaconda3\\lib\\site-packages\\sklearn\\compose\\_column_transformer.py:440: FutureWarning: Given feature/column names or counts do not match the ones for the data given during fit. This will fail from v0.24.\n",
      "  FutureWarning)\n",
      "C:\\Users\\TotEu\\anaconda3\\lib\\site-packages\\sklearn\\compose\\_column_transformer.py:440: FutureWarning: Given feature/column names or counts do not match the ones for the data given during fit. This will fail from v0.24.\n",
      "  FutureWarning)\n",
      "C:\\Users\\TotEu\\anaconda3\\lib\\site-packages\\sklearn\\compose\\_column_transformer.py:440: FutureWarning: Given feature/column names or counts do not match the ones for the data given during fit. This will fail from v0.24.\n",
      "  FutureWarning)\n",
      "C:\\Users\\TotEu\\anaconda3\\lib\\site-packages\\sklearn\\compose\\_column_transformer.py:440: FutureWarning: Given feature/column names or counts do not match the ones for the data given during fit. This will fail from v0.24.\n",
      "  FutureWarning)\n",
      "C:\\Users\\TotEu\\anaconda3\\lib\\site-packages\\sklearn\\compose\\_column_transformer.py:440: FutureWarning: Given feature/column names or counts do not match the ones for the data given during fit. This will fail from v0.24.\n",
      "  FutureWarning)\n",
      "C:\\Users\\TotEu\\anaconda3\\lib\\site-packages\\sklearn\\compose\\_column_transformer.py:440: FutureWarning: Given feature/column names or counts do not match the ones for the data given during fit. This will fail from v0.24.\n",
      "  FutureWarning)\n",
      "C:\\Users\\TotEu\\anaconda3\\lib\\site-packages\\sklearn\\compose\\_column_transformer.py:440: FutureWarning: Given feature/column names or counts do not match the ones for the data given during fit. This will fail from v0.24.\n",
      "  FutureWarning)\n",
      "C:\\Users\\TotEu\\anaconda3\\lib\\site-packages\\sklearn\\compose\\_column_transformer.py:440: FutureWarning: Given feature/column names or counts do not match the ones for the data given during fit. This will fail from v0.24.\n",
      "  FutureWarning)\n",
      "C:\\Users\\TotEu\\anaconda3\\lib\\site-packages\\sklearn\\compose\\_column_transformer.py:440: FutureWarning: Given feature/column names or counts do not match the ones for the data given during fit. This will fail from v0.24.\n",
      "  FutureWarning)\n",
      "C:\\Users\\TotEu\\anaconda3\\lib\\site-packages\\sklearn\\compose\\_column_transformer.py:440: FutureWarning: Given feature/column names or counts do not match the ones for the data given during fit. This will fail from v0.24.\n",
      "  FutureWarning)\n",
      "C:\\Users\\TotEu\\anaconda3\\lib\\site-packages\\sklearn\\compose\\_column_transformer.py:440: FutureWarning: Given feature/column names or counts do not match the ones for the data given during fit. This will fail from v0.24.\n",
      "  FutureWarning)\n",
      "C:\\Users\\TotEu\\anaconda3\\lib\\site-packages\\sklearn\\compose\\_column_transformer.py:440: FutureWarning: Given feature/column names or counts do not match the ones for the data given during fit. This will fail from v0.24.\n",
      "  FutureWarning)\n",
      "C:\\Users\\TotEu\\anaconda3\\lib\\site-packages\\sklearn\\compose\\_column_transformer.py:440: FutureWarning: Given feature/column names or counts do not match the ones for the data given during fit. This will fail from v0.24.\n",
      "  FutureWarning)\n",
      "C:\\Users\\TotEu\\anaconda3\\lib\\site-packages\\sklearn\\compose\\_column_transformer.py:440: FutureWarning: Given feature/column names or counts do not match the ones for the data given during fit. This will fail from v0.24.\n",
      "  FutureWarning)\n",
      "C:\\Users\\TotEu\\anaconda3\\lib\\site-packages\\sklearn\\compose\\_column_transformer.py:440: FutureWarning: Given feature/column names or counts do not match the ones for the data given during fit. This will fail from v0.24.\n",
      "  FutureWarning)\n",
      "C:\\Users\\TotEu\\anaconda3\\lib\\site-packages\\sklearn\\compose\\_column_transformer.py:440: FutureWarning: Given feature/column names or counts do not match the ones for the data given during fit. This will fail from v0.24.\n",
      "  FutureWarning)\n",
      "C:\\Users\\TotEu\\anaconda3\\lib\\site-packages\\sklearn\\compose\\_column_transformer.py:440: FutureWarning: Given feature/column names or counts do not match the ones for the data given during fit. This will fail from v0.24.\n",
      "  FutureWarning)\n",
      "C:\\Users\\TotEu\\anaconda3\\lib\\site-packages\\sklearn\\compose\\_column_transformer.py:440: FutureWarning: Given feature/column names or counts do not match the ones for the data given during fit. This will fail from v0.24.\n",
      "  FutureWarning)\n",
      "C:\\Users\\TotEu\\anaconda3\\lib\\site-packages\\sklearn\\compose\\_column_transformer.py:440: FutureWarning: Given feature/column names or counts do not match the ones for the data given during fit. This will fail from v0.24.\n",
      "  FutureWarning)\n",
      "C:\\Users\\TotEu\\anaconda3\\lib\\site-packages\\sklearn\\compose\\_column_transformer.py:440: FutureWarning: Given feature/column names or counts do not match the ones for the data given during fit. This will fail from v0.24.\n",
      "  FutureWarning)\n",
      "C:\\Users\\TotEu\\anaconda3\\lib\\site-packages\\sklearn\\compose\\_column_transformer.py:440: FutureWarning: Given feature/column names or counts do not match the ones for the data given during fit. This will fail from v0.24.\n",
      "  FutureWarning)\n",
      "C:\\Users\\TotEu\\anaconda3\\lib\\site-packages\\sklearn\\compose\\_column_transformer.py:440: FutureWarning: Given feature/column names or counts do not match the ones for the data given during fit. This will fail from v0.24.\n",
      "  FutureWarning)\n",
      "C:\\Users\\TotEu\\anaconda3\\lib\\site-packages\\sklearn\\compose\\_column_transformer.py:440: FutureWarning: Given feature/column names or counts do not match the ones for the data given during fit. This will fail from v0.24.\n",
      "  FutureWarning)\n",
      "C:\\Users\\TotEu\\anaconda3\\lib\\site-packages\\sklearn\\compose\\_column_transformer.py:440: FutureWarning: Given feature/column names or counts do not match the ones for the data given during fit. This will fail from v0.24.\n",
      "  FutureWarning)\n",
      "C:\\Users\\TotEu\\anaconda3\\lib\\site-packages\\sklearn\\compose\\_column_transformer.py:440: FutureWarning: Given feature/column names or counts do not match the ones for the data given during fit. This will fail from v0.24.\n",
      "  FutureWarning)\n"
     ]
    },
    {
     "name": "stderr",
     "output_type": "stream",
     "text": [
      "C:\\Users\\TotEu\\anaconda3\\lib\\site-packages\\sklearn\\compose\\_column_transformer.py:440: FutureWarning: Given feature/column names or counts do not match the ones for the data given during fit. This will fail from v0.24.\n",
      "  FutureWarning)\n",
      "C:\\Users\\TotEu\\anaconda3\\lib\\site-packages\\sklearn\\compose\\_column_transformer.py:440: FutureWarning: Given feature/column names or counts do not match the ones for the data given during fit. This will fail from v0.24.\n",
      "  FutureWarning)\n",
      "C:\\Users\\TotEu\\anaconda3\\lib\\site-packages\\sklearn\\compose\\_column_transformer.py:440: FutureWarning: Given feature/column names or counts do not match the ones for the data given during fit. This will fail from v0.24.\n",
      "  FutureWarning)\n",
      "C:\\Users\\TotEu\\anaconda3\\lib\\site-packages\\sklearn\\compose\\_column_transformer.py:440: FutureWarning: Given feature/column names or counts do not match the ones for the data given during fit. This will fail from v0.24.\n",
      "  FutureWarning)\n",
      "C:\\Users\\TotEu\\anaconda3\\lib\\site-packages\\sklearn\\compose\\_column_transformer.py:440: FutureWarning: Given feature/column names or counts do not match the ones for the data given during fit. This will fail from v0.24.\n",
      "  FutureWarning)\n",
      "C:\\Users\\TotEu\\anaconda3\\lib\\site-packages\\sklearn\\compose\\_column_transformer.py:440: FutureWarning: Given feature/column names or counts do not match the ones for the data given during fit. This will fail from v0.24.\n",
      "  FutureWarning)\n",
      "C:\\Users\\TotEu\\anaconda3\\lib\\site-packages\\sklearn\\compose\\_column_transformer.py:440: FutureWarning: Given feature/column names or counts do not match the ones for the data given during fit. This will fail from v0.24.\n",
      "  FutureWarning)\n",
      "C:\\Users\\TotEu\\anaconda3\\lib\\site-packages\\sklearn\\compose\\_column_transformer.py:440: FutureWarning: Given feature/column names or counts do not match the ones for the data given during fit. This will fail from v0.24.\n",
      "  FutureWarning)\n",
      "C:\\Users\\TotEu\\anaconda3\\lib\\site-packages\\sklearn\\compose\\_column_transformer.py:440: FutureWarning: Given feature/column names or counts do not match the ones for the data given during fit. This will fail from v0.24.\n",
      "  FutureWarning)\n",
      "C:\\Users\\TotEu\\anaconda3\\lib\\site-packages\\sklearn\\compose\\_column_transformer.py:440: FutureWarning: Given feature/column names or counts do not match the ones for the data given during fit. This will fail from v0.24.\n",
      "  FutureWarning)\n",
      "C:\\Users\\TotEu\\anaconda3\\lib\\site-packages\\sklearn\\compose\\_column_transformer.py:440: FutureWarning: Given feature/column names or counts do not match the ones for the data given during fit. This will fail from v0.24.\n",
      "  FutureWarning)\n",
      "C:\\Users\\TotEu\\anaconda3\\lib\\site-packages\\sklearn\\compose\\_column_transformer.py:440: FutureWarning: Given feature/column names or counts do not match the ones for the data given during fit. This will fail from v0.24.\n",
      "  FutureWarning)\n",
      "C:\\Users\\TotEu\\anaconda3\\lib\\site-packages\\sklearn\\compose\\_column_transformer.py:440: FutureWarning: Given feature/column names or counts do not match the ones for the data given during fit. This will fail from v0.24.\n",
      "  FutureWarning)\n",
      "C:\\Users\\TotEu\\anaconda3\\lib\\site-packages\\sklearn\\compose\\_column_transformer.py:440: FutureWarning: Given feature/column names or counts do not match the ones for the data given during fit. This will fail from v0.24.\n",
      "  FutureWarning)\n",
      "C:\\Users\\TotEu\\anaconda3\\lib\\site-packages\\sklearn\\compose\\_column_transformer.py:440: FutureWarning: Given feature/column names or counts do not match the ones for the data given during fit. This will fail from v0.24.\n",
      "  FutureWarning)\n",
      "C:\\Users\\TotEu\\anaconda3\\lib\\site-packages\\sklearn\\compose\\_column_transformer.py:440: FutureWarning: Given feature/column names or counts do not match the ones for the data given during fit. This will fail from v0.24.\n",
      "  FutureWarning)\n",
      "C:\\Users\\TotEu\\anaconda3\\lib\\site-packages\\sklearn\\compose\\_column_transformer.py:440: FutureWarning: Given feature/column names or counts do not match the ones for the data given during fit. This will fail from v0.24.\n",
      "  FutureWarning)\n",
      "C:\\Users\\TotEu\\anaconda3\\lib\\site-packages\\sklearn\\compose\\_column_transformer.py:440: FutureWarning: Given feature/column names or counts do not match the ones for the data given during fit. This will fail from v0.24.\n",
      "  FutureWarning)\n",
      "C:\\Users\\TotEu\\anaconda3\\lib\\site-packages\\sklearn\\compose\\_column_transformer.py:440: FutureWarning: Given feature/column names or counts do not match the ones for the data given during fit. This will fail from v0.24.\n",
      "  FutureWarning)\n",
      "C:\\Users\\TotEu\\anaconda3\\lib\\site-packages\\sklearn\\compose\\_column_transformer.py:440: FutureWarning: Given feature/column names or counts do not match the ones for the data given during fit. This will fail from v0.24.\n",
      "  FutureWarning)\n",
      "C:\\Users\\TotEu\\anaconda3\\lib\\site-packages\\sklearn\\compose\\_column_transformer.py:440: FutureWarning: Given feature/column names or counts do not match the ones for the data given during fit. This will fail from v0.24.\n",
      "  FutureWarning)\n",
      "C:\\Users\\TotEu\\anaconda3\\lib\\site-packages\\sklearn\\compose\\_column_transformer.py:440: FutureWarning: Given feature/column names or counts do not match the ones for the data given during fit. This will fail from v0.24.\n",
      "  FutureWarning)\n",
      "C:\\Users\\TotEu\\anaconda3\\lib\\site-packages\\sklearn\\compose\\_column_transformer.py:440: FutureWarning: Given feature/column names or counts do not match the ones for the data given during fit. This will fail from v0.24.\n",
      "  FutureWarning)\n",
      "C:\\Users\\TotEu\\anaconda3\\lib\\site-packages\\sklearn\\compose\\_column_transformer.py:440: FutureWarning: Given feature/column names or counts do not match the ones for the data given during fit. This will fail from v0.24.\n",
      "  FutureWarning)\n",
      "C:\\Users\\TotEu\\anaconda3\\lib\\site-packages\\sklearn\\compose\\_column_transformer.py:440: FutureWarning: Given feature/column names or counts do not match the ones for the data given during fit. This will fail from v0.24.\n",
      "  FutureWarning)\n",
      "C:\\Users\\TotEu\\anaconda3\\lib\\site-packages\\sklearn\\compose\\_column_transformer.py:440: FutureWarning: Given feature/column names or counts do not match the ones for the data given during fit. This will fail from v0.24.\n",
      "  FutureWarning)\n"
     ]
    },
    {
     "data": {
      "text/html": [
       "<style  type=\"text/css\" >\n",
       "    #T_e2b77206_374f_11eb_84dd_3c9509f49954 th {\n",
       "          background: #3d405b;\n",
       "          color: white;\n",
       "    }    #T_e2b77206_374f_11eb_84dd_3c9509f49954 td {\n",
       "          border: 2px solid black;\n",
       "    }</style><table id=\"T_e2b77206_374f_11eb_84dd_3c9509f49954\" ><thead>    <tr>        <th class=\"blank level0\" ></th>        <th class=\"col_heading level0 col0\" >Feature</th>        <th class=\"col_heading level0 col1\" >Importance</th>        <th class=\"col_heading level0 col2\" >Standard Deviation</th>    </tr></thead><tbody>\n",
       "                <tr>\n",
       "                        <th id=\"T_e2b77206_374f_11eb_84dd_3c9509f49954level0_row0\" class=\"row_heading level0 row0\" >0</th>\n",
       "                        <td id=\"T_e2b77206_374f_11eb_84dd_3c9509f49954row0_col0\" class=\"data row0 col0\" >fuel-system</td>\n",
       "                        <td id=\"T_e2b77206_374f_11eb_84dd_3c9509f49954row0_col1\" class=\"data row0 col1\" >0.128</td>\n",
       "                        <td id=\"T_e2b77206_374f_11eb_84dd_3c9509f49954row0_col2\" class=\"data row0 col2\" >0.018</td>\n",
       "            </tr>\n",
       "            <tr>\n",
       "                        <th id=\"T_e2b77206_374f_11eb_84dd_3c9509f49954level0_row1\" class=\"row_heading level0 row1\" >1</th>\n",
       "                        <td id=\"T_e2b77206_374f_11eb_84dd_3c9509f49954row1_col0\" class=\"data row1 col0\" >drive-wheels</td>\n",
       "                        <td id=\"T_e2b77206_374f_11eb_84dd_3c9509f49954row1_col1\" class=\"data row1 col1\" >0.064</td>\n",
       "                        <td id=\"T_e2b77206_374f_11eb_84dd_3c9509f49954row1_col2\" class=\"data row1 col2\" >0.012</td>\n",
       "            </tr>\n",
       "            <tr>\n",
       "                        <th id=\"T_e2b77206_374f_11eb_84dd_3c9509f49954level0_row2\" class=\"row_heading level0 row2\" >2</th>\n",
       "                        <td id=\"T_e2b77206_374f_11eb_84dd_3c9509f49954row2_col0\" class=\"data row2 col0\" >make</td>\n",
       "                        <td id=\"T_e2b77206_374f_11eb_84dd_3c9509f49954row2_col1\" class=\"data row2 col1\" >0.055</td>\n",
       "                        <td id=\"T_e2b77206_374f_11eb_84dd_3c9509f49954row2_col2\" class=\"data row2 col2\" >0.016</td>\n",
       "            </tr>\n",
       "            <tr>\n",
       "                        <th id=\"T_e2b77206_374f_11eb_84dd_3c9509f49954level0_row3\" class=\"row_heading level0 row3\" >3</th>\n",
       "                        <td id=\"T_e2b77206_374f_11eb_84dd_3c9509f49954row3_col0\" class=\"data row3 col0\" >aspiration</td>\n",
       "                        <td id=\"T_e2b77206_374f_11eb_84dd_3c9509f49954row3_col1\" class=\"data row3 col1\" >0.037</td>\n",
       "                        <td id=\"T_e2b77206_374f_11eb_84dd_3c9509f49954row3_col2\" class=\"data row3 col2\" >0.007</td>\n",
       "            </tr>\n",
       "            <tr>\n",
       "                        <th id=\"T_e2b77206_374f_11eb_84dd_3c9509f49954level0_row4\" class=\"row_heading level0 row4\" >4</th>\n",
       "                        <td id=\"T_e2b77206_374f_11eb_84dd_3c9509f49954row4_col0\" class=\"data row4 col0\" >num-of-cylinders</td>\n",
       "                        <td id=\"T_e2b77206_374f_11eb_84dd_3c9509f49954row4_col1\" class=\"data row4 col1\" >0.023</td>\n",
       "                        <td id=\"T_e2b77206_374f_11eb_84dd_3c9509f49954row4_col2\" class=\"data row4 col2\" >0.006</td>\n",
       "            </tr>\n",
       "            <tr>\n",
       "                        <th id=\"T_e2b77206_374f_11eb_84dd_3c9509f49954level0_row5\" class=\"row_heading level0 row5\" >5</th>\n",
       "                        <td id=\"T_e2b77206_374f_11eb_84dd_3c9509f49954row5_col0\" class=\"data row5 col0\" >bore</td>\n",
       "                        <td id=\"T_e2b77206_374f_11eb_84dd_3c9509f49954row5_col1\" class=\"data row5 col1\" >0.015</td>\n",
       "                        <td id=\"T_e2b77206_374f_11eb_84dd_3c9509f49954row5_col2\" class=\"data row5 col2\" >0.005</td>\n",
       "            </tr>\n",
       "    </tbody></table>"
      ],
      "text/plain": [
       "<pandas.io.formats.style.Styler at 0x1d2feb74fc8>"
      ]
     },
     "execution_count": 480,
     "metadata": {},
     "output_type": "execute_result"
    }
   ],
   "source": [
    "from sklearn.inspection import permutation_importance\n",
    "\n",
    "def get_feature_importance():\n",
    "    r = permutation_importance(grid.best_estimator_, X, y, n_repeats=10, random_state=0)\n",
    "    \n",
    "    col1=[]\n",
    "    col2=[]\n",
    "    col3=[]\n",
    "    for i in r.importances_mean.argsort()[::-1]:\n",
    "        if r.importances_mean[i] - 2 * r.importances_std[i] > 0:\n",
    "            col1.append(X.columns[i])\n",
    "            col2.append(f'{r.importances_mean[i]:.3f}')\n",
    "            col3.append(f'{r.importances_std[i]:.3f}')\n",
    "\n",
    "    return pd.DataFrame([col1,col2,col3], index=['Feature','Importance','Standard Deviation']).T\n",
    "  \n",
    "    \n",
    "importance_df = get_feature_importance()\n",
    "\n",
    "importance_df.style.set_table_styles(\n",
    "        [{'selector' : 'th',\n",
    "          'props': [('background','#3d405b'),('color','white')]},\n",
    "\n",
    "        {'selector':'td',\n",
    "        'props':[('border','2px solid black')]}])"
   ]
  },
  {
   "cell_type": "code",
   "execution_count": 481,
   "metadata": {},
   "outputs": [
    {
     "data": {
      "text/plain": [
       "(201, 22)"
      ]
     },
     "execution_count": 481,
     "metadata": {},
     "output_type": "execute_result"
    }
   ],
   "source": [
    "X.shape"
   ]
  },
  {
   "cell_type": "code",
   "execution_count": 482,
   "metadata": {},
   "outputs": [
    {
     "data": {
      "text/html": [
       "<div>\n",
       "<style scoped>\n",
       "    .dataframe tbody tr th:only-of-type {\n",
       "        vertical-align: middle;\n",
       "    }\n",
       "\n",
       "    .dataframe tbody tr th {\n",
       "        vertical-align: top;\n",
       "    }\n",
       "\n",
       "    .dataframe thead th {\n",
       "        text-align: right;\n",
       "    }\n",
       "</style>\n",
       "<table border=\"1\" class=\"dataframe\">\n",
       "  <thead>\n",
       "    <tr style=\"text-align: right;\">\n",
       "      <th></th>\n",
       "      <th>symboling</th>\n",
       "      <th>make</th>\n",
       "      <th>fuel-type</th>\n",
       "      <th>aspiration</th>\n",
       "      <th>body-style</th>\n",
       "      <th>drive-wheels</th>\n",
       "      <th>engine-location</th>\n",
       "      <th>wheel-base</th>\n",
       "      <th>length</th>\n",
       "      <th>height</th>\n",
       "      <th>...</th>\n",
       "      <th>num-of-cylinders</th>\n",
       "      <th>engine-size</th>\n",
       "      <th>fuel-system</th>\n",
       "      <th>bore</th>\n",
       "      <th>stroke</th>\n",
       "      <th>compression-ratio</th>\n",
       "      <th>horsepower</th>\n",
       "      <th>peak-rpm</th>\n",
       "      <th>city-mpg</th>\n",
       "      <th>highway-mpg</th>\n",
       "    </tr>\n",
       "  </thead>\n",
       "  <tbody>\n",
       "    <tr>\n",
       "      <th>0</th>\n",
       "      <td>3</td>\n",
       "      <td>alfa-romero</td>\n",
       "      <td>gas</td>\n",
       "      <td>std</td>\n",
       "      <td>convertible</td>\n",
       "      <td>rwd</td>\n",
       "      <td>front</td>\n",
       "      <td>88.6</td>\n",
       "      <td>168.8</td>\n",
       "      <td>48.8</td>\n",
       "      <td>...</td>\n",
       "      <td>four</td>\n",
       "      <td>130</td>\n",
       "      <td>mpfi</td>\n",
       "      <td>3.47</td>\n",
       "      <td>2.68</td>\n",
       "      <td>9.0</td>\n",
       "      <td>111.0</td>\n",
       "      <td>5000.0</td>\n",
       "      <td>21</td>\n",
       "      <td>27</td>\n",
       "    </tr>\n",
       "    <tr>\n",
       "      <th>1</th>\n",
       "      <td>3</td>\n",
       "      <td>alfa-romero</td>\n",
       "      <td>gas</td>\n",
       "      <td>std</td>\n",
       "      <td>convertible</td>\n",
       "      <td>rwd</td>\n",
       "      <td>front</td>\n",
       "      <td>88.6</td>\n",
       "      <td>168.8</td>\n",
       "      <td>48.8</td>\n",
       "      <td>...</td>\n",
       "      <td>four</td>\n",
       "      <td>130</td>\n",
       "      <td>mpfi</td>\n",
       "      <td>3.47</td>\n",
       "      <td>2.68</td>\n",
       "      <td>9.0</td>\n",
       "      <td>111.0</td>\n",
       "      <td>5000.0</td>\n",
       "      <td>21</td>\n",
       "      <td>27</td>\n",
       "    </tr>\n",
       "    <tr>\n",
       "      <th>2</th>\n",
       "      <td>1</td>\n",
       "      <td>alfa-romero</td>\n",
       "      <td>gas</td>\n",
       "      <td>std</td>\n",
       "      <td>hatchback</td>\n",
       "      <td>rwd</td>\n",
       "      <td>front</td>\n",
       "      <td>94.5</td>\n",
       "      <td>171.2</td>\n",
       "      <td>52.4</td>\n",
       "      <td>...</td>\n",
       "      <td>six</td>\n",
       "      <td>152</td>\n",
       "      <td>mpfi</td>\n",
       "      <td>2.68</td>\n",
       "      <td>3.47</td>\n",
       "      <td>9.0</td>\n",
       "      <td>154.0</td>\n",
       "      <td>5000.0</td>\n",
       "      <td>19</td>\n",
       "      <td>26</td>\n",
       "    </tr>\n",
       "    <tr>\n",
       "      <th>3</th>\n",
       "      <td>2</td>\n",
       "      <td>audi</td>\n",
       "      <td>gas</td>\n",
       "      <td>std</td>\n",
       "      <td>sedan</td>\n",
       "      <td>fwd</td>\n",
       "      <td>front</td>\n",
       "      <td>99.8</td>\n",
       "      <td>176.6</td>\n",
       "      <td>54.3</td>\n",
       "      <td>...</td>\n",
       "      <td>four</td>\n",
       "      <td>109</td>\n",
       "      <td>mpfi</td>\n",
       "      <td>3.19</td>\n",
       "      <td>3.40</td>\n",
       "      <td>10.0</td>\n",
       "      <td>102.0</td>\n",
       "      <td>5500.0</td>\n",
       "      <td>24</td>\n",
       "      <td>30</td>\n",
       "    </tr>\n",
       "    <tr>\n",
       "      <th>4</th>\n",
       "      <td>2</td>\n",
       "      <td>audi</td>\n",
       "      <td>gas</td>\n",
       "      <td>std</td>\n",
       "      <td>sedan</td>\n",
       "      <td>4wd</td>\n",
       "      <td>front</td>\n",
       "      <td>99.4</td>\n",
       "      <td>176.6</td>\n",
       "      <td>54.3</td>\n",
       "      <td>...</td>\n",
       "      <td>five</td>\n",
       "      <td>136</td>\n",
       "      <td>mpfi</td>\n",
       "      <td>3.19</td>\n",
       "      <td>3.40</td>\n",
       "      <td>8.0</td>\n",
       "      <td>115.0</td>\n",
       "      <td>5500.0</td>\n",
       "      <td>18</td>\n",
       "      <td>22</td>\n",
       "    </tr>\n",
       "    <tr>\n",
       "      <th>...</th>\n",
       "      <td>...</td>\n",
       "      <td>...</td>\n",
       "      <td>...</td>\n",
       "      <td>...</td>\n",
       "      <td>...</td>\n",
       "      <td>...</td>\n",
       "      <td>...</td>\n",
       "      <td>...</td>\n",
       "      <td>...</td>\n",
       "      <td>...</td>\n",
       "      <td>...</td>\n",
       "      <td>...</td>\n",
       "      <td>...</td>\n",
       "      <td>...</td>\n",
       "      <td>...</td>\n",
       "      <td>...</td>\n",
       "      <td>...</td>\n",
       "      <td>...</td>\n",
       "      <td>...</td>\n",
       "      <td>...</td>\n",
       "      <td>...</td>\n",
       "    </tr>\n",
       "    <tr>\n",
       "      <th>200</th>\n",
       "      <td>-1</td>\n",
       "      <td>volvo</td>\n",
       "      <td>gas</td>\n",
       "      <td>std</td>\n",
       "      <td>sedan</td>\n",
       "      <td>rwd</td>\n",
       "      <td>front</td>\n",
       "      <td>109.1</td>\n",
       "      <td>188.8</td>\n",
       "      <td>55.5</td>\n",
       "      <td>...</td>\n",
       "      <td>four</td>\n",
       "      <td>141</td>\n",
       "      <td>mpfi</td>\n",
       "      <td>3.78</td>\n",
       "      <td>3.15</td>\n",
       "      <td>9.5</td>\n",
       "      <td>114.0</td>\n",
       "      <td>5400.0</td>\n",
       "      <td>23</td>\n",
       "      <td>28</td>\n",
       "    </tr>\n",
       "    <tr>\n",
       "      <th>201</th>\n",
       "      <td>-1</td>\n",
       "      <td>volvo</td>\n",
       "      <td>gas</td>\n",
       "      <td>turbo</td>\n",
       "      <td>sedan</td>\n",
       "      <td>rwd</td>\n",
       "      <td>front</td>\n",
       "      <td>109.1</td>\n",
       "      <td>188.8</td>\n",
       "      <td>55.5</td>\n",
       "      <td>...</td>\n",
       "      <td>four</td>\n",
       "      <td>141</td>\n",
       "      <td>mpfi</td>\n",
       "      <td>3.78</td>\n",
       "      <td>3.15</td>\n",
       "      <td>8.7</td>\n",
       "      <td>160.0</td>\n",
       "      <td>5300.0</td>\n",
       "      <td>19</td>\n",
       "      <td>25</td>\n",
       "    </tr>\n",
       "    <tr>\n",
       "      <th>202</th>\n",
       "      <td>-1</td>\n",
       "      <td>volvo</td>\n",
       "      <td>gas</td>\n",
       "      <td>std</td>\n",
       "      <td>sedan</td>\n",
       "      <td>rwd</td>\n",
       "      <td>front</td>\n",
       "      <td>109.1</td>\n",
       "      <td>188.8</td>\n",
       "      <td>55.5</td>\n",
       "      <td>...</td>\n",
       "      <td>six</td>\n",
       "      <td>173</td>\n",
       "      <td>mpfi</td>\n",
       "      <td>3.58</td>\n",
       "      <td>2.87</td>\n",
       "      <td>8.8</td>\n",
       "      <td>134.0</td>\n",
       "      <td>5500.0</td>\n",
       "      <td>18</td>\n",
       "      <td>23</td>\n",
       "    </tr>\n",
       "    <tr>\n",
       "      <th>203</th>\n",
       "      <td>-1</td>\n",
       "      <td>volvo</td>\n",
       "      <td>diesel</td>\n",
       "      <td>turbo</td>\n",
       "      <td>sedan</td>\n",
       "      <td>rwd</td>\n",
       "      <td>front</td>\n",
       "      <td>109.1</td>\n",
       "      <td>188.8</td>\n",
       "      <td>55.5</td>\n",
       "      <td>...</td>\n",
       "      <td>six</td>\n",
       "      <td>145</td>\n",
       "      <td>idi</td>\n",
       "      <td>3.01</td>\n",
       "      <td>3.40</td>\n",
       "      <td>23.0</td>\n",
       "      <td>106.0</td>\n",
       "      <td>4800.0</td>\n",
       "      <td>26</td>\n",
       "      <td>27</td>\n",
       "    </tr>\n",
       "    <tr>\n",
       "      <th>204</th>\n",
       "      <td>-1</td>\n",
       "      <td>volvo</td>\n",
       "      <td>gas</td>\n",
       "      <td>turbo</td>\n",
       "      <td>sedan</td>\n",
       "      <td>rwd</td>\n",
       "      <td>front</td>\n",
       "      <td>109.1</td>\n",
       "      <td>188.8</td>\n",
       "      <td>55.5</td>\n",
       "      <td>...</td>\n",
       "      <td>four</td>\n",
       "      <td>141</td>\n",
       "      <td>mpfi</td>\n",
       "      <td>3.78</td>\n",
       "      <td>3.15</td>\n",
       "      <td>9.5</td>\n",
       "      <td>114.0</td>\n",
       "      <td>5400.0</td>\n",
       "      <td>19</td>\n",
       "      <td>25</td>\n",
       "    </tr>\n",
       "  </tbody>\n",
       "</table>\n",
       "<p>201 rows × 22 columns</p>\n",
       "</div>"
      ],
      "text/plain": [
       "     symboling         make fuel-type aspiration   body-style drive-wheels  \\\n",
       "0    3          alfa-romero  gas       std        convertible  rwd           \n",
       "1    3          alfa-romero  gas       std        convertible  rwd           \n",
       "2    1          alfa-romero  gas       std        hatchback    rwd           \n",
       "3    2          audi         gas       std        sedan        fwd           \n",
       "4    2          audi         gas       std        sedan        4wd           \n",
       "..  ..           ...         ...       ...          ...        ...           \n",
       "200 -1          volvo        gas       std        sedan        rwd           \n",
       "201 -1          volvo        gas       turbo      sedan        rwd           \n",
       "202 -1          volvo        gas       std        sedan        rwd           \n",
       "203 -1          volvo        diesel    turbo      sedan        rwd           \n",
       "204 -1          volvo        gas       turbo      sedan        rwd           \n",
       "\n",
       "    engine-location  wheel-base  length  height  ...  num-of-cylinders  \\\n",
       "0    front           88.6        168.8   48.8    ...  four               \n",
       "1    front           88.6        168.8   48.8    ...  four               \n",
       "2    front           94.5        171.2   52.4    ...  six                \n",
       "3    front           99.8        176.6   54.3    ...  four               \n",
       "4    front           99.4        176.6   54.3    ...  five               \n",
       "..     ...            ...          ...    ...    ...   ...               \n",
       "200  front           109.1       188.8   55.5    ...  four               \n",
       "201  front           109.1       188.8   55.5    ...  four               \n",
       "202  front           109.1       188.8   55.5    ...  six                \n",
       "203  front           109.1       188.8   55.5    ...  six                \n",
       "204  front           109.1       188.8   55.5    ...  four               \n",
       "\n",
       "    engine-size fuel-system  bore stroke  compression-ratio  horsepower  \\\n",
       "0    130         mpfi        3.47  2.68   9.0                111.0        \n",
       "1    130         mpfi        3.47  2.68   9.0                111.0        \n",
       "2    152         mpfi        2.68  3.47   9.0                154.0        \n",
       "3    109         mpfi        3.19  3.40   10.0               102.0        \n",
       "4    136         mpfi        3.19  3.40   8.0                115.0        \n",
       "..   ...          ...         ...   ...   ...                  ...        \n",
       "200  141         mpfi        3.78  3.15   9.5                114.0        \n",
       "201  141         mpfi        3.78  3.15   8.7                160.0        \n",
       "202  173         mpfi        3.58  2.87   8.8                134.0        \n",
       "203  145         idi         3.01  3.40   23.0               106.0        \n",
       "204  141         mpfi        3.78  3.15   9.5                114.0        \n",
       "\n",
       "     peak-rpm  city-mpg  highway-mpg  \n",
       "0    5000.0    21        27           \n",
       "1    5000.0    21        27           \n",
       "2    5000.0    19        26           \n",
       "3    5500.0    24        30           \n",
       "4    5500.0    18        22           \n",
       "..      ...    ..        ..           \n",
       "200  5400.0    23        28           \n",
       "201  5300.0    19        25           \n",
       "202  5500.0    18        23           \n",
       "203  4800.0    26        27           \n",
       "204  5400.0    19        25           \n",
       "\n",
       "[201 rows x 22 columns]"
      ]
     },
     "execution_count": 482,
     "metadata": {},
     "output_type": "execute_result"
    }
   ],
   "source": [
    "X"
   ]
  },
  {
   "cell_type": "code",
   "execution_count": 483,
   "metadata": {},
   "outputs": [],
   "source": [
    "def change_names(a):\n",
    "    if a==0:\n",
    "        return 'Cheap'\n",
    "    if a==1:\n",
    "        return 'Average'\n",
    "    if a==2:\n",
    "        return 'Expensive'"
   ]
  },
  {
   "cell_type": "code",
   "execution_count": 484,
   "metadata": {},
   "outputs": [],
   "source": [
    "df.price = df.price.apply(change_names)"
   ]
  },
  {
   "cell_type": "code",
   "execution_count": 485,
   "metadata": {},
   "outputs": [
    {
     "ename": "NameError",
     "evalue": "name 'fig_data' is not defined",
     "output_type": "error",
     "traceback": [
      "\u001b[1;31m---------------------------------------------------------------------------\u001b[0m",
      "\u001b[1;31mNameError\u001b[0m                                 Traceback (most recent call last)",
      "\u001b[1;32m<ipython-input-485-311345ada263>\u001b[0m in \u001b[0;36m<module>\u001b[1;34m\u001b[0m\n\u001b[0;32m      2\u001b[0m \u001b[0mplt\u001b[0m\u001b[1;33m.\u001b[0m\u001b[0mfigure\u001b[0m\u001b[1;33m(\u001b[0m\u001b[0mfigsize\u001b[0m\u001b[1;33m=\u001b[0m\u001b[1;33m(\u001b[0m\u001b[1;36m16\u001b[0m\u001b[1;33m,\u001b[0m\u001b[1;36m12\u001b[0m\u001b[1;33m)\u001b[0m\u001b[1;33m)\u001b[0m\u001b[1;33m\u001b[0m\u001b[1;33m\u001b[0m\u001b[0m\n\u001b[0;32m      3\u001b[0m \u001b[1;31m# Plot a grid with count plots of all categorical variables\u001b[0m\u001b[1;33m\u001b[0m\u001b[1;33m\u001b[0m\u001b[1;33m\u001b[0m\u001b[0m\n\u001b[1;32m----> 4\u001b[1;33m \u001b[1;32mfor\u001b[0m \u001b[0mj\u001b[0m \u001b[1;32min\u001b[0m \u001b[0mfig_data\u001b[0m\u001b[1;33m:\u001b[0m\u001b[1;33m\u001b[0m\u001b[1;33m\u001b[0m\u001b[0m\n\u001b[0m\u001b[0;32m      5\u001b[0m     \u001b[0mplt\u001b[0m\u001b[1;33m.\u001b[0m\u001b[0msubplot\u001b[0m\u001b[1;33m(\u001b[0m\u001b[1;36m2\u001b[0m\u001b[1;33m,\u001b[0m\u001b[1;36m3\u001b[0m\u001b[1;33m,\u001b[0m\u001b[0mq\u001b[0m\u001b[1;33m)\u001b[0m\u001b[1;33m\u001b[0m\u001b[1;33m\u001b[0m\u001b[0m\n\u001b[0;32m      6\u001b[0m     \u001b[0max\u001b[0m\u001b[1;33m=\u001b[0m\u001b[0msns\u001b[0m\u001b[1;33m.\u001b[0m\u001b[0mcountplot\u001b[0m\u001b[1;33m(\u001b[0m\u001b[0mdf\u001b[0m\u001b[1;33m[\u001b[0m\u001b[0mj\u001b[0m\u001b[1;33m]\u001b[0m\u001b[1;33m,\u001b[0m\u001b[0mhue\u001b[0m\u001b[1;33m=\u001b[0m\u001b[0mdf\u001b[0m\u001b[1;33m.\u001b[0m\u001b[0mExited\u001b[0m\u001b[1;33m,\u001b[0m \u001b[0mpalette\u001b[0m\u001b[1;33m=\u001b[0m\u001b[1;33m[\u001b[0m\u001b[1;34m'#D7263D'\u001b[0m\u001b[1;33m,\u001b[0m\u001b[1;34m'#27FB6B'\u001b[0m\u001b[1;33m]\u001b[0m\u001b[1;33m)\u001b[0m\u001b[1;33m\u001b[0m\u001b[1;33m\u001b[0m\u001b[0m\n",
      "\u001b[1;31mNameError\u001b[0m: name 'fig_data' is not defined"
     ]
    },
    {
     "data": {
      "text/plain": [
       "<Figure size 1152x864 with 0 Axes>"
      ]
     },
     "metadata": {},
     "output_type": "display_data"
    }
   ],
   "source": [
    "q=1\n",
    "plt.figure(figsize=(16,12))\n",
    "# Plot a grid with count plots of all categorical variables\n",
    "for j in fig_data:\n",
    "    plt.subplot(2,3,q)\n",
    "    ax=sns.countplot(df[j],hue=df.Exited, palette=['#D7263D','#27FB6B'])\n",
    "    plt.xlabel(j)\n",
    "    q+=1\n",
    "plt.show()"
   ]
  },
  {
   "cell_type": "code",
   "execution_count": null,
   "metadata": {},
   "outputs": [],
   "source": [
    "plt.figure(figsize=(14,9))\n",
    "plt.subplot(2,2,1)\n",
    "sns.boxplot(x='price', y='curb-weight', data=df)\n",
    "plt.xlabel('')\n",
    "plt.subplot(2,2,2)\n",
    "sns.boxplot(x='price', y='stroke', data=df)\n",
    "plt.xlabel('')\n",
    "plt.subplot(2,2,3)\n",
    "sns.boxplot(x='price', y='highway-mpg', data=df)\n",
    "plt.xlabel('')\n",
    "plt.subplot(2,2,4)\n",
    "sns.boxplot(x='price', y='city-mpg', data=df)\n",
    "plt.xlabel('')\n",
    "plt.show()"
   ]
  },
  {
   "cell_type": "code",
   "execution_count": 422,
   "metadata": {},
   "outputs": [
    {
     "data": {
      "text/plain": [
       "Expensive    68\n",
       "Cheap        67\n",
       "Average      66\n",
       "Name: price, dtype: int64"
      ]
     },
     "execution_count": 422,
     "metadata": {},
     "output_type": "execute_result"
    }
   ],
   "source": [
    "df.price.value_counts()"
   ]
  },
  {
   "cell_type": "code",
   "execution_count": null,
   "metadata": {},
   "outputs": [],
   "source": []
  }
 ],
 "metadata": {
  "kernelspec": {
   "display_name": "Python 3",
   "language": "python",
   "name": "python3"
  },
  "language_info": {
   "codemirror_mode": {
    "name": "ipython",
    "version": 3
   },
   "file_extension": ".py",
   "mimetype": "text/x-python",
   "name": "python",
   "nbconvert_exporter": "python",
   "pygments_lexer": "ipython3",
   "version": "3.7.6"
  }
 },
 "nbformat": 4,
 "nbformat_minor": 4
}
